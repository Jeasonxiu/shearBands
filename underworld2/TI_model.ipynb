{
 "cells": [
  {
   "cell_type": "markdown",
   "metadata": {},
   "source": [
    "## Shear bands\n",
    "\n",
    "This series of notebook explores shear band emergence. The models are based on \n",
    "\n",
    "\n",
    "Spiegelman, Marc, Dave A. May, and Cian R. Wilson. \"On the solvability of incompressible Stokes with viscoplastic rheologies in geodynamics.\" Geochemistry, Geophysics, Geosystems (2016).\n",
    "\n",
    "We first implement the instantaneous model described in that paper, and then look at the at series of extensions\n",
    "\n",
    "* mohr-coloumb criteria as in kaus \n",
    "\n",
    "* transverse isotropic plasticity\n",
    "\n",
    "* elasticity\n",
    "\n",
    "* sticky air vs neumann\n",
    "\n",
    "\n",
    "* time dependence, hardening/softening\n",
    "\n",
    "questions:\n",
    "\n",
    "* how do we get the plastic part of the strain\n",
    "* can we control the solver - i.e do the Picard iterations manually\n",
    "* how should we do the pressure split for long term models?\n",
    "    * track the surface and integrate down, or do a 'static solve'\n",
    "    \n",
    "    \n",
    "    \n",
    "## Scaling\n",
    "\n",
    "Of course, the magnitude of the nonlinear residual will depend on how the problem is scaled and we find that it is useful to scale variables such that they are roughly O(1) when solving. For this problem, we scale velocities by U0, viscosities by g051022 Pa s, and stresses/pressures by g0U0=H where H \n",
    "\n",
    "### NOTES\n",
    "\n",
    "   1) This notebook also introduces Lagrangian integration with higher order elements. In this case it is necessary to  manually introduce the swarm population manager and explicitly call for the re-population of the elements after the particles have been advected.\n",
    "   \n",
    "   2) The mesh is deformed to follow the moving boundaries. This is an ALE problem in which the material history attached to the particles and the boundary-deformation history is attached to the mesh. \n",
    "   \n",
    "   3) There is no thermal component to this notebook and hence no ALE correction for the moving mesh applies to the advection term.\n"
   ]
  },
  {
   "cell_type": "code",
   "execution_count": 169,
   "metadata": {
    "collapsed": false
   },
   "outputs": [],
   "source": [
    "import numpy as np\n",
    "import underworld as uw\n",
    "import math\n",
    "from underworld import function as fn\n",
    "import glucifer\n",
    "\n",
    "import os\n",
    "import sys\n",
    "import natsort\n",
    "import shutil\n",
    "from easydict import EasyDict as edict\n",
    "import operator\n",
    "import pint\n",
    "import time\n",
    "import operator\n",
    "\n",
    "from mpi4py import MPI\n",
    "comm = MPI.COMM_WORLD\n",
    "rank = comm.Get_rank()"
   ]
  },
  {
   "cell_type": "code",
   "execution_count": 170,
   "metadata": {
    "collapsed": false
   },
   "outputs": [],
   "source": [
    "#####\n",
    "#Stubborn version number conflicts - For now...\n",
    "#####\n",
    "try:\n",
    "    natsort.natsort = natsort.natsorted\n",
    "except:\n",
    "    natsort.natsort = natsort.natsort"
   ]
  },
  {
   "cell_type": "code",
   "execution_count": 171,
   "metadata": {
    "collapsed": true
   },
   "outputs": [],
   "source": [
    "#In case NN swarm interpolation is required\n",
    "\n",
    "from scipy.spatial import cKDTree as kdTree\n",
    "\n",
    "def nn_evaluation(fromSwarm, toSwarm, n=1, weighted=False):\n",
    "    \"\"\"\n",
    "    This function provides nearest neighbour information for uw swarms, \n",
    "    given the \"toSwarm\", this function returns the indices of the n nearest neighbours in \"fromSwarm\"\n",
    "    it also returns the inverse-distance if weighted=True. \n",
    "    \n",
    "    The function works in parallel.\n",
    "    \n",
    "    The arrays come out a bit differently when used in nearest neighbour form\n",
    "    (n = 1), or IDW: (n > 1). The examples belowe show how to fill out a swarm variable in each case. \n",
    "    \n",
    "    \n",
    "    Usage n == 1:\n",
    "    ------------\n",
    "    ix, weights = nn_evaluation(swarm, data, n=1, weighted=False)\n",
    "    toSwarmVar.data[:][:,0] = np.average(fromSwarmVar[ix][:,0], weights=weights)\n",
    "    \n",
    "    Usage n > 1:\n",
    "    ------------\n",
    "    ix, weights = nn_evaluation(swarm, data, n=2, weighted=False)\n",
    "    toSwarmVar.data[:][:,0] =  np.average(fromSwarmVar[ix][:,:,0], weights=weights, axis=1)\n",
    "    \n",
    "    \"\"\"\n",
    "    \n",
    "    \n",
    "    if len(toSwarm) > 0: #this is required for safety in parallel\n",
    "        \n",
    "        #this should avoid building the tree again when this function is called multiple times.\n",
    "        try:\n",
    "            tree = fromSwarm.tree\n",
    "            #print(1)\n",
    "        except:\n",
    "            #print(2)\n",
    "            fromSwarm.tree = kdTree(fromSwarm.particleCoordinates.data)\n",
    "            tree = fromSwarm.tree\n",
    "        d, ix = tree.query(toSwarm, n)\n",
    "        if n == 1:\n",
    "            weights = np.ones(toSwarm.shape[0])\n",
    "        elif not weighted:\n",
    "            weights = np.ones((toSwarm.shape[0], n))*(1./n)\n",
    "        else:\n",
    "            weights = (1./d[:])/(1./d[:]).sum(axis=1)[:,None]\n",
    "        return ix,  weights \n",
    "    else:\n",
    "        return [], []"
   ]
  },
  {
   "cell_type": "markdown",
   "metadata": {},
   "source": [
    "Model name and directories\n",
    "-----"
   ]
  },
  {
   "cell_type": "code",
   "execution_count": 172,
   "metadata": {
    "collapsed": true
   },
   "outputs": [],
   "source": [
    "############\n",
    "#Model letter and number\n",
    "############\n",
    "\n",
    "\n",
    "#Model letter identifier default\n",
    "Model = \"T\"\n",
    "\n",
    "#Model number identifier default:\n",
    "ModNum = 0\n",
    "\n",
    "#Any isolated letter / integer command line args are interpreted as Model/ModelNum\n",
    "\n",
    "if len(sys.argv) == 1:\n",
    "    ModNum = ModNum \n",
    "elif sys.argv[1] == '-f': #\n",
    "    ModNum = ModNum \n",
    "else:\n",
    "    for farg in sys.argv[1:]:\n",
    "        if not '=' in farg: #then Assume it's a not a paramter argument\n",
    "            try:\n",
    "                ModNum = int(farg) #try to convert everingthing to a float, else remains string\n",
    "            except ValueError:\n",
    "                Model  = farg"
   ]
  },
  {
   "cell_type": "code",
   "execution_count": 173,
   "metadata": {
    "collapsed": false
   },
   "outputs": [],
   "source": [
    "###########\n",
    "#Standard output directory setup\n",
    "###########\n",
    "\n",
    "outputPath = \"results\" + \"/\" +  str(Model) + \"/\" + str(ModNum) + \"/\" \n",
    "imagePath = outputPath + 'images/'\n",
    "filePath = outputPath + 'files/'\n",
    "checkpointPath = outputPath + 'checkpoint/'\n",
    "dbPath = outputPath + 'gldbs/'\n",
    "outputFile = 'results_model' + Model + '_' + str(ModNum) + '.dat'\n",
    "\n",
    "if uw.rank()==0:\n",
    "    # make directories if they don't exist\n",
    "    if not os.path.isdir(outputPath):\n",
    "        os.makedirs(outputPath)\n",
    "    if not os.path.isdir(checkpointPath):\n",
    "        os.makedirs(checkpointPath)\n",
    "    if not os.path.isdir(imagePath):\n",
    "        os.makedirs(imagePath)\n",
    "    if not os.path.isdir(dbPath):\n",
    "        os.makedirs(dbPath)\n",
    "    if not os.path.isdir(filePath):\n",
    "        os.makedirs(filePath)\n",
    "\n",
    "        \n",
    "comm.Barrier() #Barrier here so no procs run the check in the next cell too early"
   ]
  },
  {
   "cell_type": "markdown",
   "metadata": {},
   "source": [
    "## Set parameter dictionaries\n",
    "\n",
    "* Parameters are stored in dictionaries. \n",
    "* If starting from checkpoint, parameters are loaded using pickle\n",
    "* If params are passed in as flags to the script, they overwrite \n"
   ]
  },
  {
   "cell_type": "code",
   "execution_count": null,
   "metadata": {
    "collapsed": true
   },
   "outputs": [],
   "source": []
  },
  {
   "cell_type": "code",
   "execution_count": 174,
   "metadata": {
    "collapsed": false
   },
   "outputs": [],
   "source": [
    "###########\n",
    "#Parameter / settings dictionaries get saved&loaded using pickle\n",
    "###########\n",
    " \n",
    "dp = edict({}) #dimensional parameters\n",
    "sf = edict({}) #scaling factors\n",
    "ndp = edict({}) #dimensionless paramters\n",
    "md = edict({}) #model paramters, flags etc\n",
    "#od = edict({}) #output frequencies\n",
    " \n",
    "\n",
    "\n",
    "dict_list = [dp, sf, ndp, md]\n",
    "dict_names = ['dp.pkl', 'sf.pkl', 'ndp.pkl', 'md.pkl']\n",
    "\n"
   ]
  },
  {
   "cell_type": "code",
   "execution_count": 175,
   "metadata": {
    "collapsed": false
   },
   "outputs": [],
   "source": [
    "###########\n",
    "#Store the physical parameters, scale factors and dimensionless pramters in easyDicts\n",
    "#dp : dimensional paramters\n",
    "###########\n",
    "\n",
    "\n",
    "dp = edict({#'LS':10*1e3, #Scaling Length scale\n",
    "            'LS':30*1e3, #Scaling Length scale\n",
    "            #'asthenosphere': (0.*1e3)/4, #level from bottom of model,\n",
    "            'asthenosphere': (30*1e3)/4, #level from bottom of model, \n",
    "            'eta0':1e21,\n",
    "            'eta1':1e23,\n",
    "            'eta2':1e20,\n",
    "            'etaMin':1e18,\n",
    "            #'U0':0.006/(3600*24*365),  #m/s kaus\n",
    "            'U0':0.0125/(3600*24*365),  #m/s speigelman et al\n",
    "            'rho': 2700., #kg/m3\n",
    "            'g':9.81,\n",
    "            'cohesion':100e6, #speigelman et al\n",
    "            #'cohesion':60e6, \n",
    "            'fa':15.,        #friction angle degrees\n",
    "            'a':1.\n",
    "            })\n",
    "\n",
    "\n",
    "dp.notchWidth = dp.LS/16."
   ]
  },
  {
   "cell_type": "code",
   "execution_count": 176,
   "metadata": {
    "collapsed": false
   },
   "outputs": [],
   "source": [
    "#Modelling and Physics switches\n",
    "#md : model dictionary\n",
    "\n",
    "md = edict({'refineMesh':False,\n",
    "            'stickyAir':False,\n",
    "            'aspectRatio':4.,\n",
    "            'res':48,\n",
    "            'ppc':35,\n",
    "            'tol':1e-7,\n",
    "            'maxIts':50,\n",
    "            'directorPhi':45., #if this is , angle is same as maximum shear \n",
    "            'directorV': 1e-5, #if this is false , angle is taken as tan(fa) / 2.\n",
    "            'directorSigma':1e-5 #standard deviation in fault orientation\n",
    "           })"
   ]
  },
  {
   "cell_type": "code",
   "execution_count": 177,
   "metadata": {
    "collapsed": true
   },
   "outputs": [],
   "source": [
    "###########\n",
    "#If command line args are given, overwrite\n",
    "#Note that this assumes that params as commans line args/\n",
    "#only append to the 'dimensional' and 'model' dictionary (not the non-dimensional)\n",
    "###########    \n",
    "\n",
    "\n",
    "###########\n",
    "#If extra arguments are provided to the script\" eg:\n",
    "### >>> uw.py 2 dp.arg1=1 dp.arg2=foo dp.arg3=3.0\n",
    "###\n",
    "###This would assign ModNum = 2, all other values go into the dp dictionary, under key names provided\n",
    "###\n",
    "###Two operators are searched for, = & *=\n",
    "###\n",
    "###If =, parameter is re-assigned to givn value\n",
    "###If *=, parameter is multipled by given value\n",
    "###\n",
    "### >>> uw.py 2 dp.arg1=1 dp.arg2=foo dp.arg3*=3.0\n",
    "###########\n",
    "\n",
    "for farg in sys.argv[1:]:\n",
    "    try:\n",
    "        (dicitem,val) = farg.split(\"=\") #Split on equals operator\n",
    "        (dic,arg) = dicitem.split(\".\") #colon notation\n",
    "        if '*=' in farg:\n",
    "            (dicitem,val) = farg.split(\"*=\") #If in-place multiplication, split on '*='\n",
    "            (dic,arg) = dicitem.split(\".\")\n",
    "            \n",
    "        if val == 'True': \n",
    "            val = True\n",
    "        elif val == 'False':     #First check if args are boolean\n",
    "            val = False\n",
    "        else:\n",
    "            try:\n",
    "                val = float(val) #next try to convert  to a float,\n",
    "            except ValueError:\n",
    "                pass             #otherwise leave as string\n",
    "        #Update the dictionary\n",
    "        if farg.startswith('dp'):\n",
    "            if '*=' in farg:\n",
    "                dp[arg] = dp[arg]*val #multiply parameter by given factor\n",
    "            else:\n",
    "                dp[arg] = val    #or reassign parameter by given value\n",
    "        if farg.startswith('md'):\n",
    "            if '*=' in farg:\n",
    "                md[arg] = md[arg]*val #multiply parameter by given factor\n",
    "            else:\n",
    "                md[arg] = val    #or reassign parameter by given value\n",
    "                \n",
    "    except:\n",
    "        pass\n",
    "            \n",
    "\n",
    "comm.barrier()"
   ]
  },
  {
   "cell_type": "code",
   "execution_count": 178,
   "metadata": {
    "collapsed": false
   },
   "outputs": [
    {
     "data": {
      "text/plain": [
       "27000000000000.0"
      ]
     },
     "execution_count": 178,
     "metadata": {},
     "output_type": "execute_result"
    }
   ],
   "source": [
    "dp.LS**3"
   ]
  },
  {
   "cell_type": "code",
   "execution_count": 179,
   "metadata": {
    "collapsed": false
   },
   "outputs": [],
   "source": [
    "#Only build these guys first time around, otherwise the read from checkpoints\n",
    "#Important because some of these params (like SZ location) may change during model evolution\n",
    "\n",
    "\n",
    "#sf : scaling factors\n",
    "#ndp : non dimensional paramters\n",
    "\n",
    "\n",
    "\n",
    "sf = edict({'stress':(dp.eta0*dp.U0)/dp.LS,\n",
    "            'vel':dp.U0,\n",
    "            'density':dp.LS**3,\n",
    "            'g':dp.g,\n",
    "            'rho':(dp.eta0*dp.U0)/(dp.LS**2*dp.g)\n",
    "           })\n",
    "\n",
    "#dimensionless parameters\n",
    "\n",
    "ndp = edict({'U':dp.U0/sf.vel,\n",
    "             'asthenosphere':dp.asthenosphere/dp.LS,\n",
    "             'eta1':dp.eta1/dp.eta0,\n",
    "             'eta2':dp.eta2/dp.eta0,\n",
    "             'etaMin':dp.etaMin/dp.eta0,\n",
    "             'cohesion':dp.cohesion/sf.stress,\n",
    "             'fa':math.tan((math.pi/180.)*dp.fa), #convert friction angle to coefficient,\n",
    "             'g': dp.g/sf.g,\n",
    "             'rho':dp.rho/sf.rho,\n",
    "             'notchWidth':dp.notchWidth/dp.LS,\n",
    "             'a':dp.a\n",
    "            \n",
    "            }) "
   ]
  },
  {
   "cell_type": "code",
   "execution_count": null,
   "metadata": {
    "collapsed": true
   },
   "outputs": [],
   "source": []
  },
  {
   "cell_type": "code",
   "execution_count": 180,
   "metadata": {
    "collapsed": false
   },
   "outputs": [],
   "source": [
    "\n",
    "#this is effectively the gravity force in the Spiegelman models, inner(v_t,f_i)/L2h2)\n",
    "#L2h2 = ((dp.eta0*dp.U0/(dp.rho*dp.g))/dp.LS**2), \n",
    "#f_i = (1,1)\n",
    "\n",
    "#ndp.rho"
   ]
  },
  {
   "cell_type": "markdown",
   "metadata": {},
   "source": [
    "Create mesh and finite element variables\n",
    "------\n",
    "\n",
    "Note: the use of a pressure-sensitive rheology suggests that it is important to use a Q2/dQ1 element "
   ]
  },
  {
   "cell_type": "code",
   "execution_count": 181,
   "metadata": {
    "collapsed": false
   },
   "outputs": [],
   "source": [
    "\n",
    "minX  = -2.0\n",
    "maxX  =  2.0\n",
    "maxY  = 1.0\n",
    "meshV =  1.0\n",
    "\n",
    "if md.stickyAir:\n",
    "    maxY  = 1.1\n",
    "\n",
    "\n",
    "resY = int(md.res)\n",
    "resX = int(resY*md.aspectRatio)\n",
    "\n",
    "elementType=\"Q2/dPc1\"  # This is enough for a test but not to use the code in anger\n",
    "\n",
    "mesh = uw.mesh.FeMesh_Cartesian( elementType = (elementType), \n",
    "                                 elementRes  = ( resX, resY), \n",
    "                                 minCoord    = ( minX, 0.), \n",
    "                                 maxCoord    = ( maxX, maxY),\n",
    "                                 periodic    = [False, False]  ) \n",
    "\n",
    "\n",
    "\n",
    "velocityField    = uw.mesh.MeshVariable( mesh=mesh,         nodeDofCount=mesh.dim )\n",
    "pressureField    = uw.mesh.MeshVariable( mesh=mesh.subMesh, nodeDofCount=1 )\n",
    "\n",
    "velocityField.data[:] = [0.,0.]\n",
    "pressureField.data[:] = 0."
   ]
  },
  {
   "cell_type": "markdown",
   "metadata": {},
   "source": [
    "### Boundary conditions\n",
    "\n",
    "Pure shear with moving  walls — all boundaries are zero traction with "
   ]
  },
  {
   "cell_type": "code",
   "execution_count": 182,
   "metadata": {
    "collapsed": false
   },
   "outputs": [],
   "source": [
    "iWalls = mesh.specialSets[\"MinI_VertexSet\"] + mesh.specialSets[\"MaxI_VertexSet\"]\n",
    "jWalls = mesh.specialSets[\"MinJ_VertexSet\"] + mesh.specialSets[\"MaxJ_VertexSet\"]\n",
    "base   = mesh.specialSets[\"MinJ_VertexSet\"]\n",
    "top    = mesh.specialSets[\"MaxJ_VertexSet\"]\n",
    "\n",
    "allWalls = iWalls + jWalls\n",
    "\n",
    "velocityBCs = uw.conditions.DirichletCondition( variable        = velocityField, \n",
    "                                                indexSetsPerDof = (iWalls, base) )\n",
    "\n",
    "for index in mesh.specialSets[\"MinI_VertexSet\"]:\n",
    "    velocityField.data[index] = [meshV, 0.]\n",
    "for index in mesh.specialSets[\"MaxI_VertexSet\"]:\n",
    "    velocityField.data[index] = [ -meshV, 0.]\n",
    "    "
   ]
  },
  {
   "cell_type": "markdown",
   "metadata": {},
   "source": [
    "### Setup the material swarm and passive tracers\n",
    "\n",
    "The material swarm is used for tracking deformation and history dependence of the rheology\n",
    "\n",
    "Passive swarms can track all sorts of things but lack all the machinery for integration and re-population"
   ]
  },
  {
   "cell_type": "code",
   "execution_count": 183,
   "metadata": {
    "collapsed": false
   },
   "outputs": [],
   "source": [
    "swarm  = uw.swarm.Swarm( mesh=mesh )\n",
    "swarmLayout = uw.swarm.layouts.GlobalSpaceFillerLayout( swarm=swarm, particlesPerCell=int(md.ppc) )\n",
    "swarm.populate_using_layout( layout=swarmLayout )\n",
    "\n",
    "# create pop control object\n",
    "pop_control = uw.swarm.PopulationControl(swarm)\n",
    "\n",
    "surfaceSwarm = uw.swarm.Swarm( mesh=mesh )\n"
   ]
  },
  {
   "cell_type": "markdown",
   "metadata": {},
   "source": [
    "### Create a particle advection system\n",
    "\n",
    "Note that we need to set up one advector systems for each particle swarm (our global swarm and a separate one if we add passive tracers)."
   ]
  },
  {
   "cell_type": "code",
   "execution_count": 184,
   "metadata": {
    "collapsed": false
   },
   "outputs": [],
   "source": [
    "advector        = uw.systems.SwarmAdvector( swarm=swarm,            velocityField=velocityField, order=2 )\n",
    "advector2       = uw.systems.SwarmAdvector( swarm=surfaceSwarm,     velocityField=velocityField, order=2 )\n"
   ]
  },
  {
   "cell_type": "markdown",
   "metadata": {},
   "source": [
    "### Add swarm variables\n",
    "\n",
    "We are using a single material with a single rheology. We need to track the plastic strain in order to have some manner of strain-related softening (e.g. of the cohesion or the friction coefficient). For visualisation of swarm data we need an actual swarm variable and not just the computation.\n",
    "\n",
    "Other variables are used to track deformation in the shear band etc.\n",
    "\n",
    "**NOTE**:  Underworld needs all the swarm variables defined before they are initialised or there will be / can be memory problems (at least it complains about them !). That means we need to add the monitoring variables now, even if we don't always need them."
   ]
  },
  {
   "cell_type": "code",
   "execution_count": 185,
   "metadata": {
    "collapsed": false
   },
   "outputs": [],
   "source": [
    "# Tracking different materials\n",
    "\n",
    "materialVariable = swarm.add_variable( dataType=\"int\", count=1 )\n",
    "\n",
    "directorVector   = swarm.add_variable( dataType=\"double\", count=2)\n",
    "principleStress   = swarm.add_variable( dataType=\"double\", count=2)\n",
    "\n",
    "\n",
    "\n",
    "# passive markers at the surface\n",
    "\n",
    "surfacePoints = np.zeros((1000,2))\n",
    "surfacePoints[:,0] = np.linspace(minX+0.01, maxX-0.01, 1000)\n",
    "surfacePoints[:,1] = 1.0 #\n",
    "\n",
    "surfaceSwarm.add_particles_with_coordinates( surfacePoints )\n",
    "yvelsurfVar = surfaceSwarm.add_variable( dataType=\"double\", count=1)\n"
   ]
  },
  {
   "cell_type": "markdown",
   "metadata": {},
   "source": [
    "### Initialise swarm variables\n"
   ]
  },
  {
   "cell_type": "code",
   "execution_count": 186,
   "metadata": {
    "collapsed": true
   },
   "outputs": [],
   "source": [
    "yvelsurfVar.data[...] = (0.)\n",
    "materialVariable.data[...] = 0"
   ]
  },
  {
   "cell_type": "markdown",
   "metadata": {},
   "source": [
    "### Material distribution in the domain.\n",
    "\n"
   ]
  },
  {
   "cell_type": "code",
   "execution_count": 187,
   "metadata": {
    "collapsed": false
   },
   "outputs": [],
   "source": [
    "# Initialise the 'materialVariable' data to represent different materials. \n",
    "material1 = 1 # viscoplastic\n",
    "material0 = 0 # accommodation layer a.k.a. Sticky Air\n",
    "material2 = 2 # Under layer \n",
    "\n",
    "\n",
    "materialVariable.data[:] = 0.\n",
    "\n",
    "# The particle coordinates will be the input to the function evaluate (see final line in this cell).\n",
    "# We get proxy for this now using the input() function.\n",
    "\n",
    "coord = fn.input()\n",
    "\n",
    "# Setup the conditions list for the following conditional function. Where the\n",
    "# z coordinate (coordinate[1]) is less than the perturbation, set to lightIndex.\n",
    "\n",
    "\n",
    "\n",
    "#notchWidth = (1./32.) * md.notch_fac\n",
    "\n",
    "notchCond = operator.and_(coord[1] < ndp.asthenosphere + ndp.notchWidth, operator.and_(coord[0] < ndp.notchWidth, coord[0] > -1.*ndp.notchWidth )  )\n",
    "\n",
    "mu = ndp.notchWidth\n",
    "sig =  0.25*ndp.notchWidth\n",
    "gausFn1 = ndp.notchWidth*fn.math.exp(-1.*(coord[0] - mu)**2/(2 * sig**2)) + ndp.asthenosphere\n",
    "mu = -1.*ndp.notchWidth\n",
    "gausFn2 = ndp.notchWidth*fn.math.exp(-1.*(coord[0] - mu)**2/(2 * sig**2)) + ndp.asthenosphere\n",
    "\n",
    "conditions = [ (       coord[1] > 1.0 , material0 ), #air\n",
    "               (       coord[1] < ndp.asthenosphere , material2 ), #asthenosphere\n",
    "               (       coord[1] < gausFn1 , material2 ), #asthenosphere\n",
    "               (       coord[1] < gausFn2 , material2 ), #asthenosphere       \n",
    "\n",
    "               (       notchCond , material2 ),\n",
    "               (       True ,           material1 ) ]  #visco-plastic\n",
    "\n",
    "# The actual function evaluation. Here the conditional function is evaluated at the location\n",
    "# of each swarm particle. The results are then written to the materialVariable swarm variable.\n",
    "\n",
    "materialVariable.data[:] = fn.branching.conditional( conditions ).evaluate(swarm)"
   ]
  },
  {
   "cell_type": "code",
   "execution_count": 188,
   "metadata": {
    "collapsed": false
   },
   "outputs": [],
   "source": [
    "figMat = glucifer.Figure( figsize=(1200,400), boundingBox=((-2.0, 0.0, 0.0), (2.0, 1.0, 0.0)) )\n",
    "figMat.append( glucifer.objects.Points(swarm,materialVariable, pointSize=2.0) )\n",
    "figMat.append( glucifer.objects.Mesh(mesh))\n",
    "#figMat.show()"
   ]
  },
  {
   "cell_type": "code",
   "execution_count": null,
   "metadata": {
    "collapsed": true
   },
   "outputs": [],
   "source": []
  },
  {
   "cell_type": "markdown",
   "metadata": {
    "collapsed": true
   },
   "source": [
    "## Buoyancy forces\n",
    "\n",
    "In this example, no buoyancy forces are included in the Stokes system, the Pressures that appear are dynamic (p'). We add the appropriate lithostatic component to the Drucker-Prager yield criterion."
   ]
  },
  {
   "cell_type": "code",
   "execution_count": 189,
   "metadata": {
    "collapsed": true
   },
   "outputs": [],
   "source": [
    "lithPressureFn = ndp.rho* (1. - coord[1])\n"
   ]
  },
  {
   "cell_type": "markdown",
   "metadata": {},
   "source": [
    "## Background Rheology"
   ]
  },
  {
   "cell_type": "code",
   "execution_count": 190,
   "metadata": {
    "collapsed": true
   },
   "outputs": [],
   "source": [
    "strainRateFn = fn.tensor.symmetric( velocityField.fn_gradient )\n",
    "strainRate_2ndInvariantFn = fn.tensor.second_invariant(strainRateFn)"
   ]
  },
  {
   "cell_type": "code",
   "execution_count": 191,
   "metadata": {
    "collapsed": false
   },
   "outputs": [],
   "source": [
    "##Background viscosity\n",
    "\n",
    "visc0 = 0.01      #if sticky air\n",
    "visc1 = ndp.eta1\n",
    "visc2 = ndp.eta2\n",
    "\n",
    "\n",
    "viscosityMap = { material0: visc0, material1:visc1, material2:visc2 }\n",
    "\n",
    "backgroundViscosityFn  = fn.branching.map( fn_key = materialVariable, \n",
    "                                           mapping = viscosityMap )"
   ]
  },
  {
   "cell_type": "code",
   "execution_count": 192,
   "metadata": {
    "collapsed": true
   },
   "outputs": [],
   "source": [
    "# Friction - in this form it could also be made to weaken with strain\n",
    "\n",
    "\n",
    "cohesion0       = fn.misc.constant(ndp.cohesion)\n",
    "cohesionFn = cohesion0\n",
    "\n",
    "# Drucker-Prager yield criterion\n",
    "\n",
    "\n",
    "yieldStressFn   = cohesionFn + ndp.fa *(lithPressureFn + ndp.a*pressureField ) \n",
    "\n",
    "#yieldStressFn   = cohesionFn + ndp.fa *(lithPressureFn + ndp.a*fn.misc.max(fn.misc.constant(0.), pressureField) ) #in this case only positive dynamic pressures\n",
    "\n",
    "\n",
    "# first define strain rate tensor\n",
    "\n",
    "strainRateFn = fn.tensor.symmetric( velocityField.fn_gradient )\n",
    "strainRate_2ndInvariantFn = fn.tensor.second_invariant(strainRateFn)\n",
    "\n",
    "# now compute a viscosity assuming yielding\n",
    "\n",
    "#min_viscosity = visc0  # same as the air ... \n",
    "\n",
    "yieldingViscosityFn =  0.5 * yieldStressFn / (strainRate_2ndInvariantFn+1.0e-18)\n",
    "\n",
    "#viscosityFn = fn.exception.SafeMaths( fn.misc.max(fn.misc.min(yieldingViscosityFn, \n",
    "#                                                              backgroundViscosityFn), \n",
    "#                                                  min_viscosity))\n",
    "\n",
    "\n",
    "viscosityFn = fn.exception.SafeMaths( fn.misc.max(\n",
    "                                              1./((1./yieldingViscosityFn) + (1./backgroundViscosityFn))\n",
    "                                             , ndp.etaMin))"
   ]
  },
  {
   "cell_type": "markdown",
   "metadata": {},
   "source": [
    "## Initial Stokes solve to compute the stresses\n"
   ]
  },
  {
   "cell_type": "code",
   "execution_count": null,
   "metadata": {
    "collapsed": true
   },
   "outputs": [],
   "source": []
  },
  {
   "cell_type": "code",
   "execution_count": 193,
   "metadata": {
    "collapsed": true
   },
   "outputs": [],
   "source": [
    "stokes = uw.systems.Stokes(    velocityField = velocityField, \n",
    "                               pressureField = pressureField,\n",
    "                               conditions    = velocityBCs,\n",
    "                               fn_viscosity  = viscosityFn)\n",
    "\n",
    "solver = uw.systems.Solver( stokes )"
   ]
  },
  {
   "cell_type": "code",
   "execution_count": 194,
   "metadata": {
    "collapsed": false
   },
   "outputs": [],
   "source": [
    "solver.solve(nonLinearIterate=True, nonLinearMaxIterations=1)"
   ]
  },
  {
   "cell_type": "code",
   "execution_count": 195,
   "metadata": {
    "collapsed": false
   },
   "outputs": [],
   "source": [
    "strainRateFn = fn.tensor.symmetric( velocityField.fn_gradient )\n",
    "LFn = velocityField.fn_gradient \n"
   ]
  },
  {
   "cell_type": "code",
   "execution_count": 196,
   "metadata": {
    "collapsed": false
   },
   "outputs": [],
   "source": [
    "#get the principal stress orientations based on the linear solve\n",
    "\n",
    "sRt = strainRateFn.evaluate(swarm)\n",
    "#principalAngles= 0.5*np.arctan(2.*sRt[:,2]/((sRt[:,0] + 1e-14) - sRt[:,1]))*(180./math.pi)\n",
    "#shearAngles = principalAngles + 45.0\n",
    "\n",
    "tau = np.sqrt(((sRt[:,0]+ 1e-14 - sRt[:,1])**2)/4. + sRt[:,2]**2)\n",
    "principalAngles = 0.5*np.arcsin(sRt[:,2]/tau)*(180./np.pi)"
   ]
  },
  {
   "cell_type": "code",
   "execution_count": null,
   "metadata": {
    "collapsed": true
   },
   "outputs": [],
   "source": []
  },
  {
   "cell_type": "code",
   "execution_count": 197,
   "metadata": {
    "collapsed": false
   },
   "outputs": [],
   "source": [
    "#%pylab inline\n",
    "#plt.hist(angles, bins=20, )"
   ]
  },
  {
   "cell_type": "markdown",
   "metadata": {},
   "source": [
    "## Director Vector for TI rheology"
   ]
  },
  {
   "cell_type": "code",
   "execution_count": 198,
   "metadata": {
    "collapsed": false
   },
   "outputs": [],
   "source": [
    "aOrient = principalAngles + (45. - dp.fa/2.)\n",
    "bOrient = principalAngles - (45. - dp.fa/2.)\n",
    "finalOrient = np.zeros(aOrient.shape)"
   ]
  },
  {
   "cell_type": "code",
   "execution_count": 199,
   "metadata": {
    "collapsed": false
   },
   "outputs": [],
   "source": [
    "an = np.zeros((aOrient.shape[0], 2))\n",
    "bn = np.zeros((bOrient.shape[0], 2))\n",
    "\n",
    "an[:,0] = np.cos(np.radians(aOrient))\n",
    "an[:,1] = np.sin(np.radians(aOrient))\n",
    "#                           \n",
    "bn[:,0] = np.cos(np.radians(bOrient))\n",
    "bn[:,1] = np.sin(np.radians(bOrient))"
   ]
  },
  {
   "cell_type": "code",
   "execution_count": 200,
   "metadata": {
    "collapsed": true
   },
   "outputs": [],
   "source": [
    "Lij = LFn.evaluate(swarm)"
   ]
  },
  {
   "cell_type": "code",
   "execution_count": 201,
   "metadata": {
    "collapsed": false
   },
   "outputs": [],
   "source": [
    "def Ldotn(L,n):\n",
    "    x,y =  L[:,0]*n[:,0] + L[:,2]*n[:,1], L[:,3]*n[:,0] + L[:,1]*n[:,1]\n",
    "    return np.column_stack((x, y))"
   ]
  },
  {
   "cell_type": "code",
   "execution_count": 202,
   "metadata": {
    "collapsed": false
   },
   "outputs": [],
   "source": [
    "aAction = Ldotn(Lij,an)\n",
    "bAction = Ldotn(Lij,bn)"
   ]
  },
  {
   "cell_type": "code",
   "execution_count": 203,
   "metadata": {
    "collapsed": false
   },
   "outputs": [],
   "source": [
    "amask = np.linalg.norm(aAction, axis=1) > np.linalg.norm(bAction, axis=1)\n",
    "\n",
    "finalOrient[:] = bOrient[:]\n",
    "finalOrient[amask] = aOrient[amask]"
   ]
  },
  {
   "cell_type": "code",
   "execution_count": 204,
   "metadata": {
    "collapsed": false
   },
   "outputs": [],
   "source": [
    "#in this step we find the normal vector to the shear band\n",
    "directorVector.data[:,0] = np.sin(np.radians(finalOrient))\n",
    "directorVector.data[:,1] = -1.*np.cos(np.radians(finalOrient))"
   ]
  },
  {
   "cell_type": "code",
   "execution_count": 205,
   "metadata": {
    "collapsed": false
   },
   "outputs": [],
   "source": [
    "principleStress.data[:,0] = np.cos(np.radians(principalAngles))\n",
    "principleStress.data[:,1] = np.sin(np.radians(principalAngles))"
   ]
  },
  {
   "cell_type": "code",
   "execution_count": 206,
   "metadata": {
    "collapsed": false
   },
   "outputs": [],
   "source": [
    "#directorVector.data[:,1][directorVector.data[:,1] < 0].mean(), directorVector.data[:,1][directorVector.data[:,1] > 0].mean()"
   ]
  },
  {
   "cell_type": "code",
   "execution_count": 207,
   "metadata": {
    "collapsed": false
   },
   "outputs": [],
   "source": [
    "#%pylab inline\n",
    "#plt.hist((180./math.pi)*directorVector.data[:,1], bins=50)"
   ]
  },
  {
   "cell_type": "code",
   "execution_count": 208,
   "metadata": {
    "collapsed": false
   },
   "outputs": [
    {
     "data": {
      "text/html": [
       "<img src='data:image/png;base64,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'>"
      ],
      "text/plain": [
       "<IPython.core.display.HTML object>"
      ]
     },
     "metadata": {},
     "output_type": "display_data"
    }
   ],
   "source": [
    "ix, weights = nn_evaluation(swarm, mesh.data, n=1, weighted=False)\n",
    "meshDirector = uw.mesh.MeshVariable( mesh, mesh.dim )\n",
    "\n",
    "meshDirector.data[:] = directorVector.data[ix]\n",
    "\n",
    "\n",
    "principalDirector = uw.mesh.MeshVariable( mesh, mesh.dim )\n",
    "\n",
    "principalDirector.data[:] = principleStress.data[ix]\n",
    "\n",
    "\n",
    "#projectorDirector = uw.utils.MeshVariable_Projection( meshDirector, directorVector, type=0 )\n",
    "#projectorDirector.solve()\n",
    "\n",
    "figDir = glucifer.Figure( figsize=(1600,400), boundingBox=((-2.0, 0.0, 0.0), (2.0, 1.0, 0.0)) )\n",
    "\n",
    "figDir.append( glucifer.objects.VectorArrows(mesh, meshDirector, arrowHead=0.01, scaling=.1, resolutionI=32, resolutionJ=8) )\n",
    "figDir.append( glucifer.objects.VectorArrows(mesh, principalDirector, arrowHead=0.2, scaling=.1, resolutionI=32, resolutionJ=8) )\n",
    "\n",
    "\n",
    "figDir.show()"
   ]
  },
  {
   "cell_type": "code",
   "execution_count": 209,
   "metadata": {
    "collapsed": false
   },
   "outputs": [],
   "source": [
    "#dp.fa"
   ]
  },
  {
   "cell_type": "markdown",
   "metadata": {},
   "source": [
    "## Transversely isotropic rheology"
   ]
  },
  {
   "cell_type": "code",
   "execution_count": 210,
   "metadata": {
    "collapsed": true
   },
   "outputs": [],
   "source": [
    "#resolved strain rates\n",
    "\n",
    "edotn_SFn = (        directorVector[0]**2 * strainRateFn[0]  +\n",
    "                        2.0 * directorVector[1]    * strainRateFn[2] * directorVector[0] +\n",
    "                              directorVector[1]**2 * strainRateFn[1]\n",
    "                    )\n",
    "\n",
    "edots_SFn = (  directorVector[0] *  directorVector[1] *(strainRateFn[1] - strainRateFn[0]) +\n",
    "                        strainRateFn[2] * (directorVector[0]**2 - directorVector[1]**2)\n",
    "                     )\n",
    "\n"
   ]
  },
  {
   "cell_type": "code",
   "execution_count": 211,
   "metadata": {
    "collapsed": false
   },
   "outputs": [],
   "source": [
    "##Transversely isotropic rheology\n",
    "\n",
    "\n",
    "cohesion0       = fn.misc.constant(ndp.cohesion)\n",
    "cohesionFn = cohesion0\n",
    "\n",
    "#can try several variants on this - \n",
    "viscosity2Fn = ( (ndp.fa *(lithPressureFn + ndp.a*pressureField )  + ndp.cohesion) / (fn.math.abs(edots_SFn) + 1.0e-15))\n",
    "\n",
    "\n",
    "delviscosity2fn = fn.misc.min(backgroundViscosityFn - ndp.etaMin, fn.misc.max(0.0, \n",
    "                     backgroundViscosityFn - viscosity2Fn))\n",
    "\n",
    "\n",
    "delviscosity2Map    = { 0: 0.0, \n",
    "                     1: delviscosity2fn,  #only material a has stress-limting TI rheology\n",
    "                     2: 0.                   \n",
    "                   }\n",
    "\n",
    "secondViscosityFn  = fn.branching.map( fn_key  = materialVariable, \n",
    "                                       mapping = delviscosity2Map )"
   ]
  },
  {
   "cell_type": "code",
   "execution_count": null,
   "metadata": {
    "collapsed": false
   },
   "outputs": [],
   "source": []
  },
  {
   "cell_type": "markdown",
   "metadata": {},
   "source": [
    "System setup\n",
    "-----\n",
    "\n",
    "Setup a Stokes equation system and connect a solver up to it.  \n",
    "\n",
    "In this example, no buoyancy forces are considered. However, to establish an appropriate pressure gradient in the material, it would normally be useful to map density from material properties and create a buoyancy force."
   ]
  },
  {
   "cell_type": "code",
   "execution_count": 212,
   "metadata": {
    "collapsed": false
   },
   "outputs": [],
   "source": [
    "stokes = uw.systems.Stokes( velocityField  = velocityField, \n",
    "                               pressureField  = pressureField,\n",
    "                               conditions     = velocityBCs,\n",
    "                               fn_viscosity   = backgroundViscosityFn, \n",
    "                              _fn_viscosity2  = secondViscosityFn,\n",
    "                              _fn_director    = directorVector)\n",
    "solver = uw.systems.Solver( stokes )\n",
    "\n",
    "# \"mumps\" is a good alternative for \"lu\" but  # use \"lu\" direct solve and large penalty (if running in serial)\n",
    "\n",
    "if(uw.nProcs()==1):\n",
    "    solver.set_inner_method(\"mumps\")\n",
    "    solver.set_penalty(1.0e7)\n",
    "    solver.options.scr.ksp_type=\"cg\"\n",
    "    solver.options.scr.ksp_rtol = 1.0e-4\n",
    "\n",
    "else:\n",
    "    solver.set_inner_method(\"mumps\")\n",
    "    solver.set_penalty(1.0e7)\n",
    "    solver.options.scr.ksp_type=\"cg\"\n",
    "    solver.options.scr.ksp_rtol = 1.0e-4\n",
    "\n"
   ]
  },
  {
   "cell_type": "code",
   "execution_count": 213,
   "metadata": {
    "collapsed": true
   },
   "outputs": [],
   "source": [
    "#solver.solve( nonLinearIterate=True, nonLinearMaxIterations=20)"
   ]
  },
  {
   "cell_type": "code",
   "execution_count": 214,
   "metadata": {
    "collapsed": false
   },
   "outputs": [],
   "source": [
    "#solver._stokesSLE._cself.curResidual"
   ]
  },
  {
   "cell_type": "markdown",
   "metadata": {},
   "source": [
    "## Manual Picard iteration"
   ]
  },
  {
   "cell_type": "code",
   "execution_count": 215,
   "metadata": {
    "collapsed": false
   },
   "outputs": [],
   "source": [
    "prevVelocityField    = uw.mesh.MeshVariable( mesh=mesh,         nodeDofCount=mesh.dim )\n",
    "\n",
    "prevPressureField    = uw.mesh.MeshVariable( mesh=mesh.subMesh,         nodeDofCount=1)\n",
    "\n",
    "\n",
    "prevVelocityField.data[:] = (0., 0.)\n",
    "prevPressureField.data[:] = 0."
   ]
  },
  {
   "cell_type": "code",
   "execution_count": 216,
   "metadata": {
    "collapsed": true
   },
   "outputs": [],
   "source": [
    "def volumeint(Fn = 1., rFn=1.):\n",
    "    return uw.utils.Integral( Fn*rFn,  mesh )\n"
   ]
  },
  {
   "cell_type": "code",
   "execution_count": 217,
   "metadata": {
    "collapsed": false
   },
   "outputs": [],
   "source": [
    "md.maxIts = 4"
   ]
  },
  {
   "cell_type": "code",
   "execution_count": 218,
   "metadata": {
    "collapsed": true
   },
   "outputs": [],
   "source": [
    "surfaceArea = uw.utils.Integral(fn=1.0,mesh=mesh, integrationType='surface', surfaceIndexSet=top)\n",
    "surfacePressureIntegral = uw.utils.Integral(fn=pressureField, mesh=mesh, integrationType='surface', surfaceIndexSet=top)\n",
    "\n",
    "(area,) = surfaceArea.evaluate()"
   ]
  },
  {
   "cell_type": "code",
   "execution_count": 219,
   "metadata": {
    "collapsed": false
   },
   "outputs": [
    {
     "name": "stdout",
     "output_type": "stream",
     "text": [
      "(0.079890872927622966, 0.0, 2.1439323635129353)\n",
      "1\n",
      "(0.11498367995336889, 0.0, 1.469730790377495)\n",
      "2\n",
      "(0.061902198445765853, 0.0, 0.19036912291282213)\n",
      "3\n",
      "(0.052543542472485924, 0.0, 0.091380105636987952)\n",
      "4\n"
     ]
    }
   ],
   "source": [
    "#The underworld Picard interation applies the following residual (SystemLinearEquations.c)\n",
    "\n",
    "#/* Calculate Residual */\n",
    "#      VecAXPY( previousVector, -1.0, currentVector );\n",
    "#      VecNorm( previousVector, NORM_2, &prevVecNorm );\n",
    "#      VecNorm( currentVector, NORM_2, &currVecNorm );\n",
    "#      residual = ((double)prevVecNorm) / ((double)currVecNorm);\n",
    "\n",
    "\n",
    "\n",
    "count = 0\n",
    "\n",
    "\n",
    "res1Vals = []\n",
    "res2Vals = []\n",
    "res3Vals = []\n",
    "\n",
    "for i in range(int(md.maxIts)):\n",
    "    \n",
    "    prevVelocityField.data[:] = velocityField.data.copy()\n",
    "    prevPressureField.data[:] = pressureField.data[:] \n",
    "\n",
    "    \n",
    "    solver.solve( nonLinearIterate=False)\n",
    "    \n",
    "    #remove drift in the pressure\n",
    "    (p0,) = surfacePressureIntegral.evaluate() \n",
    "    pressureField.data[:] -= p0 / area\n",
    "    \n",
    "    #Update the dynamic pressure variable\n",
    "    #dynPressureField.data[:] = pressureField.data[:] - lithPressureFn.evaluate(mesh.subMesh)\n",
    "    \n",
    "    \n",
    "    ####\n",
    "    #Calculate a range of norms to assess convergence\n",
    "    ####\n",
    "    \n",
    "    #L2 norm of current velocity\n",
    "    v2 = fn.math.dot(velocityField,  velocityField)\n",
    "    _Vr = volumeint(v2)\n",
    "    velL2 = np.sqrt(_Vr.evaluate()[0])\n",
    "    \n",
    "    \n",
    "    #L2 norm of delta velocity\n",
    "    \n",
    "    delV = velocityField - prevVelocityField\n",
    "    v2 = fn.math.dot(delV,  delV)\n",
    "    _Vr = volumeint(v2)\n",
    "    delvelL2 = np.sqrt(_Vr.evaluate()[0])\n",
    "    \n",
    "    \n",
    "    #L2 norm of current dynamic pressure\n",
    "    p2 = fn.math.dot(pressureField, pressureField)\n",
    "    _Pr = volumeint(p2)\n",
    "    pL2 = np.sqrt(_Pr.evaluate()[0])\n",
    "    \n",
    "    \n",
    "    #L2 norm of delta dynamic pressure\n",
    "    delP = pressureField - pressureField\n",
    "    p2 = fn.math.dot(delP,  delP)\n",
    "    _Pr = volumeint(p2)\n",
    "    delpL2 = np.sqrt(_Pr.evaluate()[0])\n",
    "    \n",
    "    #Full norm of the primal variables\n",
    "    \n",
    "    x2 = fn.math.dot(velocityField,  velocityField) + fn.math.dot(pressureField, pressureField)\n",
    "    _Xr = volumeint(x2)\n",
    "    xL2 = np.sqrt(_Xr.evaluate()[0])\n",
    "    \n",
    "    #Full norm of the change in primal variables\n",
    "    \n",
    "    delV = velocityField - prevVelocityField\n",
    "    delP = pressureField - prevPressureField\n",
    "    x2 = fn.math.dot(delV,  delV) + fn.math.dot(delP, delP)\n",
    "    _Xr = volumeint(x2)\n",
    "    delxL2 = np.sqrt(_Xr.evaluate()[0])\n",
    "    \n",
    "    \n",
    "    \n",
    "    res1 = abs(delvelL2 /velL2)\n",
    "    res1Vals .append(res1)\n",
    "    \n",
    "    res2 = abs(delpL2 /pL2)\n",
    "    res2Vals .append(res2)\n",
    "    \n",
    "    res3 = abs(delxL2 /xL2)\n",
    "    res3Vals .append(res3)\n",
    "\n",
    "    \n",
    "    count +=1\n",
    "    print(res1, res2, res3)\n",
    "    print(count)\n",
    "    \n",
    "    \n",
    "    #Converged stopping condition\n",
    "    if res1 < md.tol:\n",
    "        break\n"
   ]
  },
  {
   "cell_type": "code",
   "execution_count": 220,
   "metadata": {
    "collapsed": false
   },
   "outputs": [],
   "source": [
    "#solver._stokesSLE._cself.curResidual\n"
   ]
  },
  {
   "cell_type": "code",
   "execution_count": 221,
   "metadata": {
    "collapsed": false
   },
   "outputs": [],
   "source": [
    "#%pylab inline\n",
    "\n",
    "#fig, ax = plt.subplots()\n",
    "#ax.scatter(range(len(resVals)), resVals)\n",
    "#ax.set_yscale('log')\n",
    "#ax.set_ylim(0.0005, 1.)"
   ]
  },
  {
   "cell_type": "code",
   "execution_count": 222,
   "metadata": {
    "collapsed": false
   },
   "outputs": [],
   "source": [
    "#((20e3*1e-15)*3600*365*24)*100."
   ]
  },
  {
   "cell_type": "code",
   "execution_count": null,
   "metadata": {
    "collapsed": true
   },
   "outputs": [],
   "source": []
  },
  {
   "cell_type": "markdown",
   "metadata": {},
   "source": [
    "## Figures"
   ]
  },
  {
   "cell_type": "code",
   "execution_count": 223,
   "metadata": {
    "collapsed": false
   },
   "outputs": [],
   "source": [
    "#dp.fa"
   ]
  },
  {
   "cell_type": "code",
   "execution_count": 224,
   "metadata": {
    "collapsed": false
   },
   "outputs": [],
   "source": [
    "figSinv = glucifer.Figure( figsize=(1600,400), boundingBox=((-2.0, 0.0, 0.0), (2.0, 1.0, 0.0)) )\n",
    "\n",
    "#figSinv .append( glucifer.objects.Points(swarm,strainRate_2ndInvariantFn, pointSize=2.0, valueRange=[1e-3, 5.]) )\n",
    "figSinv .append( glucifer.objects.Points(swarm,strainRate_2ndInvariantFn, pointSize=2.0, valueRange=[2e-1, 1.5]) )\n",
    "figSinv.append( glucifer.objects.VectorArrows(mesh, meshDirector, arrowHead=0.0, scaling=.075, resolutionI=32, resolutionJ=8) )\n",
    "\n",
    "\n",
    "#figSinv.show()\n",
    "#figSinv.save_image('ti.png')"
   ]
  },
  {
   "cell_type": "code",
   "execution_count": 225,
   "metadata": {
    "collapsed": false
   },
   "outputs": [],
   "source": [
    "figVisc = glucifer.Figure( figsize=(1600,400), boundingBox=((-2.0, 0.0, 0.0), (2.0, 1.0, 0.0)) )\n",
    "\n",
    "figVisc.append( glucifer.objects.VectorArrows(mesh, velocityField, arrowHead=0.25, scaling=.075, resolutionI=32, resolutionJ=8) )\n",
    "#figVisc.append( glucifer.objects.Points(swarm, viscosityFn, pointSize=2.0, logScale=True ,valueRange=[1., 1000]) )\n",
    "\n",
    "figVisc.append( glucifer.objects.Points(swarm, backgroundViscosityFn - secondViscosityFn, pointSize=2.0, logScale=True, valueRange=[5., 100.] ) )\n",
    "\n",
    "#figVisc.show()"
   ]
  },
  {
   "cell_type": "code",
   "execution_count": 226,
   "metadata": {
    "collapsed": false
   },
   "outputs": [],
   "source": [
    "#viscosityFn.evaluate([0.5, 0.5])\n",
    "#velocityField.evaluate([0.5, 0.5])"
   ]
  },
  {
   "cell_type": "code",
   "execution_count": 227,
   "metadata": {
    "collapsed": false
   },
   "outputs": [],
   "source": [
    "figPres= glucifer.Figure( figsize=(1600,400), boundingBox=((-2.0, 0.0, 0.0), (2.0, 1.0, 0.0)) )\n",
    "\n",
    "figPres.append( glucifer.objects.Points(swarm, pressureField,pointSize=2.0, valueRange=[-5.,25.] ))\n",
    "\n",
    "#figPres.draw.label(r'$\\sin (x)$', (0.2,0.7,0))\n",
    "#figPres.append( glucifer.objects.Mesh(mesh,opacity=0.2))\n",
    "\n",
    "#figPres.show()"
   ]
  },
  {
   "cell_type": "code",
   "execution_count": null,
   "metadata": {
    "collapsed": true
   },
   "outputs": [],
   "source": []
  },
  {
   "cell_type": "code",
   "execution_count": 228,
   "metadata": {
    "collapsed": false
   },
   "outputs": [
    {
     "data": {
      "text/plain": [
       "'results/T/0/images/figPres.png'"
      ]
     },
     "execution_count": 228,
     "metadata": {},
     "output_type": "execute_result"
    }
   ],
   "source": [
    "figSinv.save_image(imagePath + \"figSinv.png\")\n",
    "\n",
    "figVisc.save_image(imagePath +  \"figVisc.png\")\n",
    "\n",
    "figPres.save_image(imagePath + \"figPres.png\")"
   ]
  },
  {
   "cell_type": "code",
   "execution_count": 229,
   "metadata": {
    "collapsed": false
   },
   "outputs": [
    {
     "data": {
      "text/plain": [
       "<underworld.utils._utils.SavedFileData at 0x7f24f6f84450>"
      ]
     },
     "execution_count": 229,
     "metadata": {},
     "output_type": "execute_result"
    }
   ],
   "source": [
    "velocityField.save(filePath + \"vel.h5\")\n",
    "pressureField.save(filePath + \"pressure.h5\")"
   ]
  },
  {
   "cell_type": "code",
   "execution_count": 230,
   "metadata": {
    "collapsed": false
   },
   "outputs": [
    {
     "data": {
      "text/plain": [
       "<underworld.utils._utils.SavedFileData at 0x7f24ea8d5490>"
      ]
     },
     "execution_count": 230,
     "metadata": {},
     "output_type": "execute_result"
    }
   ],
   "source": [
    "yvelsurfVar.data[...] = velocityField[1].evaluate(surfaceSwarm)\n",
    "yvelsurfVar.save(filePath + \"yvelsurf.h5\")"
   ]
  },
  {
   "cell_type": "markdown",
   "metadata": {},
   "source": [
    "## Save points to determine shear band angle"
   ]
  },
  {
   "cell_type": "code",
   "execution_count": 231,
   "metadata": {
    "collapsed": false
   },
   "outputs": [],
   "source": [
    "eii_mean = uw.utils.Integral(strainRate_2ndInvariantFn,mesh).evaluate()[0]/4.\n",
    "\n",
    "eii_std = uw.utils.Integral(fn.math.sqrt(0.25*(strainRate_2ndInvariantFn - eii_mean)**2.), mesh).evaluate()[0]\n"
   ]
  },
  {
   "cell_type": "code",
   "execution_count": 232,
   "metadata": {
    "collapsed": false
   },
   "outputs": [],
   "source": [
    "#grab all of material points that are above 2 sigma of mean strain rate invariant\n",
    "\n",
    "\n",
    "\n",
    "xv, yv = np.meshgrid(\n",
    "        np.linspace(mesh.minCoord[0], mesh.maxCoord[0], mesh.elementRes[0]), \n",
    "        np.linspace(mesh.minCoord[1], mesh.maxCoord[1], mesh.elementRes[1]))\n",
    "\n",
    "meshGlobs = np.row_stack((xv.flatten(), yv.flatten())).T\n",
    "\n",
    "\n",
    "#Calculate the 2-sigma value of the strain rate invariant function (\n",
    "#we use this a definition for a shear band)\n",
    "eII_2sig = eii_mean  + 2.*eii_std"
   ]
  },
  {
   "cell_type": "code",
   "execution_count": 233,
   "metadata": {
    "collapsed": true
   },
   "outputs": [],
   "source": [
    "shearbandswarm  = uw.swarm.Swarm( mesh=mesh, particleEscape=True )\n",
    "shearbandswarmlayout  = uw.swarm.layouts.GlobalSpaceFillerLayout( swarm=shearbandswarm , particlesPerCell=int(md.ppc/16.) )\n",
    "shearbandswarm.populate_using_layout( layout=shearbandswarmlayout )"
   ]
  },
  {
   "cell_type": "code",
   "execution_count": 234,
   "metadata": {
    "collapsed": false
   },
   "outputs": [],
   "source": [
    "#shearbandswarm.particleGlobalCount"
   ]
  },
  {
   "cell_type": "code",
   "execution_count": 235,
   "metadata": {
    "collapsed": false
   },
   "outputs": [
    {
     "data": {
      "text/plain": [
       "array([False,  True], dtype=bool)"
      ]
     },
     "execution_count": 235,
     "metadata": {},
     "output_type": "execute_result"
    }
   ],
   "source": [
    "np.unique(strainRate_2ndInvariantFn.evaluate(shearbandswarm) < eII_2sig)"
   ]
  },
  {
   "cell_type": "code",
   "execution_count": 236,
   "metadata": {
    "collapsed": false
   },
   "outputs": [],
   "source": [
    "with shearbandswarm.deform_swarm():\n",
    "    mask = np.where(strainRate_2ndInvariantFn.evaluate(shearbandswarm) < eII_2sig)\n",
    "    shearbandswarm.particleCoordinates.data[mask[0]]= (1e20, 1e20)\n",
    "\n",
    "shearbandswarm.update_particle_owners()    \n",
    "\n",
    "with shearbandswarm.deform_swarm():\n",
    "    mask = np.where((shearbandswarm.particleCoordinates.data[:,1] < ndp.asthenosphere + ndp.notchWidth) | \n",
    "                    (shearbandswarm.particleCoordinates.data[:,1] >  1. - ndp.notchWidth) )\n",
    "    shearbandswarm.particleCoordinates.data[mask]= (1e20, 1e20)\n",
    "\n",
    "shearbandswarm.update_particle_owners()\n",
    "\n",
    "\n",
    "with shearbandswarm.deform_swarm():\n",
    "    mask = np.where(shearbandswarm.particleCoordinates.data[:,0] > -2.*ndp.notchWidth)\n",
    "    shearbandswarm.particleCoordinates.data[mask]= (1e20, 1e20)\n",
    "                    \n",
    "shearbandswarm.update_particle_owners()"
   ]
  },
  {
   "cell_type": "code",
   "execution_count": 237,
   "metadata": {
    "collapsed": false
   },
   "outputs": [
    {
     "data": {
      "text/plain": [
       "<underworld.utils._utils.SavedFileData at 0x7f24ea8d5550>"
      ]
     },
     "execution_count": 237,
     "metadata": {},
     "output_type": "execute_result"
    }
   ],
   "source": [
    "shearbandswarm.save(filePath + 'swarm.h5')\n",
    "\n"
   ]
  },
  {
   "cell_type": "markdown",
   "metadata": {},
   "source": [
    "## Calculate and save some metrics"
   ]
  },
  {
   "cell_type": "code",
   "execution_count": 238,
   "metadata": {
    "collapsed": false
   },
   "outputs": [],
   "source": [
    "#We'll create a function that based on the strain rate 2-sigma value. \n",
    "#Use this to estimate thickness and average pressure within the shear band\n",
    "\n",
    "conds = [ ( (strainRate_2ndInvariantFn >  eII_2sig) & (coord[1] > ndp.asthenosphere + ndp.notchWidth), 1.),\n",
    "            (                                           True , 0.) ]\n",
    "\n",
    "\n",
    "conds2 = [ ( (strainRate_2ndInvariantFn <  eII_2sig) & (coord[1] > ndp.asthenosphere + ndp.notchWidth), 1.),\n",
    "            (                                           True , 0.) ]\n",
    "\n",
    "\n",
    "# lets also integrate just one eighth of sphere surface\n",
    "_2sigRest= fn.branching.conditional( conds ) \n",
    "\n",
    "_out2sigRest= fn.branching.conditional( conds2 ) "
   ]
  },
  {
   "cell_type": "code",
   "execution_count": 239,
   "metadata": {
    "collapsed": false
   },
   "outputs": [],
   "source": [
    "sqrtv2 = fn.math.sqrt(fn.math.dot(velocityField,velocityField))\n",
    "#sqrtv2x = fn.math.sqrt(fn.math.dot(velocityField[0],velocityField[0]))\n",
    "vd = 4.*backgroundViscosityFn*strainRate_2ndInvariantFn # there's an extra factor of 2, which is necessary because the of factor of 0.5 in the UW second invariant \n",
    "\n",
    "\n",
    "_rmsint = uw.utils.Integral(sqrtv2, mesh)\n",
    "\n",
    "#_rmsSurf = uw.utils.Integral(sqrtv2x, mesh, integrationType='Surface',surfaceIndexSet=mesh.specialSets[\"MaxJ_VertexSet\"])\n",
    "\n",
    "_viscMM = fn.view.min_max(backgroundViscosityFn)\n",
    "dummyFn = _viscMM.evaluate(swarm)\n",
    "\n",
    "_eiiMM = fn.view.min_max(strainRate_2ndInvariantFn)\n",
    "dummyFn = _eiiMM.evaluate(swarm)\n",
    "\n",
    "#Area and pressure integrals inside / outside shear band\n",
    "_shearArea = uw.utils.Integral(_2sigRest, mesh)\n",
    "_shearPressure = uw.utils.Integral(_2sigRest*pressureField, mesh)\n",
    "\n",
    "_backgroundArea = uw.utils.Integral(_out2sigRest, mesh)\n",
    "_backgroundPressure = uw.utils.Integral(_out2sigRest*pressureField, mesh)\n",
    "\n",
    "#dissipation \n",
    "\n",
    "_vdint  = uw.utils.Integral(vd,mesh)\n",
    "_shearVd  = uw.utils.Integral(vd*_2sigRest,mesh)\n",
    "_backgroundVd  = uw.utils.Integral(vd*_out2sigRest,mesh)\n",
    "\n",
    "\n",
    "#dynamic pressure min / max\n",
    "\n",
    "#dynPressureField.data[:] = pressureField.data[:] - lithPressureFn.evaluate(mesh.subMesh)\n",
    "_press = fn.view.min_max(pressureField)\n",
    "dummyFn = _press.evaluate(swarm)"
   ]
  },
  {
   "cell_type": "code",
   "execution_count": null,
   "metadata": {
    "collapsed": false
   },
   "outputs": [],
   "source": []
  },
  {
   "cell_type": "code",
   "execution_count": 240,
   "metadata": {
    "collapsed": false
   },
   "outputs": [],
   "source": [
    "#_viscMM.min_global(), _viscMM.max_global()\n",
    "#_eiiMM.min_global(), _eiiMM.max_global()\n",
    "\n",
    "rmsint = _rmsint.evaluate()[0]\n",
    "\n",
    "shearArea = _shearArea.evaluate()[0]\n",
    "shearPressure = _shearPressure.evaluate()[0]\n",
    "\n",
    "backgroundArea = _backgroundArea.evaluate()[0]\n",
    "backgroundPressure = _backgroundPressure.evaluate()[0]\n",
    "\n",
    "vdint = _vdint.evaluate()[0]\n",
    "shearVd = _shearVd.evaluate()[0]\n",
    "backgroundVd = _backgroundVd.evaluate()[0]\n",
    "\n",
    "\n",
    "viscmin = _viscMM.min_global()\n",
    "viscmax = _viscMM.max_global()\n",
    "eiimin = _eiiMM.min_global()\n",
    "eiimax = _eiiMM.max_global()\n",
    "\n",
    "pressmax = _press.max_global()\n",
    "pressmin = _press.min_global()"
   ]
  },
  {
   "cell_type": "code",
   "execution_count": null,
   "metadata": {
    "collapsed": false
   },
   "outputs": [],
   "source": []
  },
  {
   "cell_type": "markdown",
   "metadata": {},
   "source": [
    "\n",
    "## scratch"
   ]
  },
  {
   "cell_type": "code",
   "execution_count": 241,
   "metadata": {
    "collapsed": true
   },
   "outputs": [],
   "source": [
    "import h5py"
   ]
  },
  {
   "cell_type": "code",
   "execution_count": 242,
   "metadata": {
    "collapsed": false
   },
   "outputs": [
    {
     "name": "stdout",
     "output_type": "stream",
     "text": [
      "(-0.60845183447062867, 0.26021011122865989)\n"
     ]
    }
   ],
   "source": [
    "fname = filePath + 'swarm.h5'\n",
    "\n",
    "if uw.rank()==0:\n",
    "    with h5py.File(fname,'r') as hf:\n",
    "        #print('List of arrays in this file: \\n', hf.keys())\n",
    "        data = hf.get('data')\n",
    "        np_data = np.array(data)\n",
    "\n",
    "    sbx =  np_data[:,0]\n",
    "    sby =  np_data[:,1]\n",
    "\n",
    "    #sbx =  shearbandswarm.particleCoordinates.data[:,0]\n",
    "    #sby =  shearbandswarm.particleCoordinates.data[:,1]\n",
    "\n",
    "    z = np.polyfit(sbx, sby, 1)\n",
    "    p = np.poly1d(z)\n",
    "    \n",
    "    #newcoords = np.column_stack((sbx, p(sbx)))\n",
    "    angle = math.atan(z[0])*(180./math.pi)\n",
    "    45. - dp.fa\n",
    "    \n",
    "comm.barrier()\n",
    "\n",
    "\n",
    "\n",
    "\n",
    "if rank==0:\n",
    "    dydx = p[1]\n",
    "    const = p[0]\n",
    "else:\n",
    "    dydx = 1.\n",
    "    const = 0.\n",
    "\n",
    "# share value of dydx\n",
    "comm.barrier()\n",
    "dydx = comm.bcast(dydx, root = 0)\n",
    "const = comm.bcast(const, root = 0)\n",
    "comm.barrier()\n",
    "\n",
    "\n",
    "\n",
    "print(dydx, const)"
   ]
  },
  {
   "cell_type": "code",
   "execution_count": 243,
   "metadata": {
    "collapsed": false
   },
   "outputs": [
    {
     "data": {
      "text/plain": [
       "array([ 0,  1,  2,  3,  4,  5,  6,  7,  8,  9, 10, 11, 12, 13, 14, 15, 16,\n",
       "       17, 18, 19, 20, 21, 22, 23, 24, 25, 26, 27, 28, 29, 30, 31, 32, 33,\n",
       "       34, 35, 36, 37, 38, 39, 40, 41, 42, 43, 44, 45, 46, 47, 48, 49, 50,\n",
       "       51, 52, 53, 54, 55, 56, 57, 58, 59, 60, 61, 62, 63, 64, 65, 66, 67,\n",
       "       68, 69, 70, 71, 72, 73, 74, 75, 76, 77, 78, 79, 80, 81, 82, 83, 84,\n",
       "       85, 86, 87, 88, 89, 90, 91, 92, 93, 94, 95, 96, 97, 98, 99], dtype=int32)"
      ]
     },
     "execution_count": 243,
     "metadata": {},
     "output_type": "execute_result"
    }
   ],
   "source": [
    "xs = np.linspace(0, -1., 100)\n",
    "newcoords = np.column_stack((xs, dydx*xs + const )) \n",
    "\n",
    "\n",
    "swarmCustom = uw.swarm.Swarm(mesh)\n",
    "swarmCustom.add_particles_with_coordinates(newcoords )"
   ]
  },
  {
   "cell_type": "code",
   "execution_count": 244,
   "metadata": {
    "collapsed": false
   },
   "outputs": [
    {
     "data": {
      "text/plain": [
       "'results/T/0/images/figTest2.png'"
      ]
     },
     "execution_count": 244,
     "metadata": {},
     "output_type": "execute_result"
    }
   ],
   "source": [
    "figTest2 = glucifer.Figure( figsize=(1600,400), boundingBox=((-2.0, 0.0, 0.0), (2.0, 1.0, 0.0)) )\n",
    "figTest2.append( glucifer.objects.Points(shearbandswarm, pointSize=2.0, colourBar=False) )\n",
    "\n",
    "figTest2.append( glucifer.objects.Points(swarmCustom , pointSize=4.0,colourBar=False) )\n",
    "\n",
    "figTest2.append( glucifer.objects.Points(swarm,strainRate_2ndInvariantFn, pointSize=3.0, valueRange=[1e-3, 2.]) )\n",
    "\n",
    "\n",
    "#figTest2.show()\n",
    "\n",
    "figTest2.save_image(imagePath +  \"figTest2.png\")\n"
   ]
  },
  {
   "cell_type": "code",
   "execution_count": 245,
   "metadata": {
    "collapsed": false
   },
   "outputs": [],
   "source": [
    "import csv\n",
    "\n",
    "if uw.rank()==0:\n",
    "\n",
    "    someVals = [rmsint, shearArea ,shearPressure, \n",
    "                backgroundArea, backgroundPressure, viscmin, viscmax, eiimin, eiimax, angle,vdint, shearVd, backgroundVd, pressmin, pressmax  ] \n",
    "\n",
    "    with open(os.path.join(outputPath, 'metrics.csv'), 'w') as csvfile:\n",
    "        writer = csv.writer(csvfile, delimiter=\",\")\n",
    "        writer.writerow(someVals)\n",
    "    with open(os.path.join(outputPath, 'solver.csv'), 'w') as csvfile:\n",
    "        writer = csv.writer(csvfile, delimiter=\",\")\n",
    "        writer.writerow(res1Vals)\n",
    "        writer.writerow(res2Vals)\n",
    "        writer.writerow(res3Vals)"
   ]
  },
  {
   "cell_type": "markdown",
   "metadata": {
    "collapsed": true
   },
   "source": [
    "test = np.array([0.5, 0.5])\n",
    "\n",
    "ys = np.linspace(0, 1, 10)\n",
    "xs = np.zeros(10)\n",
    "\n",
    "points = np.column_stack((xs, ys))\n",
    "\n",
    "\n",
    "ix, weights = nn_evaluation(swarm, points, n=1, weighted=False)\n",
    "ix, weights\n",
    "\n",
    "visc = viscosityFn.evaluate(swarm)[ix]\n",
    "\n",
    "\n",
    "%pylab inline\n",
    "plt.scatter(ys, visc)"
   ]
  },
  {
   "cell_type": "code",
   "execution_count": 246,
   "metadata": {
    "collapsed": false
   },
   "outputs": [
    {
     "data": {
      "text/plain": [
       "-31.318498681624135"
      ]
     },
     "execution_count": 246,
     "metadata": {},
     "output_type": "execute_result"
    }
   ],
   "source": [
    "angle"
   ]
  },
  {
   "cell_type": "code",
   "execution_count": 247,
   "metadata": {
    "collapsed": false
   },
   "outputs": [
    {
     "data": {
      "text/plain": [
       "37.5"
      ]
     },
     "execution_count": 247,
     "metadata": {},
     "output_type": "execute_result"
    }
   ],
   "source": [
    "45 - dp.fa/2"
   ]
  },
  {
   "cell_type": "code",
   "execution_count": null,
   "metadata": {
    "collapsed": true
   },
   "outputs": [],
   "source": []
  }
 ],
 "metadata": {
  "kernelspec": {
   "display_name": "Python 2",
   "language": "python",
   "name": "python2"
  },
  "language_info": {
   "codemirror_mode": {
    "name": "ipython",
    "version": 2
   },
   "file_extension": ".py",
   "mimetype": "text/x-python",
   "name": "python",
   "nbconvert_exporter": "python",
   "pygments_lexer": "ipython2",
   "version": "2.7.9"
  }
 },
 "nbformat": 4,
 "nbformat_minor": 0
}
