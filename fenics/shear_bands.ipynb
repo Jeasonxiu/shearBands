{
 "cells": [
  {
   "cell_type": "code",
   "execution_count": 99,
   "metadata": {
    "collapsed": false
   },
   "outputs": [],
   "source": [
    "from __future__ import division\n",
    "from dolfin import *\n",
    "import math\n",
    "import numpy as np\n",
    "import sys\n",
    "import os\n",
    "\n",
    "\n",
    "#!sudo pip2.7 install easydict\n",
    "from easydict import EasyDict as edict\n",
    "\n",
    "%matplotlib inline"
   ]
  },
  {
   "cell_type": "code",
   "execution_count": 100,
   "metadata": {
    "collapsed": true
   },
   "outputs": [],
   "source": [
    "from mpi4py import MPI\n",
    "comm = MPI.COMM_WORLD\n",
    "rank = comm.Get_rank()"
   ]
  },
  {
   "cell_type": "code",
   "execution_count": 101,
   "metadata": {
    "collapsed": false
   },
   "outputs": [
    {
     "name": "stdout",
     "output_type": "stream",
     "text": [
      "(True, False)\n",
      "(True, True)\n"
     ]
    }
   ],
   "source": [
    "print(has_linear_algebra_backend(\"PETSc\"), has_linear_algebra_backend(\"Tpetra\"))\n",
    "print(has_krylov_solver_preconditioner(\"amg\"), has_krylov_solver_method(\"minres\"))"
   ]
  },
  {
   "cell_type": "code",
   "execution_count": null,
   "metadata": {
    "collapsed": false
   },
   "outputs": [],
   "source": []
  },
  {
   "cell_type": "code",
   "execution_count": 102,
   "metadata": {
    "collapsed": false
   },
   "outputs": [],
   "source": [
    "############\n",
    "#Model letter and number, output directory setup\n",
    "############\n",
    "\n",
    "\n",
    "#Model letter identifier default\n",
    "Model = \"T\"\n",
    "\n",
    "#Model number identifier default:\n",
    "ModNum = 0\n",
    "\n",
    "#Any isolated letter / integer command line args are interpreted as Model/ModelNum\n",
    "\n",
    "if len(sys.argv) == 1:\n",
    "    ModNum = ModNum \n",
    "elif sys.argv[1] == '-f': #\n",
    "    ModNum = ModNum \n",
    "else:\n",
    "    for farg in sys.argv[1:]:\n",
    "        if not '=' in farg: #then Assume it's a not a paramter argument\n",
    "            try:\n",
    "                ModNum = int(farg) #try to convert everingthing to a float, else remains string\n",
    "            except ValueError:\n",
    "                Model  = farg\n",
    "\n",
    "\n",
    "outputPath = \"results\" + \"/\" +  str(Model) + \"/\" + str(ModNum) + \"/\" \n",
    "imagePath = outputPath + 'images/'\n",
    "filePath = outputPath + 'files/'\n",
    "checkpointPath = outputPath + 'checkpoint/'\n",
    "dbPath = outputPath + 'gldbs/'\n",
    "outputFile = 'results_model' + Model + '_' + str(ModNum) + '.dat'\n",
    "\n",
    "if rank==0:\n",
    "    # make directories if they don't exist\n",
    "    if not os.path.isdir(outputPath):\n",
    "        os.makedirs(outputPath)\n",
    "    if not os.path.isdir(checkpointPath):\n",
    "        os.makedirs(checkpointPath)\n",
    "    if not os.path.isdir(imagePath):\n",
    "        os.makedirs(imagePath)\n",
    "    if not os.path.isdir(dbPath):\n",
    "        os.makedirs(dbPath)\n",
    "    if not os.path.isdir(filePath):\n",
    "        os.makedirs(filePath)\n",
    "\n",
    "        \n",
    "comm.Barrier() #Barrier here so no procs run the check in the next cell too early"
   ]
  },
  {
   "cell_type": "code",
   "execution_count": 103,
   "metadata": {
    "collapsed": false
   },
   "outputs": [],
   "source": [
    "###########\n",
    "#Parameter / settings dictionaries get saved&loaded using pickle\n",
    "###########\n",
    " \n",
    "dp = edict({}) #dimensional parameters\n",
    "sf = edict({}) #scaling factors\n",
    "ndp = edict({}) #dimensionless paramters\n",
    "md = edict({}) #model paramters, flags etc\n",
    "#od = edict({}) #output frequencies\n",
    " \n",
    "\n",
    "\n",
    "dict_list = [dp, sf, ndp, md]\n",
    "dict_names = ['dp.pkl', 'sf.pkl', 'ndp.pkl', 'md.pkl']\n",
    "\n",
    "\n",
    "\n",
    "###########\n",
    "#Store the physical parameters, scale factors and dimensionless pramters in easyDicts\n",
    "#dp : dimensional paramters\n",
    "###########\n",
    "\n",
    "\n",
    "dp = edict({#'LS':10*1e3, #Scaling Length scale\n",
    "            'LS':30*1e3, #Scaling Length scale\n",
    "            #'asthenosphere': (0.*1e3)/4, #level from bottom of model,\n",
    "            'asthenosphere': (30*1e3)/4, #level from bottom of model, \n",
    "            'eta0':1e21,\n",
    "            'eta1':1e23,\n",
    "            'eta2':1e20,\n",
    "            #'U0':0.006/(3600*24*365),  #m/s kaus\n",
    "            #'U0':0.0025/(3600*24*365),  #m/s speigelman et al\n",
    "            'U0':0.0125/(3600*24*365),  #m/s speigelman et al\n",
    "            'rho': 2700., #kg/m3\n",
    "            'g':9.81,\n",
    "            #'cohesion':40e6, #kaus\n",
    "            'cohesion':100e6, #speigelman et al\n",
    "            'fa':25.        #friction angle degrees\n",
    "        \n",
    "            })\n",
    "\n",
    "\n",
    "dp.notchWidth = dp.LS/12.\n",
    "\n",
    "#Modelling and Physics switches\n",
    "#md : model dictionary\n",
    "\n",
    "md = edict({'refineMesh':False,\n",
    "            'stickyAir':False,\n",
    "            'aspectRatio':4.,\n",
    "            'res':64,\n",
    "            'ppc':25,\n",
    "            'tol':1e-3,\n",
    "            'maxIts':150,\n",
    "            })\n",
    "\n",
    "\n",
    "###########\n",
    "#If command line args are given, overwrite\n",
    "#Note that this assumes that params as commans line args/\n",
    "#only append to the 'dimensional' and 'model' dictionary (not the non-dimensional)\n",
    "###########    \n",
    "\n",
    "\n",
    "###########\n",
    "#If extra arguments are provided to the script\" eg:\n",
    "### >>> uw.py 2 dp.arg1=1 dp.arg2=foo dp.arg3=3.0\n",
    "###\n",
    "###This would assign ModNum = 2, all other values go into the dp dictionary, under key names provided\n",
    "###\n",
    "###Two operators are searched for, = & *=\n",
    "###\n",
    "###If =, parameter is re-assigned to givn value\n",
    "###If *=, parameter is multipled by given value\n",
    "###\n",
    "### >>> uw.py 2 dp.arg1=1 dp.arg2=foo dp.arg3*=3.0\n",
    "###########\n",
    "\n",
    "for farg in sys.argv[1:]:\n",
    "    try:\n",
    "        (dicitem,val) = farg.split(\"=\") #Split on equals operator\n",
    "        (dic,arg) = dicitem.split(\".\") #colon notation\n",
    "        if '*=' in farg:\n",
    "            (dicitem,val) = farg.split(\"*=\") #If in-place multiplication, split on '*='\n",
    "            (dic,arg) = dicitem.split(\".\")\n",
    "            \n",
    "        if val == 'True': \n",
    "            val = True\n",
    "        elif val == 'False':     #First check if args are boolean\n",
    "            val = False\n",
    "        else:\n",
    "            try:\n",
    "                val = float(val) #next try to convert  to a float,\n",
    "            except ValueError:\n",
    "                pass             #otherwise leave as string\n",
    "        #Update the dictionary\n",
    "        if farg.startswith('dp'):\n",
    "            if '*=' in farg:\n",
    "                dp[arg] = dp[arg]*val #multiply parameter by given factor\n",
    "            else:\n",
    "                dp[arg] = val    #or reassign parameter by given value\n",
    "        if farg.startswith('md'):\n",
    "            if '*=' in farg:\n",
    "                md[arg] = md[arg]*val #multiply parameter by given factor\n",
    "            else:\n",
    "                md[arg] = val    #or reassign parameter by given value\n",
    "                \n",
    "    except:\n",
    "        pass\n",
    "            \n",
    "\n",
    "comm.barrier()"
   ]
  },
  {
   "cell_type": "code",
   "execution_count": 104,
   "metadata": {
    "collapsed": false
   },
   "outputs": [],
   "source": [
    "#Only build these guys first time around, otherwise the read from checkpoints\n",
    "#Important because some of these params (like SZ location) may change during model evolution\n",
    "\n",
    "\n",
    "#sf : scaling factors\n",
    "#ndp : non dimensional paramters\n",
    "\n",
    "\n",
    "\n",
    "sf = edict({'stress':(dp.eta0*dp.U0)/dp.LS,\n",
    "            'vel':dp.U0,\n",
    "            'density':dp.LS**3,\n",
    "            'g':dp.g,\n",
    "            'rho':(dp.eta0*dp.U0)/(dp.LS**2*dp.g)\n",
    "           })\n",
    "\n",
    "#dimensionless parameters\n",
    "\n",
    "ndp = edict({'U':dp.U0/sf.vel,\n",
    "             'asthenosphere':dp.asthenosphere/dp.LS,\n",
    "             'eta1':dp.eta1/dp.eta0,\n",
    "             'eta2':dp.eta2/dp.eta0,\n",
    "             'cohesion':dp.cohesion/sf.stress,\n",
    "             'fa':math.tan((math.pi/180.)*dp.fa), #convert friction angle to coefficient,\n",
    "             'g': dp.g/sf.g,\n",
    "             'rho':dp.rho/sf.rho,\n",
    "             'notchWidth':dp.notchWidth/dp.LS\n",
    "            \n",
    "            })"
   ]
  },
  {
   "cell_type": "code",
   "execution_count": 105,
   "metadata": {
    "collapsed": false
   },
   "outputs": [],
   "source": [
    "# =============================================================================\n",
    "# MESH\n",
    "# =============================================================================\n",
    "\n",
    "width, height = 4, 1 # domain width and height\n",
    "# option \"crossed\" stands for crossed diagonals (number of elements=XDIV*ZDIV*4)\n",
    "mesh = RectangleMesh(Point(-2, 0), Point(2.0, 1.0), md.res*4, md.res, \"crossed\")\n",
    "cell = triangle\n",
    "norm = FacetNormal(mesh) # definition of an outer normal\n",
    "\n",
    "ez = Constant((0, -1)) #gravity vector\n",
    "\n"
   ]
  },
  {
   "cell_type": "code",
   "execution_count": 106,
   "metadata": {
    "collapsed": false
   },
   "outputs": [],
   "source": [
    "#from mshr import *\n",
    "#domain = Rectangle(dolfin.Point(-2., 0.), dolfin.Point(2., 1.))\n",
    "#mesh = generate_mesh(domain,120)\n",
    "#cell = triangle\n",
    "#norm = FacetNormal(mesh) # definition of an outer normal\n",
    "\n",
    "#ez = Constant((0, -1)) #gravity vector"
   ]
  },
  {
   "cell_type": "code",
   "execution_count": 107,
   "metadata": {
    "collapsed": false
   },
   "outputs": [],
   "source": [
    "#Try loading the refined mesh from speigelman\n",
    "\n",
    "#mesh = Mesh(\"../plasticitymodels/mesh/compression_mesh_rounded_refine.xml.gz\")\n",
    "#coords = mesh.coordinates()\n",
    "#coords[:,1] += 1.\n",
    "#cell = triangle\n",
    "#norm = FacetNormal(mesh) # definition of an outer normal\n",
    "\n",
    "#ez = Constant((0, -1)) #gravity vector"
   ]
  },
  {
   "cell_type": "code",
   "execution_count": null,
   "metadata": {
    "collapsed": false
   },
   "outputs": [],
   "source": [
    "\n"
   ]
  },
  {
   "cell_type": "code",
   "execution_count": 108,
   "metadata": {
    "collapsed": false
   },
   "outputs": [],
   "source": [
    "# =============================================================================\n",
    "# Mesh refine\n",
    "# =============================================================================\n",
    "\n",
    "\n",
    "if md.refineMesh:\n",
    "\n",
    "    for i in [4.,2.,1.5]:\n",
    "        center = Point(0.0, ndp.asthenosphere)\n",
    "        radius = ndp.notchWidth * i\n",
    "\n",
    "        # Mark cells for refinement\n",
    "        markers = MeshFunction(\"bool\", mesh, mesh.topology().dim())\n",
    "        markers.set_all(False)\n",
    "        for cell in cells(mesh):\n",
    "            if (cell.midpoint().distance(center) < radius) and (cell.midpoint().y() > ndp.asthenosphere):\n",
    "                markers[cell.index()] = True\n",
    "\n",
    "        num_refinements = 1\n",
    "\n",
    "        for i in range(num_refinements):\n",
    "\n",
    "            # Refine mesh\n",
    "            mesh = refine(mesh, markers)\n"
   ]
  },
  {
   "cell_type": "code",
   "execution_count": 109,
   "metadata": {
    "collapsed": true
   },
   "outputs": [],
   "source": [
    "File('mesh.pvd') << mesh"
   ]
  },
  {
   "cell_type": "code",
   "execution_count": null,
   "metadata": {
    "collapsed": true
   },
   "outputs": [],
   "source": []
  },
  {
   "cell_type": "code",
   "execution_count": 110,
   "metadata": {
    "collapsed": false
   },
   "outputs": [],
   "source": [
    "# =============================================================================\n",
    "# Define function spaces\n",
    "# =============================================================================\n",
    "\n",
    "# Taylor-Hood elements: linear Lagrange elements for pressure\n",
    "# and quadratic Lagrange elements for velocity\n",
    "\n",
    "\n",
    "V = VectorElement(\"Lagrange\", mesh.ufl_cell(), 2)\n",
    "P = FiniteElement(\"Lagrange\", mesh.ufl_cell(), 1)\n",
    "\n",
    "TH = V * P\n",
    "W = FunctionSpace(mesh, TH)"
   ]
  },
  {
   "cell_type": "code",
   "execution_count": 111,
   "metadata": {
    "collapsed": false
   },
   "outputs": [],
   "source": [
    "# Define variational problem\n",
    "\n",
    "(u , p) = TrialFunctions(W)\n",
    "\n",
    "\n",
    "(v , q)= TestFunctions(W)\n",
    "\n"
   ]
  },
  {
   "cell_type": "code",
   "execution_count": 112,
   "metadata": {
    "collapsed": false
   },
   "outputs": [],
   "source": [
    "# =============================================================================\n",
    "# INITIAL CONDITIONS - & Material distribution\n",
    "# =============================================================================\n",
    "u_init = Expression((\"0\", \"0\",\"0\"), degree=2) # zero\n",
    "\n",
    "\n",
    "density=Constant(ndp.rho)\n",
    "\n",
    "\n",
    "tol = 1e-14\n",
    "\n",
    "eta_1 = ndp.eta1\n",
    "eta_2 = ndp.eta2\n",
    "\n",
    "\n",
    "\n"
   ]
  },
  {
   "cell_type": "code",
   "execution_count": 113,
   "metadata": {
    "collapsed": false
   },
   "outputs": [
    {
     "data": {
      "text/plain": [
       "(99.99999999999999, 0.1)"
      ]
     },
     "execution_count": 113,
     "metadata": {},
     "output_type": "execute_result"
    }
   ],
   "source": [
    "#Fast but opaque C++ string, \n",
    "#eta = Expression('x[1] < 1./16 + tol && x[0] < 1./16 && x[0] > -1./16 ? eta_1 : eta_2', degree=0,\n",
    "#               tol=tol, eta_1=eta_1, eta_2=eta_2)\n",
    "\n",
    "\n",
    "class Eta(Expression):\n",
    "    def set_eta_values(self, eta_1, eta_2):\n",
    "        self.eta_1, self.eta_2 = eta_1, eta_2\n",
    "    def eval(self, value, x):\n",
    "        \"Set value[0] to value at point x\"\n",
    "        \n",
    "        #circle1 = np.dot(x[0] - cCentre[0], x[0] - cCentre[0]) +   np.dot( x[1] - cCentre[1], x[1] - cCentre[1])\n",
    "        mu = ndp.notchWidth\n",
    "        sig =  0.1*ndp.notchWidth\n",
    "        gausFn1 = ndp.notchWidth*math.exp(-1.*(x[0] - mu)**2/(2 * sig**2)) + ndp.asthenosphere\n",
    "\n",
    "        gausFn2 = ndp.notchWidth*math.exp(-1.*(x[0] + mu)**2/(2 * sig**2)) + ndp.asthenosphere\n",
    "        \n",
    "        if (x[1] <= ndp.asthenosphere):\n",
    "            value[0] = self.eta_2\n",
    "        \n",
    "        elif (x[1] < ndp.asthenosphere + ndp.notchWidth) and (x[0] < ndp.notchWidth) and (x[0] > -1.*ndp.notchWidth):\n",
    "            value[0] = self.eta_2\n",
    "        \n",
    "        #elif x[1] < gausFn1:\n",
    "        #    value[0] = self.eta_2\n",
    "        #elif x[1] < gausFn2:\n",
    "        #    value[0] = self.eta_2\n",
    "\n",
    "        else:\n",
    "            value[0] = self.eta_1\n",
    "    \n",
    "            \n",
    "            \n",
    "# Initialize Eta - viscosity\n",
    "etaExpr = Eta(degree=1)\n",
    "etaExpr.set_eta_values(ndp.eta1, eta_2)\n",
    "etaExpr.eta_1, etaExpr.eta_2"
   ]
  },
  {
   "cell_type": "code",
   "execution_count": null,
   "metadata": {
    "collapsed": false
   },
   "outputs": [],
   "source": []
  },
  {
   "cell_type": "code",
   "execution_count": 114,
   "metadata": {
    "collapsed": false
   },
   "outputs": [
    {
     "data": {
      "text/plain": [
       "(99.99999999999999, 0.1)"
      ]
     },
     "execution_count": 114,
     "metadata": {},
     "output_type": "execute_result"
    }
   ],
   "source": [
    "# Initialize Eta - viscosity\n",
    "etaExpr = Eta(degree=1)\n",
    "etaExpr.set_eta_values(ndp.eta1, eta_2)\n",
    "etaExpr.eta_1, etaExpr.eta_2"
   ]
  },
  {
   "cell_type": "code",
   "execution_count": 115,
   "metadata": {
    "collapsed": false
   },
   "outputs": [
    {
     "data": {
      "text/plain": [
       "<matplotlib.tri.tricontour.TriContourSet at 0x7efbca8c7d50>"
      ]
     },
     "execution_count": 115,
     "metadata": {},
     "output_type": "execute_result"
    },
    {
     "data": {
      "image/png": "[encoded data removed]",
      "text/plain": [
       "<matplotlib.figure.Figure at 0x7efbca9e6fd0>"
      ]
     },
     "metadata": {},
     "output_type": "display_data"
    }
   ],
   "source": [
    "# =============================================================================\n",
    "# Plotting expressions\n",
    "# =============================================================================\n",
    "\n",
    "\n",
    "X = FunctionSpace(mesh, P)\n",
    "\n",
    "f = Function(X)\n",
    "f.interpolate(etaExpr)\n",
    "plot(f )"
   ]
  },
  {
   "cell_type": "code",
   "execution_count": 116,
   "metadata": {
    "collapsed": true
   },
   "outputs": [],
   "source": [
    "File('visc.pvd') << f"
   ]
  },
  {
   "cell_type": "code",
   "execution_count": 117,
   "metadata": {
    "collapsed": false
   },
   "outputs": [],
   "source": [
    "#%pylab inline\n",
    "\n",
    "#coords = mesh.coordinates()\n",
    "#triplot(coords[:,0], coords[:,1], triangles=mesh.cells())\n",
    "#print mesh.num_cells()"
   ]
  },
  {
   "cell_type": "code",
   "execution_count": 118,
   "metadata": {
    "collapsed": false
   },
   "outputs": [],
   "source": [
    "# =============================================================================\n",
    "# BOUNDARY CONDITIONS\n",
    "# =============================================================================\n",
    "\n",
    "# Define boundaries\n",
    "def left(x):\n",
    "    return near(x[0], -2)\n",
    "\n",
    "def right(x):\n",
    "    return near(x[0], 2)\n",
    "\n",
    "\n",
    "def bottom(x):\n",
    "    return near(x[1], 0)\n",
    "\n",
    "def top(x):\n",
    "    return near(x[1], 1)\n",
    "\n",
    "\n",
    "\n",
    "\n",
    "noslip = Constant((0, 0))\n",
    "freeslip = Constant(0)\n",
    "leftBC = Constant((1.0, 0))\n",
    "rightBC = Constant((-1.0, 0))\n",
    "\n",
    "#W.sub(1) ~ Pressure DoFs\n",
    "#W.sub(0) ~ Vel DoFs\n",
    "\n",
    "\n",
    "bc_v_bot = DirichletBC(W.sub(0).sub(1), freeslip, bottom)\n",
    "bc_v_left = DirichletBC(W.sub(0), leftBC, left)\n",
    "bc_v_right = DirichletBC(W.sub(0), rightBC,right)\n",
    "\n",
    "\n",
    "# fixing the pressure at the top boundary\n",
    "\n",
    "bc_p = DirichletBC(W.sub(1),\n",
    "                    Expression(\"0\", degree=1),\n",
    "                    \"near(x[0],0) && near(x[1],0)\",\n",
    "                    method=\"pointwise\")\n",
    "\n",
    "\n",
    "# collection of BCs for mechanical part of the problem\n",
    "bcs_W = [bc_p, bc_v_bot, bc_v_left, bc_v_right]"
   ]
  },
  {
   "cell_type": "code",
   "execution_count": null,
   "metadata": {
    "collapsed": false
   },
   "outputs": [],
   "source": []
  },
  {
   "cell_type": "code",
   "execution_count": 119,
   "metadata": {
    "collapsed": false
   },
   "outputs": [],
   "source": [
    "# =============================================================================\n",
    "# Rheology\n",
    "# =============================================================================\n",
    "\n",
    "def eijeij(u):\n",
    "    \"\"\"calculate second invariant of the strainrate tensor\"\"\"\n",
    "    return sqrt(0.5*(inner(sym(nabla_grad(u)), sym(nabla_grad(u)))))\n",
    "\n",
    "def viscosity(w):\n",
    "    \n",
    "    u, p = w.split()\n",
    "    \n",
    "    viscosityl = ndp.eta1\n",
    "    viscosityp = 1e-10 + ndp.cohesion/(eijeij(u) + 1e-10)\n",
    "    return 1./(1./etaExpr + 1./viscosityp)\n",
    " \n",
    "    \n",
    "#our viscosity function will return a Fenics /UFl Exprssion\n",
    "#the expression must be projected to a finite element space before we can visualize it:    \n",
    "\n",
    "\n",
    "\n",
    "\n",
    "#vtest = viscosity(u)    \n",
    "#vtest = project(vtest, V1)\n",
    "#plot(vtest, title='viscosity')\n",
    "#print(type(vtest))"
   ]
  },
  {
   "cell_type": "code",
   "execution_count": null,
   "metadata": {
    "collapsed": false
   },
   "outputs": [],
   "source": []
  },
  {
   "cell_type": "code",
   "execution_count": 120,
   "metadata": {
    "collapsed": true
   },
   "outputs": [],
   "source": [
    "# =============================================================================\n",
    "# Functions to solve\n",
    "# =============================================================================\n",
    "\n",
    "\n",
    "w = Function(W)\n",
    "\n",
    "\n",
    "u_k = Function(W)\n",
    "u_k.interpolate(u_init)\n",
    "\n",
    "\n",
    "\n",
    "u_t = Function(W) #function to test different solutions\n",
    "\n",
    "\n",
    "#some function spaces to project expressions on\n",
    "V1 = FunctionSpace(mesh, 'P', 1)\n",
    "V2 = FunctionSpace(mesh, 'P', 2)"
   ]
  },
  {
   "cell_type": "code",
   "execution_count": 121,
   "metadata": {
    "collapsed": false
   },
   "outputs": [
    {
     "name": "stdout",
     "output_type": "stream",
     "text": [
      "(892.31332736875197, 1.0, 6.452964465999611)\n",
      "(843.66468174885506, 10.76106793315434, 0.78606438393498546)\n",
      "(12.659573896685352, 0.16176870997521181, 0.77471754380257052)\n",
      "(3.6507620094613316, 0.046658547961868448, 0.77104915097054905)\n",
      "(1.8005162040198144, 0.022975819820684196, 0.77118325032438462)\n"
     ]
    }
   ],
   "source": [
    "# =============================================================================\n",
    "# Picard loop\n",
    "# =============================================================================\n",
    "\n",
    "import numpy as np\n",
    "\n",
    "w = Function(W)\n",
    "u_k = Function(W)  \n",
    "u_k.interpolate(u_init)\n",
    "tol = 0.0001\n",
    "maxIts = 5\n",
    "\n",
    "for i in range(maxIts):\n",
    "    \n",
    "    #a = 2.*viscosity(u_k)*inner(grad(v), grad(omega))*dx \\\n",
    "    #- p*div(omega)*dx \\\n",
    "    #+ div(v)*phi*dx\n",
    "\n",
    "    \n",
    "    bv = (inner(sym(grad(v)), 2.*viscosity(u_k)*sym(grad(u))) - div(v)*p)\n",
    "    bp = -q*div(u)\n",
    "    rv = bv*dx\n",
    "    rp = bp*dx\n",
    "\n",
    "    a = rv + rp\n",
    "\n",
    "    L = density*inner(ez, v)*dx\n",
    "\n",
    "    solve(a == L, w, bcs_W)\n",
    "\n",
    "    diff = w.vector().array() - u_k.vector().array()\n",
    "    eps = np.linalg.norm(diff, ord=np.Inf)\n",
    "    \n",
    "    vL2 = np.linalg.norm(w.vector().array(), ord=np.Inf)\n",
    "    eps2 = eps/vL2\n",
    "    \n",
    "    #Non linear residual?\n",
    "    test = assemble(action(a, w) - L)\n",
    "    #test.array()\n",
    "    res = np.linalg.norm(test.array(), ord=np.Inf)\n",
    "    \n",
    "    \n",
    "    print (eps, eps2, res)\n",
    "\n",
    "    u_k.assign(w)\n",
    "    \n",
    "    if eps2 < tol:\n",
    "        break\n"
   ]
  },
  {
   "cell_type": "code",
   "execution_count": 122,
   "metadata": {
    "collapsed": true
   },
   "outputs": [],
   "source": [
    "current = w.copy()"
   ]
  },
  {
   "cell_type": "code",
   "execution_count": 123,
   "metadata": {
    "collapsed": true
   },
   "outputs": [],
   "source": [
    "u, p = w.split(deepcopy=True) "
   ]
  },
  {
   "cell_type": "code",
   "execution_count": 124,
   "metadata": {
    "collapsed": false
   },
   "outputs": [
    {
     "name": "stdout",
     "output_type": "stream",
     "text": [
      "Norm of velocity coefficient vector: 286.800254548396\n",
      "Norm of pressure coefficient vector: 7750.0901230564\n"
     ]
    }
   ],
   "source": [
    "print(\"Norm of velocity coefficient vector: %.15g\" % u.vector().norm(\"l2\"))\n",
    "print(\"Norm of pressure coefficient vector: %.15g\" % p.vector().norm(\"l2\"))"
   ]
  },
  {
   "cell_type": "code",
   "execution_count": 125,
   "metadata": {
    "collapsed": false
   },
   "outputs": [
    {
     "data": {
      "text/plain": [
       "<matplotlib.tri.tricontour.TriContourSet at 0x7efbca78d750>"
      ]
     },
     "execution_count": 125,
     "metadata": {},
     "output_type": "execute_result"
    },
    {
     "data": {
      "image/png": "[encoded data removed]",
      "text/plain": [
       "<matplotlib.figure.Figure at 0x7efbca7f64d0>"
      ]
     },
     "metadata": {},
     "output_type": "display_data"
    }
   ],
   "source": [
    "\n",
    "eij =  sqrt(0.5*(inner(sym(nabla_grad(u)), sym(nabla_grad(u)))))\n",
    "eijFEM = project(eij , V1)\n",
    "plot(eij , interactive=True, scalarbar = True ) "
   ]
  },
  {
   "cell_type": "code",
   "execution_count": 126,
   "metadata": {
    "collapsed": false
   },
   "outputs": [],
   "source": [
    "File('u.pvd') << u\n",
    "File('p.pvd') << p\n",
    "File('eij.pvd') << eijFEM"
   ]
  },
  {
   "cell_type": "code",
   "execution_count": 615,
   "metadata": {
    "collapsed": false
   },
   "outputs": [],
   "source": [
    "# =============================================================================\n",
    "# Non linear loop\n",
    "# =============================================================================\n",
    "\n",
    "\n",
    "# Define solution functions - current solution\n",
    "w = Function(W)\n",
    "u, p = split(w)\n",
    "\n",
    "\n",
    "bv = (inner(sym(grad(v)), 2.*viscosity(w)*sym(grad(u))) - div(v)*p - density*inner(ez, v))\n",
    "#bv = (inner(sym(grad(v)), 2.*viscosity(w)*sym(grad(u))) - div(v)*p)\n",
    "bp = -q*div(u)\n",
    "\n",
    "rv = bv*dx\n",
    "rp = bp*dx\n",
    "F = rv + rp\n",
    "\n",
    "J_W = derivative(F, w)\n",
    "# create nonlinear problem\n",
    "problem_W = NonlinearVariationalProblem(F, w, bcs_W, J_W)\n",
    "solver_W = NonlinearVariationalSolver(problem_W)\n",
    "prm_W = solver_W.parameters\n",
    "# Newton solver parameters (mechanical part of the problem)\n",
    "prm_W[\"newton_solver\"][\"relative_tolerance\"] = 1E-7\n",
    "#prm_W[\"newton_solver\"][\"absolute_tolerance\"] = 1E-11\n",
    "prm_W[\"newton_solver\"][\"maximum_iterations\"] = 10\n",
    "prm_W[\"newton_solver\"][\"relaxation_parameter\"] = 1.0\n",
    "#prm_W[\"newton_solver\"][\"convergence_criterion\"] = 'incremental'\n",
    "prm_W[\"newton_solver\"][\"convergence_criterion\"] = \"residual\"\n",
    "prm_W[\"newton_solver\"][\"linear_solver\"] = \"mumps\"\n",
    "set_log_level(PROGRESS)"
   ]
  },
  {
   "cell_type": "code",
   "execution_count": null,
   "metadata": {
    "collapsed": true
   },
   "outputs": [],
   "source": []
  },
  {
   "cell_type": "code",
   "execution_count": 616,
   "metadata": {
    "collapsed": false
   },
   "outputs": [],
   "source": [
    "# initializing velocity-pressure from the Picard solution \n",
    "w.interpolate(current)\n"
   ]
  },
  {
   "cell_type": "code",
   "execution_count": 135,
   "metadata": {
    "collapsed": false
   },
   "outputs": [
    {
     "ename": "RuntimeError",
     "evalue": "\n\n*** -------------------------------------------------------------------------\n*** DOLFIN encountered an error. If you are not able to resolve this issue\n*** using the information listed below, you can ask for help at\n***\n***     fenics-support@googlegroups.com\n***\n*** Remember to include the error message listed below and, if possible,\n*** include a *minimal* running example to reproduce the error.\n***\n*** -------------------------------------------------------------------------\n*** Error:   Unable to solve nonlinear system with NewtonSolver.\n*** Reason:  Newton solver did not converge because maximum number of iterations reached.\n*** Where:   This error was encountered inside NewtonSolver.cpp.\n*** Process: 0\n*** \n*** DOLFIN version: 2016.2.0\n*** Git changeset:  0f003bc07ee5fd583fb956245016d5972b80fea1\n*** -------------------------------------------------------------------------\n",
     "output_type": "error",
     "traceback": [
      "\u001b[0;31m\u001b[0m",
      "\u001b[0;31mRuntimeError\u001b[0mTraceback (most recent call last)",
      "\u001b[0;32m<ipython-input-135-903bd47c3e16>\u001b[0m in \u001b[0;36m<module>\u001b[0;34m()\u001b[0m\n\u001b[1;32m      1\u001b[0m \u001b[0;31m#info(\"Solve momentum equation\")\u001b[0m\u001b[0;34m\u001b[0m\u001b[0;34m\u001b[0m\u001b[0m\n\u001b[0;32m----> 2\u001b[0;31m \u001b[0msolver_W\u001b[0m\u001b[0;34m.\u001b[0m\u001b[0msolve\u001b[0m\u001b[0;34m(\u001b[0m\u001b[0;34m)\u001b[0m\u001b[0;34m\u001b[0m\u001b[0m\n\u001b[0m",
      "\u001b[0;31mRuntimeError\u001b[0m: \n\n*** -------------------------------------------------------------------------\n*** DOLFIN encountered an error. If you are not able to resolve this issue\n*** using the information listed below, you can ask for help at\n***\n***     fenics-support@googlegroups.com\n***\n*** Remember to include the error message listed below and, if possible,\n*** include a *minimal* running example to reproduce the error.\n***\n*** -------------------------------------------------------------------------\n*** Error:   Unable to solve nonlinear system with NewtonSolver.\n*** Reason:  Newton solver did not converge because maximum number of iterations reached.\n*** Where:   This error was encountered inside NewtonSolver.cpp.\n*** Process: 0\n*** \n*** DOLFIN version: 2016.2.0\n*** Git changeset:  0f003bc07ee5fd583fb956245016d5972b80fea1\n*** -------------------------------------------------------------------------\n"
     ]
    }
   ],
   "source": [
    "#info(\"Solve momentum equation\")\n",
    "solver_W.solve()"
   ]
  },
  {
   "cell_type": "code",
   "execution_count": 136,
   "metadata": {
    "collapsed": false
   },
   "outputs": [
    {
     "name": "stdout",
     "output_type": "stream",
     "text": [
      "9.34940745454e-06\n"
     ]
    }
   ],
   "source": [
    "# =============================================================================\n",
    "# Non linear residual\n",
    "# =============================================================================\n",
    "\n",
    "b = assemble(F)    # Residual\n",
    "x = w.vector()\n",
    "\n",
    "for bc in bcs_W:\n",
    "    bc.apply(b, x)\n",
    "        \n",
    "res_norm = b.norm('l2')\n",
    "\n",
    "# Log output\n",
    "print(res_norm)"
   ]
  },
  {
   "cell_type": "code",
   "execution_count": 137,
   "metadata": {
    "collapsed": true
   },
   "outputs": [],
   "source": [
    "# =============================================================================\n",
    "# Figures tc\n",
    "# ============================================================================="
   ]
  },
  {
   "cell_type": "code",
   "execution_count": 138,
   "metadata": {
    "collapsed": true
   },
   "outputs": [],
   "source": [
    "u, p = w.split(deepcopy=True) "
   ]
  },
  {
   "cell_type": "code",
   "execution_count": 139,
   "metadata": {
    "collapsed": false
   },
   "outputs": [
    {
     "data": {
      "text/plain": [
       "<matplotlib.tri.tricontour.TriContourSet at 0x7fb706345890>"
      ]
     },
     "execution_count": 139,
     "metadata": {},
     "output_type": "execute_result"
    },
    {
     "data": {
      "image/png": "[encoded data removed]",
      "text/plain": [
       "<matplotlib.figure.Figure at 0x7fb7065e9a50>"
      ]
     },
     "metadata": {},
     "output_type": "display_data"
    }
   ],
   "source": [
    "eij =  sqrt(0.5*(inner(sym(nabla_grad(u)), sym(nabla_grad(u)))))\n",
    "eijFEM = project(eij , V1)\n",
    "plot(eij , interactive=True, scalarbar = True ) "
   ]
  },
  {
   "cell_type": "code",
   "execution_count": 140,
   "metadata": {
    "collapsed": false
   },
   "outputs": [],
   "source": [
    "File('u.pvd') << u\n",
    "File('p.pvd') << p\n",
    "File('eij.pvd') << eijFEM"
   ]
  },
  {
   "cell_type": "code",
   "execution_count": null,
   "metadata": {
    "collapsed": false
   },
   "outputs": [],
   "source": [
    "\n"
   ]
  },
  {
   "cell_type": "markdown",
   "metadata": {
    "collapsed": false
   },
   "source": [
    "uvals = eijFEM.vector().array()\n",
    "xyvals = mesh.coordinates()\n",
    "#xyvals = dofs_x\n",
    "xvals = xyvals[:,0]\n",
    "yvals= xyvals[:,1]\n",
    "\n",
    "xx = np.linspace(-2,2, 100)\n",
    "yy = np.linspace(0,1, 25)\n",
    "\n",
    "XX, YY = np.meshgrid(xx,yy)\n",
    "\n",
    "\n",
    "from scipy.interpolate import griddata\n",
    "uu = griddata(np.column_stack((xvals, yvals)), uvals, np.dstack((XX, XX)))\n",
    "\n",
    "uvals = eijFEM.vector().array()\n",
    "xyvals = mesh.coordinates()\n",
    "#xyvals = dofs_x\n",
    "xvals = xyvals[:,0]\n",
    "yvals= xyvals[:,1]\n",
    "\n",
    "xx = np.linspace(-2,2, 100)\n",
    "yy = np.linspace(0,1, 25)\n",
    "\n",
    "XX, YY = np.meshgrid(xx,yy)\n"
   ]
  },
  {
   "cell_type": "code",
   "execution_count": 141,
   "metadata": {
    "collapsed": false
   },
   "outputs": [
    {
     "ename": "AttributeError",
     "evalue": "'module' object has no attribute 'homogenize'",
     "output_type": "error",
     "traceback": [
      "\u001b[0;31m\u001b[0m",
      "\u001b[0;31mAttributeError\u001b[0mTraceback (most recent call last)",
      "\u001b[0;32m<ipython-input-141-8d0d965b68e5>\u001b[0m in \u001b[0;36m<module>\u001b[0;34m()\u001b[0m\n\u001b[1;32m      1\u001b[0m \u001b[0;31m#\u001b[0m\u001b[0;34m\u001b[0m\u001b[0;34m\u001b[0m\u001b[0m\n\u001b[0;32m----> 2\u001b[0;31m \u001b[0mdolfin\u001b[0m\u001b[0;34m.\u001b[0m\u001b[0mfem\u001b[0m\u001b[0;34m.\u001b[0m\u001b[0mbcs\u001b[0m\u001b[0;34m.\u001b[0m\u001b[0mhomogenize\u001b[0m\u001b[0;34m(\u001b[0m\u001b[0mbc\u001b[0m\u001b[0;34m)\u001b[0m\u001b[0;34m\u001b[0m\u001b[0m\n\u001b[0m",
      "\u001b[0;31mAttributeError\u001b[0m: 'module' object has no attribute 'homogenize'"
     ]
    }
   ],
   "source": [
    "#\n",
    "dolfin.fem.bcs.homogenize(bc)"
   ]
  },
  {
   "cell_type": "code",
   "execution_count": null,
   "metadata": {
    "collapsed": true
   },
   "outputs": [],
   "source": []
  }
 ],
 "metadata": {
  "kernelspec": {
   "display_name": "Python 2",
   "language": "python",
   "name": "python2"
  },
  "language_info": {
   "codemirror_mode": {
    "name": "ipython",
    "version": 2
   },
   "file_extension": ".py",
   "mimetype": "text/x-python",
   "name": "python",
   "nbconvert_exporter": "python",
   "pygments_lexer": "ipython2",
   "version": "2.7.12"
  }
 },
 "nbformat": 4,
 "nbformat_minor": 1
}
