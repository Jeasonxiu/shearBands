{
 "cells": [
  {
   "cell_type": "markdown",
   "metadata": {},
   "source": [
    "# Learnings"
   ]
  },
  {
   "cell_type": "code",
   "execution_count": 2,
   "metadata": {
    "collapsed": true
   },
   "outputs": [],
   "source": [
    "from dolfin import *"
   ]
  },
  {
   "cell_type": "markdown",
   "metadata": {},
   "source": [
    "## Difference between a function and an expression\n",
    "\n",
    "__Function__\n",
    "\n",
    "... is described by expansion coefficients with reference to a\n",
    "FunctionSpace with a given basis: $u = \\sum_i U_i \\phi_i$\n",
    "\n",
    "```python\n",
    "u = Function ( V ) # Defines the function space\n",
    "u.vector () # The coefficients\n",
    "```\n",
    "\n",
    "__Expression__\n",
    "\n",
    "... given by an evaluation formula (more or less explicit)\n",
    "\n",
    "```\n",
    "f = Expression (\"...\", degree = ...)\n",
    "...\n",
    "```\n",
    "\n",
    "During assemble an Expression is interpolated into a polynomial\n",
    "space of the given degree on each cell.\n"
   ]
  },
  {
   "cell_type": "markdown",
   "metadata": {
    "collapsed": true
   },
   "source": [
    "## Mesh info"
   ]
  },
  {
   "cell_type": "markdown",
   "metadata": {},
   "source": [
    "#Mesh information can be gathered from the mesh object, e.g.,\n",
    "\n",
    "\n",
    "mesh.coordinates() returns the coordinates of the vertices as a numpy array with shape (number of vertices, number of space dimensions), MM being the number of vertices in the mesh and dd being the number of space dimensions,\n",
    "\n",
    "mesh.num_cells() returns the number of cells (triangles) in the mesh,\n",
    "\n",
    "mesh.num_vertices() returns the number of vertices in the mesh (with our choice of linear Lagrange elements this equals the number of nodes),\n",
    "\n",
    "mesh.cells() returns the vertex numbers of the vertices in each cell as a numpy array with shape (number of cells, number of vertices in a cell),\n",
    "\n",
    "mesh.hmin() returns the minimum cell diameter (“smallest cell”),\n",
    "\n",
    "mesh.hmax() returns the maximum cell diameter (“largest cell”).\n",
    "\n",
    "\n"
   ]
  },
  {
   "cell_type": "markdown",
   "metadata": {},
   "source": [
    "## Integrate a function"
   ]
  },
  {
   "cell_type": "code",
   "execution_count": 62,
   "metadata": {
    "collapsed": false
   },
   "outputs": [
    {
     "name": "stdout",
     "output_type": "stream",
     "text": [
      "42.0\n",
      "168.0\n",
      "1.25\n",
      "1.25\n"
     ]
    }
   ],
   "source": [
    "\n",
    "mesh = UnitSquareMesh(42, 42)\n",
    "\n",
    "#Volume / area\n",
    "c = Constant(42.0)\n",
    "print assemble(c*dx(mesh))\n",
    "\n",
    "#Boundary (all boundaries) - surface intagrals should be in the Tosi et al script\n",
    "c = Constant(42.0)\n",
    "print assemble(c*ds(mesh))\n",
    "\n",
    "\n",
    "f = Expression(\"1.0 + x[0]*x[1]\", degree=2)\n",
    "print assemble(f*dx(mesh))\n",
    "\n",
    "V = FunctionSpace(mesh, \"Lagrange\", 2)\n",
    "u = project(f, V)\n",
    "print assemble(u*dx)\n"
   ]
  },
  {
   "cell_type": "code",
   "execution_count": 63,
   "metadata": {
    "collapsed": false,
    "scrolled": true
   },
   "outputs": [
    {
     "name": "stdout",
     "output_type": "stream",
     "text": [
      "1.0\n"
     ]
    }
   ],
   "source": [
    "# Boundary integrals Correct way: https://fenicsproject.org/qa/4482/integrals-over-sub-domain\n",
    "markers = FacetFunctionSizet(mesh, 0) # Note initialization to 0\n",
    "\n",
    "#ds = ds[markers]\n",
    "ds =  ds(subdomain_data=markers)\n",
    "TopBoundary().mark(markers, 1) # marking to 1 while all other facets are 0\n",
    "form = 1*ds(1, domain=mesh)\n",
    "ans = assemble(form)   # circumnference\n",
    "#assert abs(ans - Width) < 1E-13\n",
    "print ans"
   ]
  },
  {
   "cell_type": "code",
   "execution_count": 56,
   "metadata": {
    "collapsed": false
   },
   "outputs": [
    {
     "data": {
      "text/plain": [
       "Measure('exterior_facet', subdomain_id='everywhere', subdomain_data=<dolfin.cpp.mesh.FacetFunctionSizet; proxy of <Swig Object of type 'std::shared_ptr< dolfin::FacetFunction< std::size_t > > *' at 0x7f470fe0e2d0> >)"
      ]
     },
     "execution_count": 56,
     "metadata": {},
     "output_type": "execute_result"
    }
   ],
   "source": [
    "ds(subdomain_data=markers)"
   ]
  },
  {
   "cell_type": "markdown",
   "metadata": {},
   "source": [
    "## mesh tricks"
   ]
  },
  {
   "cell_type": "code",
   "execution_count": 8,
   "metadata": {
    "collapsed": false
   },
   "outputs": [
    {
     "data": {
      "text/plain": [
       "(0.03367175148507373, 0.03367175148507357, 0.006973648066990867)"
      ]
     },
     "execution_count": 8,
     "metadata": {},
     "output_type": "execute_result"
    }
   ],
   "source": [
    "mesh.hmax(), mesh.hmin(), mesh.rmax()"
   ]
  },
  {
   "cell_type": "code",
   "execution_count": 11,
   "metadata": {
    "collapsed": false
   },
   "outputs": [
    {
     "data": {
      "text/plain": [
       "1.0"
      ]
     },
     "execution_count": 11,
     "metadata": {},
     "output_type": "execute_result"
    }
   ],
   "source": [
    "mesh.coordinates().max()"
   ]
  },
  {
   "cell_type": "markdown",
   "metadata": {},
   "source": [
    "## Quadrature points"
   ]
  },
  {
   "cell_type": "code",
   "execution_count": 12,
   "metadata": {
    "collapsed": false
   },
   "outputs": [
    {
     "name": "stdout",
     "output_type": "stream",
     "text": [
      "        Calling FFC just-in-time (JIT) compiler, this may take some time.\n",
      "Missing quad_scheme in quadrature element.\n"
     ]
    },
    {
     "ename": "RuntimeError",
     "evalue": "\n\n*** -------------------------------------------------------------------------\n*** DOLFIN encountered an error. If you are not able to resolve this issue\n*** using the information listed below, you can ask for help at\n***\n***     fenics-support@googlegroups.com\n***\n*** Remember to include the error message listed below and, if possible,\n*** include a *minimal* running example to reproduce the error.\n***\n*** -------------------------------------------------------------------------\n*** Error:   Unable to perform just-in-time compilation of form.\n*** Reason:  ffc.jit failed with message:\nTraceback (most recent call last):\n  File \"/usr/local/lib/python2.7/dist-packages/dolfin/compilemodules/jit.py\", line 128, in jit\n    result = ffc.jit(ufl_object, parameters=p)\n  File \"/usr/local/lib/python2.7/dist-packages/ffc/jitcompiler.py\", line 198, in jit\n    module = jit_build(ufl_object, module_name, parameters)\n  File \"/usr/local/lib/python2.7/dist-packages/ffc/jitcompiler.py\", line 120, in jit_build\n    generate=jit_generate)\n  File \"/usr/local/lib/python2.7/dist-packages/dijitso/jit.py\", line 160, in jit\n    header, source, dependencies = generate(jitable, name, signature, params[\"generator\"])\n  File \"/usr/local/lib/python2.7/dist-packages/ffc/jitcompiler.py\", line 66, in jit_generate\n    prefix=module_name, parameters=parameters, jit=True)\n  File \"/usr/local/lib/python2.7/dist-packages/ffc/compiler.py\", line 148, in compile_element\n    prefix, parameters, jit)\n  File \"/usr/local/lib/python2.7/dist-packages/ffc/compiler.py\", line 183, in compile_ufl_objects\n    analysis = analyze_ufl_objects(ufl_objects, kind, parameters)\n  File \"/usr/local/lib/python2.7/dist-packages/ffc/analysis.py\", line 122, in analyze_ufl_objects\n    error(\"Missing quad_scheme in quadrature element.\")\n  File \"<string>\", line 1, in <lambda>\n  File \"/usr/local/lib/python2.7/dist-packages/ufl/log.py\", line 171, in error\n    raise self._exception_type(self._format_raw(*message))\nException: Missing quad_scheme in quadrature element.\n.\n*** Where:   This error was encountered inside jit.py.\n*** Process: 0\n*** \n*** DOLFIN version: 2016.2.0\n*** Git changeset:  0f003bc07ee5fd583fb956245016d5972b80fea1\n*** -------------------------------------------------------------------------\n",
     "output_type": "error",
     "traceback": [
      "\u001b[0;31m\u001b[0m",
      "\u001b[0;31mRuntimeError\u001b[0mTraceback (most recent call last)",
      "\u001b[0;32m<ipython-input-12-bb7ac13bff03>\u001b[0m in \u001b[0;36m<module>\u001b[0;34m()\u001b[0m\n\u001b[1;32m      9\u001b[0m \u001b[0mmesh\u001b[0m \u001b[0;34m=\u001b[0m \u001b[0mUnitSquareMesh\u001b[0m\u001b[0;34m(\u001b[0m\u001b[0;36m10\u001b[0m\u001b[0;34m,\u001b[0m \u001b[0;36m10\u001b[0m\u001b[0;34m)\u001b[0m\u001b[0;34m\u001b[0m\u001b[0m\n\u001b[1;32m     10\u001b[0m \u001b[0mgdim\u001b[0m \u001b[0;34m=\u001b[0m \u001b[0mmesh\u001b[0m\u001b[0;34m.\u001b[0m\u001b[0mgeometry\u001b[0m\u001b[0;34m(\u001b[0m\u001b[0;34m)\u001b[0m\u001b[0;34m.\u001b[0m\u001b[0mdim\u001b[0m\u001b[0;34m(\u001b[0m\u001b[0;34m)\u001b[0m\u001b[0;34m\u001b[0m\u001b[0m\n\u001b[0;32m---> 11\u001b[0;31m \u001b[0mV\u001b[0m \u001b[0;34m=\u001b[0m \u001b[0mVectorFunctionSpace\u001b[0m\u001b[0;34m(\u001b[0m\u001b[0mmesh\u001b[0m\u001b[0;34m,\u001b[0m \u001b[0;34m'Quadrature'\u001b[0m\u001b[0;34m,\u001b[0m \u001b[0;36m2\u001b[0m\u001b[0;34m)\u001b[0m\u001b[0;34m\u001b[0m\u001b[0m\n\u001b[0m\u001b[1;32m     12\u001b[0m \u001b[0;31m# Quad points\u001b[0m\u001b[0;34m\u001b[0m\u001b[0;34m\u001b[0m\u001b[0m\n\u001b[1;32m     13\u001b[0m \u001b[0mxq\u001b[0m \u001b[0;34m=\u001b[0m \u001b[0mV\u001b[0m\u001b[0;34m.\u001b[0m\u001b[0mdofmap\u001b[0m\u001b[0;34m(\u001b[0m\u001b[0;34m)\u001b[0m\u001b[0;34m.\u001b[0m\u001b[0mtabulate_all_coordinates\u001b[0m\u001b[0;34m(\u001b[0m\u001b[0mmesh\u001b[0m\u001b[0;34m)\u001b[0m\u001b[0;34m.\u001b[0m\u001b[0mreshape\u001b[0m\u001b[0;34m(\u001b[0m\u001b[0;34m(\u001b[0m\u001b[0;34m-\u001b[0m\u001b[0;36m1\u001b[0m\u001b[0;34m,\u001b[0m \u001b[0mgdim\u001b[0m\u001b[0;34m)\u001b[0m\u001b[0;34m)\u001b[0m\u001b[0;34m\u001b[0m\u001b[0m\n",
      "\u001b[0;32m/usr/local/lib/python2.7/dist-packages/dolfin/functions/functionspace.py\u001b[0m in \u001b[0;36mVectorFunctionSpace\u001b[0;34m(mesh, family, degree, dim, form_degree, constrained_domain, restriction)\u001b[0m\n\u001b[1;32m    427\u001b[0m \u001b[0;34m\u001b[0m\u001b[0m\n\u001b[1;32m    428\u001b[0m     return FunctionSpace(mesh, element,\n\u001b[0;32m--> 429\u001b[0;31m                          constrained_domain=constrained_domain)\n\u001b[0m\u001b[1;32m    430\u001b[0m \u001b[0;34m\u001b[0m\u001b[0m\n\u001b[1;32m    431\u001b[0m \u001b[0;34m\u001b[0m\u001b[0m\n",
      "\u001b[0;32m/usr/local/lib/python2.7/dist-packages/dolfin/functions/functionspace.py\u001b[0m in \u001b[0;36m__init__\u001b[0;34m(self, *args, **kwargs)\u001b[0m\n\u001b[1;32m    195\u001b[0m                                  + str(args[0]))\n\u001b[1;32m    196\u001b[0m             \u001b[0;32melif\u001b[0m \u001b[0mlen\u001b[0m\u001b[0;34m(\u001b[0m\u001b[0margs\u001b[0m\u001b[0;34m)\u001b[0m \u001b[0;34m==\u001b[0m \u001b[0;36m2\u001b[0m\u001b[0;34m:\u001b[0m\u001b[0;34m\u001b[0m\u001b[0m\n\u001b[0;32m--> 197\u001b[0;31m                 \u001b[0mself\u001b[0m\u001b[0;34m.\u001b[0m\u001b[0m_init_from_ufl\u001b[0m\u001b[0;34m(\u001b[0m\u001b[0;34m*\u001b[0m\u001b[0margs\u001b[0m\u001b[0;34m,\u001b[0m \u001b[0;34m**\u001b[0m\u001b[0mkwargs\u001b[0m\u001b[0;34m)\u001b[0m\u001b[0;34m\u001b[0m\u001b[0m\n\u001b[0m\u001b[1;32m    198\u001b[0m             \u001b[0;32melse\u001b[0m\u001b[0;34m:\u001b[0m\u001b[0;34m\u001b[0m\u001b[0m\n\u001b[1;32m    199\u001b[0m                 \u001b[0mself\u001b[0m\u001b[0;34m.\u001b[0m\u001b[0m_init_convenience\u001b[0m\u001b[0;34m(\u001b[0m\u001b[0;34m*\u001b[0m\u001b[0margs\u001b[0m\u001b[0;34m,\u001b[0m \u001b[0;34m**\u001b[0m\u001b[0mkwargs\u001b[0m\u001b[0;34m)\u001b[0m\u001b[0;34m\u001b[0m\u001b[0m\n",
      "\u001b[0;32m/usr/local/lib/python2.7/dist-packages/dolfin/functions/functionspace.py\u001b[0m in \u001b[0;36m_init_from_ufl\u001b[0;34m(self, mesh, element, constrained_domain)\u001b[0m\n\u001b[1;32m    215\u001b[0m         \u001b[0;31m#if dolfin_element is None or dolfin_dofmap is None:\u001b[0m\u001b[0;34m\u001b[0m\u001b[0;34m\u001b[0m\u001b[0m\n\u001b[1;32m    216\u001b[0m         \u001b[0;31m#    assert dolfin_element is None and dolfin_dofmap is None, \"Expecting both or none of these.\"\u001b[0m\u001b[0;34m\u001b[0m\u001b[0;34m\u001b[0m\u001b[0m\n\u001b[0;32m--> 217\u001b[0;31m         \u001b[0mdolfin_element\u001b[0m\u001b[0;34m,\u001b[0m \u001b[0mdolfin_dofmap\u001b[0m \u001b[0;34m=\u001b[0m \u001b[0m_compile_dolfin_element\u001b[0m\u001b[0;34m(\u001b[0m\u001b[0melement\u001b[0m\u001b[0;34m,\u001b[0m \u001b[0mmesh\u001b[0m\u001b[0;34m,\u001b[0m \u001b[0mconstrained_domain\u001b[0m\u001b[0;34m=\u001b[0m\u001b[0mconstrained_domain\u001b[0m\u001b[0;34m)\u001b[0m\u001b[0;34m\u001b[0m\u001b[0m\n\u001b[0m\u001b[1;32m    218\u001b[0m \u001b[0;34m\u001b[0m\u001b[0m\n\u001b[1;32m    219\u001b[0m         \u001b[0;31m# Initialize the cpp.FunctionSpace\u001b[0m\u001b[0;34m\u001b[0m\u001b[0;34m\u001b[0m\u001b[0m\n",
      "\u001b[0;32m/usr/local/lib/python2.7/dist-packages/dolfin/functions/functionspace.py\u001b[0m in \u001b[0;36m_compile_dolfin_element\u001b[0;34m(element, mesh, constrained_domain)\u001b[0m\n\u001b[1;32m     80\u001b[0m \u001b[0;34m\u001b[0m\u001b[0m\n\u001b[1;32m     81\u001b[0m     \u001b[0;31m# JIT-compile element to get ufc_element and ufc_dofmap\u001b[0m\u001b[0;34m\u001b[0m\u001b[0;34m\u001b[0m\u001b[0m\n\u001b[0;32m---> 82\u001b[0;31m     \u001b[0mufc_element\u001b[0m\u001b[0;34m,\u001b[0m \u001b[0mufc_dofmap\u001b[0m \u001b[0;34m=\u001b[0m \u001b[0mjit\u001b[0m\u001b[0;34m(\u001b[0m\u001b[0melement\u001b[0m\u001b[0;34m,\u001b[0m \u001b[0mmpi_comm\u001b[0m\u001b[0;34m=\u001b[0m\u001b[0mmesh\u001b[0m\u001b[0;34m.\u001b[0m\u001b[0mmpi_comm\u001b[0m\u001b[0;34m(\u001b[0m\u001b[0;34m)\u001b[0m\u001b[0;34m)\u001b[0m\u001b[0;34m\u001b[0m\u001b[0m\n\u001b[0m\u001b[1;32m     83\u001b[0m \u001b[0;34m\u001b[0m\u001b[0m\n\u001b[1;32m     84\u001b[0m     \u001b[0mdolfin_element\u001b[0m \u001b[0;34m=\u001b[0m \u001b[0mcpp\u001b[0m\u001b[0;34m.\u001b[0m\u001b[0mFiniteElement\u001b[0m\u001b[0;34m(\u001b[0m\u001b[0mufc_element\u001b[0m\u001b[0;34m)\u001b[0m\u001b[0;34m\u001b[0m\u001b[0m\n",
      "\u001b[0;32m/usr/local/lib/python2.7/dist-packages/dolfin/compilemodules/jit.py\u001b[0m in \u001b[0;36mmpi_jit\u001b[0;34m(*args, **kwargs)\u001b[0m\n\u001b[1;32m     66\u001b[0m         \u001b[0;31m# Just call JIT compiler when running in serial\u001b[0m\u001b[0;34m\u001b[0m\u001b[0;34m\u001b[0m\u001b[0m\n\u001b[1;32m     67\u001b[0m         \u001b[0;32mif\u001b[0m \u001b[0mMPI\u001b[0m\u001b[0;34m.\u001b[0m\u001b[0msize\u001b[0m\u001b[0;34m(\u001b[0m\u001b[0mmpi_comm\u001b[0m\u001b[0;34m)\u001b[0m \u001b[0;34m==\u001b[0m \u001b[0;36m1\u001b[0m\u001b[0;34m:\u001b[0m\u001b[0;34m\u001b[0m\u001b[0m\n\u001b[0;32m---> 68\u001b[0;31m             \u001b[0;32mreturn\u001b[0m \u001b[0mlocal_jit\u001b[0m\u001b[0;34m(\u001b[0m\u001b[0;34m*\u001b[0m\u001b[0margs\u001b[0m\u001b[0;34m,\u001b[0m \u001b[0;34m**\u001b[0m\u001b[0mkwargs\u001b[0m\u001b[0;34m)\u001b[0m\u001b[0;34m\u001b[0m\u001b[0m\n\u001b[0m\u001b[1;32m     69\u001b[0m \u001b[0;34m\u001b[0m\u001b[0m\n\u001b[1;32m     70\u001b[0m         \u001b[0;31m# Compile first on process 0\u001b[0m\u001b[0;34m\u001b[0m\u001b[0;34m\u001b[0m\u001b[0m\n",
      "\u001b[0;32m/usr/local/lib/python2.7/dist-packages/dolfin/compilemodules/jit.py\u001b[0m in \u001b[0;36mjit\u001b[0;34m(ufl_object, form_compiler_parameters, mpi_comm)\u001b[0m\n\u001b[1;32m    131\u001b[0m         cpp.dolfin_error(\"jit.py\",\n\u001b[1;32m    132\u001b[0m                          \u001b[0;34m\"perform just-in-time compilation of form\"\u001b[0m\u001b[0;34m,\u001b[0m\u001b[0;34m\u001b[0m\u001b[0m\n\u001b[0;32m--> 133\u001b[0;31m                          \"ffc.jit failed with message:\\n%s\" % (tb_text,))\n\u001b[0m\u001b[1;32m    134\u001b[0m \u001b[0;34m\u001b[0m\u001b[0m\n\u001b[1;32m    135\u001b[0m     \u001b[0;32mif\u001b[0m \u001b[0misinstance\u001b[0m\u001b[0;34m(\u001b[0m\u001b[0mufl_object\u001b[0m\u001b[0;34m,\u001b[0m \u001b[0mufl\u001b[0m\u001b[0;34m.\u001b[0m\u001b[0mForm\u001b[0m\u001b[0;34m)\u001b[0m\u001b[0;34m:\u001b[0m\u001b[0;34m\u001b[0m\u001b[0m\n",
      "\u001b[0;32m/usr/local/lib/python2.7/dist-packages/dolfin/cpp/common.py\u001b[0m in \u001b[0;36mdolfin_error\u001b[0;34m(location, task, reason)\u001b[0m\n\u001b[1;32m   2913\u001b[0m \u001b[0;34m\u001b[0m\u001b[0m\n\u001b[1;32m   2914\u001b[0m     \"\"\"\n\u001b[0;32m-> 2915\u001b[0;31m     \u001b[0;32mreturn\u001b[0m \u001b[0m_common\u001b[0m\u001b[0;34m.\u001b[0m\u001b[0mdolfin_error\u001b[0m\u001b[0;34m(\u001b[0m\u001b[0mlocation\u001b[0m\u001b[0;34m,\u001b[0m \u001b[0mtask\u001b[0m\u001b[0;34m,\u001b[0m \u001b[0mreason\u001b[0m\u001b[0;34m)\u001b[0m\u001b[0;34m\u001b[0m\u001b[0m\n\u001b[0m\u001b[1;32m   2916\u001b[0m \u001b[0;34m\u001b[0m\u001b[0m\n\u001b[1;32m   2917\u001b[0m \u001b[0;32mdef\u001b[0m \u001b[0mdeprecation\u001b[0m\u001b[0;34m(\u001b[0m\u001b[0mfeature\u001b[0m\u001b[0;34m,\u001b[0m \u001b[0mversion_deprecated\u001b[0m\u001b[0;34m,\u001b[0m \u001b[0mmessage\u001b[0m\u001b[0;34m)\u001b[0m\u001b[0;34m:\u001b[0m\u001b[0;34m\u001b[0m\u001b[0m\n",
      "\u001b[0;31mRuntimeError\u001b[0m: \n\n*** -------------------------------------------------------------------------\n*** DOLFIN encountered an error. If you are not able to resolve this issue\n*** using the information listed below, you can ask for help at\n***\n***     fenics-support@googlegroups.com\n***\n*** Remember to include the error message listed below and, if possible,\n*** include a *minimal* running example to reproduce the error.\n***\n*** -------------------------------------------------------------------------\n*** Error:   Unable to perform just-in-time compilation of form.\n*** Reason:  ffc.jit failed with message:\nTraceback (most recent call last):\n  File \"/usr/local/lib/python2.7/dist-packages/dolfin/compilemodules/jit.py\", line 128, in jit\n    result = ffc.jit(ufl_object, parameters=p)\n  File \"/usr/local/lib/python2.7/dist-packages/ffc/jitcompiler.py\", line 198, in jit\n    module = jit_build(ufl_object, module_name, parameters)\n  File \"/usr/local/lib/python2.7/dist-packages/ffc/jitcompiler.py\", line 120, in jit_build\n    generate=jit_generate)\n  File \"/usr/local/lib/python2.7/dist-packages/dijitso/jit.py\", line 160, in jit\n    header, source, dependencies = generate(jitable, name, signature, params[\"generator\"])\n  File \"/usr/local/lib/python2.7/dist-packages/ffc/jitcompiler.py\", line 66, in jit_generate\n    prefix=module_name, parameters=parameters, jit=True)\n  File \"/usr/local/lib/python2.7/dist-packages/ffc/compiler.py\", line 148, in compile_element\n    prefix, parameters, jit)\n  File \"/usr/local/lib/python2.7/dist-packages/ffc/compiler.py\", line 183, in compile_ufl_objects\n    analysis = analyze_ufl_objects(ufl_objects, kind, parameters)\n  File \"/usr/local/lib/python2.7/dist-packages/ffc/analysis.py\", line 122, in analyze_ufl_objects\n    error(\"Missing quad_scheme in quadrature element.\")\n  File \"<string>\", line 1, in <lambda>\n  File \"/usr/local/lib/python2.7/dist-packages/ufl/log.py\", line 171, in error\n    raise self._exception_type(self._format_raw(*message))\nException: Missing quad_scheme in quadrature element.\n.\n*** Where:   This error was encountered inside jit.py.\n*** Process: 0\n*** \n*** DOLFIN version: 2016.2.0\n*** Git changeset:  0f003bc07ee5fd583fb956245016d5972b80fea1\n*** -------------------------------------------------------------------------\n"
     ]
    }
   ],
   "source": [
    "#https://fenicsproject.org/qa/9633/quadrature-points\n",
    "\n",
    "#this is crashing for some reason\n",
    "\n",
    "from dolfin import *\n",
    "\n",
    "mesh = UnitSquareMesh(10, 10)\n",
    "gdim = mesh.geometry().dim()\n",
    "V = VectorFunctionSpace(mesh, 'Quadrature', 2)\n",
    "# Quad points\n",
    "xq = V.dofmap().tabulate_all_coordinates(mesh).reshape((-1, gdim))\n",
    "# You might want to remove the duplicates\n",
    "xq0 = xq[V.sub(0).dofmap().dofs()]  "
   ]
  },
  {
   "cell_type": "code",
   "execution_count": 3,
   "metadata": {
    "collapsed": false
   },
   "outputs": [
    {
     "name": "stdout",
     "output_type": "stream",
     "text": [
      "    Calling FFC just-in-time (JIT) compiler, this may take some time.\n",
      "Missing quad_scheme in quadrature element.\n"
     ]
    },
    {
     "ename": "RuntimeError",
     "evalue": "\n\n*** -------------------------------------------------------------------------\n*** DOLFIN encountered an error. If you are not able to resolve this issue\n*** using the information listed below, you can ask for help at\n***\n***     fenics-support@googlegroups.com\n***\n*** Remember to include the error message listed below and, if possible,\n*** include a *minimal* running example to reproduce the error.\n***\n*** -------------------------------------------------------------------------\n*** Error:   Unable to perform just-in-time compilation of form.\n*** Reason:  ffc.jit failed with message:\nTraceback (most recent call last):\n  File \"/usr/local/lib/python2.7/dist-packages/dolfin/compilemodules/jit.py\", line 128, in jit\n    result = ffc.jit(ufl_object, parameters=p)\n  File \"/usr/local/lib/python2.7/dist-packages/ffc/jitcompiler.py\", line 198, in jit\n    module = jit_build(ufl_object, module_name, parameters)\n  File \"/usr/local/lib/python2.7/dist-packages/ffc/jitcompiler.py\", line 120, in jit_build\n    generate=jit_generate)\n  File \"/usr/local/lib/python2.7/dist-packages/dijitso/jit.py\", line 160, in jit\n    header, source, dependencies = generate(jitable, name, signature, params[\"generator\"])\n  File \"/usr/local/lib/python2.7/dist-packages/ffc/jitcompiler.py\", line 66, in jit_generate\n    prefix=module_name, parameters=parameters, jit=True)\n  File \"/usr/local/lib/python2.7/dist-packages/ffc/compiler.py\", line 148, in compile_element\n    prefix, parameters, jit)\n  File \"/usr/local/lib/python2.7/dist-packages/ffc/compiler.py\", line 183, in compile_ufl_objects\n    analysis = analyze_ufl_objects(ufl_objects, kind, parameters)\n  File \"/usr/local/lib/python2.7/dist-packages/ffc/analysis.py\", line 122, in analyze_ufl_objects\n    error(\"Missing quad_scheme in quadrature element.\")\n  File \"<string>\", line 1, in <lambda>\n  File \"/usr/local/lib/python2.7/dist-packages/ufl/log.py\", line 171, in error\n    raise self._exception_type(self._format_raw(*message))\nException: Missing quad_scheme in quadrature element.\n.\n*** Where:   This error was encountered inside jit.py.\n*** Process: 0\n*** \n*** DOLFIN version: 2016.2.0\n*** Git changeset:  0f003bc07ee5fd583fb956245016d5972b80fea1\n*** -------------------------------------------------------------------------\n",
     "output_type": "error",
     "traceback": [
      "\u001b[0;31m\u001b[0m",
      "\u001b[0;31mRuntimeError\u001b[0mTraceback (most recent call last)",
      "\u001b[0;32m<ipython-input-3-8e64e3a439c7>\u001b[0m in \u001b[0;36m<module>\u001b[0;34m()\u001b[0m\n\u001b[0;32m----> 1\u001b[0;31m \u001b[0mQuad\u001b[0m \u001b[0;34m=\u001b[0m \u001b[0mVectorFunctionSpace\u001b[0m\u001b[0;34m(\u001b[0m\u001b[0mmesh\u001b[0m\u001b[0;34m,\u001b[0m \u001b[0;34m\"Quadrature\"\u001b[0m\u001b[0;34m,\u001b[0m \u001b[0;36m2\u001b[0m\u001b[0;34m)\u001b[0m\u001b[0;34m\u001b[0m\u001b[0m\n\u001b[0m",
      "\u001b[0;32m/usr/local/lib/python2.7/dist-packages/dolfin/functions/functionspace.py\u001b[0m in \u001b[0;36mVectorFunctionSpace\u001b[0;34m(mesh, family, degree, dim, form_degree, constrained_domain, restriction)\u001b[0m\n\u001b[1;32m    427\u001b[0m \u001b[0;34m\u001b[0m\u001b[0m\n\u001b[1;32m    428\u001b[0m     return FunctionSpace(mesh, element,\n\u001b[0;32m--> 429\u001b[0;31m                          constrained_domain=constrained_domain)\n\u001b[0m\u001b[1;32m    430\u001b[0m \u001b[0;34m\u001b[0m\u001b[0m\n\u001b[1;32m    431\u001b[0m \u001b[0;34m\u001b[0m\u001b[0m\n",
      "\u001b[0;32m/usr/local/lib/python2.7/dist-packages/dolfin/functions/functionspace.py\u001b[0m in \u001b[0;36m__init__\u001b[0;34m(self, *args, **kwargs)\u001b[0m\n\u001b[1;32m    195\u001b[0m                                  + str(args[0]))\n\u001b[1;32m    196\u001b[0m             \u001b[0;32melif\u001b[0m \u001b[0mlen\u001b[0m\u001b[0;34m(\u001b[0m\u001b[0margs\u001b[0m\u001b[0;34m)\u001b[0m \u001b[0;34m==\u001b[0m \u001b[0;36m2\u001b[0m\u001b[0;34m:\u001b[0m\u001b[0;34m\u001b[0m\u001b[0m\n\u001b[0;32m--> 197\u001b[0;31m                 \u001b[0mself\u001b[0m\u001b[0;34m.\u001b[0m\u001b[0m_init_from_ufl\u001b[0m\u001b[0;34m(\u001b[0m\u001b[0;34m*\u001b[0m\u001b[0margs\u001b[0m\u001b[0;34m,\u001b[0m \u001b[0;34m**\u001b[0m\u001b[0mkwargs\u001b[0m\u001b[0;34m)\u001b[0m\u001b[0;34m\u001b[0m\u001b[0m\n\u001b[0m\u001b[1;32m    198\u001b[0m             \u001b[0;32melse\u001b[0m\u001b[0;34m:\u001b[0m\u001b[0;34m\u001b[0m\u001b[0m\n\u001b[1;32m    199\u001b[0m                 \u001b[0mself\u001b[0m\u001b[0;34m.\u001b[0m\u001b[0m_init_convenience\u001b[0m\u001b[0;34m(\u001b[0m\u001b[0;34m*\u001b[0m\u001b[0margs\u001b[0m\u001b[0;34m,\u001b[0m \u001b[0;34m**\u001b[0m\u001b[0mkwargs\u001b[0m\u001b[0;34m)\u001b[0m\u001b[0;34m\u001b[0m\u001b[0m\n",
      "\u001b[0;32m/usr/local/lib/python2.7/dist-packages/dolfin/functions/functionspace.py\u001b[0m in \u001b[0;36m_init_from_ufl\u001b[0;34m(self, mesh, element, constrained_domain)\u001b[0m\n\u001b[1;32m    215\u001b[0m         \u001b[0;31m#if dolfin_element is None or dolfin_dofmap is None:\u001b[0m\u001b[0;34m\u001b[0m\u001b[0;34m\u001b[0m\u001b[0m\n\u001b[1;32m    216\u001b[0m         \u001b[0;31m#    assert dolfin_element is None and dolfin_dofmap is None, \"Expecting both or none of these.\"\u001b[0m\u001b[0;34m\u001b[0m\u001b[0;34m\u001b[0m\u001b[0m\n\u001b[0;32m--> 217\u001b[0;31m         \u001b[0mdolfin_element\u001b[0m\u001b[0;34m,\u001b[0m \u001b[0mdolfin_dofmap\u001b[0m \u001b[0;34m=\u001b[0m \u001b[0m_compile_dolfin_element\u001b[0m\u001b[0;34m(\u001b[0m\u001b[0melement\u001b[0m\u001b[0;34m,\u001b[0m \u001b[0mmesh\u001b[0m\u001b[0;34m,\u001b[0m \u001b[0mconstrained_domain\u001b[0m\u001b[0;34m=\u001b[0m\u001b[0mconstrained_domain\u001b[0m\u001b[0;34m)\u001b[0m\u001b[0;34m\u001b[0m\u001b[0m\n\u001b[0m\u001b[1;32m    218\u001b[0m \u001b[0;34m\u001b[0m\u001b[0m\n\u001b[1;32m    219\u001b[0m         \u001b[0;31m# Initialize the cpp.FunctionSpace\u001b[0m\u001b[0;34m\u001b[0m\u001b[0;34m\u001b[0m\u001b[0m\n",
      "\u001b[0;32m/usr/local/lib/python2.7/dist-packages/dolfin/functions/functionspace.py\u001b[0m in \u001b[0;36m_compile_dolfin_element\u001b[0;34m(element, mesh, constrained_domain)\u001b[0m\n\u001b[1;32m     80\u001b[0m \u001b[0;34m\u001b[0m\u001b[0m\n\u001b[1;32m     81\u001b[0m     \u001b[0;31m# JIT-compile element to get ufc_element and ufc_dofmap\u001b[0m\u001b[0;34m\u001b[0m\u001b[0;34m\u001b[0m\u001b[0m\n\u001b[0;32m---> 82\u001b[0;31m     \u001b[0mufc_element\u001b[0m\u001b[0;34m,\u001b[0m \u001b[0mufc_dofmap\u001b[0m \u001b[0;34m=\u001b[0m \u001b[0mjit\u001b[0m\u001b[0;34m(\u001b[0m\u001b[0melement\u001b[0m\u001b[0;34m,\u001b[0m \u001b[0mmpi_comm\u001b[0m\u001b[0;34m=\u001b[0m\u001b[0mmesh\u001b[0m\u001b[0;34m.\u001b[0m\u001b[0mmpi_comm\u001b[0m\u001b[0;34m(\u001b[0m\u001b[0;34m)\u001b[0m\u001b[0;34m)\u001b[0m\u001b[0;34m\u001b[0m\u001b[0m\n\u001b[0m\u001b[1;32m     83\u001b[0m \u001b[0;34m\u001b[0m\u001b[0m\n\u001b[1;32m     84\u001b[0m     \u001b[0mdolfin_element\u001b[0m \u001b[0;34m=\u001b[0m \u001b[0mcpp\u001b[0m\u001b[0;34m.\u001b[0m\u001b[0mFiniteElement\u001b[0m\u001b[0;34m(\u001b[0m\u001b[0mufc_element\u001b[0m\u001b[0;34m)\u001b[0m\u001b[0;34m\u001b[0m\u001b[0m\n",
      "\u001b[0;32m/usr/local/lib/python2.7/dist-packages/dolfin/compilemodules/jit.py\u001b[0m in \u001b[0;36mmpi_jit\u001b[0;34m(*args, **kwargs)\u001b[0m\n\u001b[1;32m     66\u001b[0m         \u001b[0;31m# Just call JIT compiler when running in serial\u001b[0m\u001b[0;34m\u001b[0m\u001b[0;34m\u001b[0m\u001b[0m\n\u001b[1;32m     67\u001b[0m         \u001b[0;32mif\u001b[0m \u001b[0mMPI\u001b[0m\u001b[0;34m.\u001b[0m\u001b[0msize\u001b[0m\u001b[0;34m(\u001b[0m\u001b[0mmpi_comm\u001b[0m\u001b[0;34m)\u001b[0m \u001b[0;34m==\u001b[0m \u001b[0;36m1\u001b[0m\u001b[0;34m:\u001b[0m\u001b[0;34m\u001b[0m\u001b[0m\n\u001b[0;32m---> 68\u001b[0;31m             \u001b[0;32mreturn\u001b[0m \u001b[0mlocal_jit\u001b[0m\u001b[0;34m(\u001b[0m\u001b[0;34m*\u001b[0m\u001b[0margs\u001b[0m\u001b[0;34m,\u001b[0m \u001b[0;34m**\u001b[0m\u001b[0mkwargs\u001b[0m\u001b[0;34m)\u001b[0m\u001b[0;34m\u001b[0m\u001b[0m\n\u001b[0m\u001b[1;32m     69\u001b[0m \u001b[0;34m\u001b[0m\u001b[0m\n\u001b[1;32m     70\u001b[0m         \u001b[0;31m# Compile first on process 0\u001b[0m\u001b[0;34m\u001b[0m\u001b[0;34m\u001b[0m\u001b[0m\n",
      "\u001b[0;32m/usr/local/lib/python2.7/dist-packages/dolfin/compilemodules/jit.py\u001b[0m in \u001b[0;36mjit\u001b[0;34m(ufl_object, form_compiler_parameters, mpi_comm)\u001b[0m\n\u001b[1;32m    131\u001b[0m         cpp.dolfin_error(\"jit.py\",\n\u001b[1;32m    132\u001b[0m                          \u001b[0;34m\"perform just-in-time compilation of form\"\u001b[0m\u001b[0;34m,\u001b[0m\u001b[0;34m\u001b[0m\u001b[0m\n\u001b[0;32m--> 133\u001b[0;31m                          \"ffc.jit failed with message:\\n%s\" % (tb_text,))\n\u001b[0m\u001b[1;32m    134\u001b[0m \u001b[0;34m\u001b[0m\u001b[0m\n\u001b[1;32m    135\u001b[0m     \u001b[0;32mif\u001b[0m \u001b[0misinstance\u001b[0m\u001b[0;34m(\u001b[0m\u001b[0mufl_object\u001b[0m\u001b[0;34m,\u001b[0m \u001b[0mufl\u001b[0m\u001b[0;34m.\u001b[0m\u001b[0mForm\u001b[0m\u001b[0;34m)\u001b[0m\u001b[0;34m:\u001b[0m\u001b[0;34m\u001b[0m\u001b[0m\n",
      "\u001b[0;32m/usr/local/lib/python2.7/dist-packages/dolfin/cpp/common.py\u001b[0m in \u001b[0;36mdolfin_error\u001b[0;34m(location, task, reason)\u001b[0m\n\u001b[1;32m   2913\u001b[0m \u001b[0;34m\u001b[0m\u001b[0m\n\u001b[1;32m   2914\u001b[0m     \"\"\"\n\u001b[0;32m-> 2915\u001b[0;31m     \u001b[0;32mreturn\u001b[0m \u001b[0m_common\u001b[0m\u001b[0;34m.\u001b[0m\u001b[0mdolfin_error\u001b[0m\u001b[0;34m(\u001b[0m\u001b[0mlocation\u001b[0m\u001b[0;34m,\u001b[0m \u001b[0mtask\u001b[0m\u001b[0;34m,\u001b[0m \u001b[0mreason\u001b[0m\u001b[0;34m)\u001b[0m\u001b[0;34m\u001b[0m\u001b[0m\n\u001b[0m\u001b[1;32m   2916\u001b[0m \u001b[0;34m\u001b[0m\u001b[0m\n\u001b[1;32m   2917\u001b[0m \u001b[0;32mdef\u001b[0m \u001b[0mdeprecation\u001b[0m\u001b[0;34m(\u001b[0m\u001b[0mfeature\u001b[0m\u001b[0;34m,\u001b[0m \u001b[0mversion_deprecated\u001b[0m\u001b[0;34m,\u001b[0m \u001b[0mmessage\u001b[0m\u001b[0;34m)\u001b[0m\u001b[0;34m:\u001b[0m\u001b[0;34m\u001b[0m\u001b[0m\n",
      "\u001b[0;31mRuntimeError\u001b[0m: \n\n*** -------------------------------------------------------------------------\n*** DOLFIN encountered an error. If you are not able to resolve this issue\n*** using the information listed below, you can ask for help at\n***\n***     fenics-support@googlegroups.com\n***\n*** Remember to include the error message listed below and, if possible,\n*** include a *minimal* running example to reproduce the error.\n***\n*** -------------------------------------------------------------------------\n*** Error:   Unable to perform just-in-time compilation of form.\n*** Reason:  ffc.jit failed with message:\nTraceback (most recent call last):\n  File \"/usr/local/lib/python2.7/dist-packages/dolfin/compilemodules/jit.py\", line 128, in jit\n    result = ffc.jit(ufl_object, parameters=p)\n  File \"/usr/local/lib/python2.7/dist-packages/ffc/jitcompiler.py\", line 198, in jit\n    module = jit_build(ufl_object, module_name, parameters)\n  File \"/usr/local/lib/python2.7/dist-packages/ffc/jitcompiler.py\", line 120, in jit_build\n    generate=jit_generate)\n  File \"/usr/local/lib/python2.7/dist-packages/dijitso/jit.py\", line 160, in jit\n    header, source, dependencies = generate(jitable, name, signature, params[\"generator\"])\n  File \"/usr/local/lib/python2.7/dist-packages/ffc/jitcompiler.py\", line 66, in jit_generate\n    prefix=module_name, parameters=parameters, jit=True)\n  File \"/usr/local/lib/python2.7/dist-packages/ffc/compiler.py\", line 148, in compile_element\n    prefix, parameters, jit)\n  File \"/usr/local/lib/python2.7/dist-packages/ffc/compiler.py\", line 183, in compile_ufl_objects\n    analysis = analyze_ufl_objects(ufl_objects, kind, parameters)\n  File \"/usr/local/lib/python2.7/dist-packages/ffc/analysis.py\", line 122, in analyze_ufl_objects\n    error(\"Missing quad_scheme in quadrature element.\")\n  File \"<string>\", line 1, in <lambda>\n  File \"/usr/local/lib/python2.7/dist-packages/ufl/log.py\", line 171, in error\n    raise self._exception_type(self._format_raw(*message))\nException: Missing quad_scheme in quadrature element.\n.\n*** Where:   This error was encountered inside jit.py.\n*** Process: 0\n*** \n*** DOLFIN version: 2016.2.0\n*** Git changeset:  0f003bc07ee5fd583fb956245016d5972b80fea1\n*** -------------------------------------------------------------------------\n"
     ]
    }
   ],
   "source": [
    "Quad = VectorFunctionSpace(mesh, \"Quadrature\", 2)"
   ]
  },
  {
   "cell_type": "code",
   "execution_count": 14,
   "metadata": {
    "collapsed": false
   },
   "outputs": [
    {
     "data": {
      "text/plain": [
       "<bound method FunctionSpace.FunctionSpace_dofmap of FunctionSpace(Mesh(VectorElement(FiniteElement('Lagrange', triangle, 1), dim=2), 34), FiniteElement('Quadrature', triangle, 1, quad_scheme='default'))>"
      ]
     },
     "execution_count": 14,
     "metadata": {},
     "output_type": "execute_result"
    }
   ],
   "source": []
  },
  {
   "cell_type": "code",
   "execution_count": null,
   "metadata": {
    "collapsed": true
   },
   "outputs": [],
   "source": []
  }
 ],
 "metadata": {
  "kernelspec": {
   "display_name": "Python 2",
   "language": "python",
   "name": "python2"
  },
  "language_info": {
   "codemirror_mode": {
    "name": "ipython",
    "version": 2
   },
   "file_extension": ".py",
   "mimetype": "text/x-python",
   "name": "python",
   "nbconvert_exporter": "python",
   "pygments_lexer": "ipython2",
   "version": "2.7.12"
  }
 },
 "nbformat": 4,
 "nbformat_minor": 1
}
