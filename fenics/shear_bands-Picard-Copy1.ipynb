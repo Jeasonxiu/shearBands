{
 "cells": [
  {
   "cell_type": "code",
   "execution_count": 1,
   "metadata": {
    "collapsed": false
   },
   "outputs": [],
   "source": [
    "from __future__ import division\n",
    "from dolfin import *\n",
    "import math\n",
    "import numpy as np\n",
    "\n",
    "\n",
    "#!sudo pip2.7 install easydict\n",
    "from easydict import EasyDict as edict\n",
    "\n",
    "%matplotlib inline"
   ]
  },
  {
   "cell_type": "code",
   "execution_count": 2,
   "metadata": {
    "collapsed": false
   },
   "outputs": [],
   "source": [
    "#"
   ]
  },
  {
   "cell_type": "code",
   "execution_count": 3,
   "metadata": {
    "collapsed": true
   },
   "outputs": [],
   "source": [
    "# =============================================================================\n",
    "# CLASSES\n",
    "# =============================================================================\n",
    "\n",
    "class BottomBoundary(SubDomain):\n",
    "    \"\"\"defines bottom boundary (near y=0) of the computational mesh\"\"\"\n",
    "    def inside(self, x, on_boundary):\n",
    "        return on_boundary and near(x[1], 0)\n",
    "\n",
    "class TopBoundary(SubDomain):\n",
    "    \"\"\"defines top boundary (near y=height) of the computational mesh\"\"\"\n",
    "    def inside(self, x, on_boundary):\n",
    "        return on_boundary and near(x[1], 1.0)\n",
    "\n",
    "class LeftBoundary(SubDomain):\n",
    "    \"\"\"defines left boundary (near x=0) of the computational mesh\"\"\"\n",
    "    def inside(self, x, on_boundary):\n",
    "        return on_boundary and near(x[0], -2.)\n",
    "\n",
    "class RightBoundary(SubDomain):\n",
    "    \"\"\"defines right boundary (near x=width) of the computational mesh\"\"\"\n",
    "    def inside(self, x, on_boundary):\n",
    "        return on_boundary and near(x[0], 2.0)"
   ]
  },
  {
   "cell_type": "code",
   "execution_count": 4,
   "metadata": {
    "collapsed": true
   },
   "outputs": [],
   "source": [
    "# =============================================================================\n",
    "# CONSTANTS and PARAMETERS\n",
    "# =============================================================================\n",
    "ndp = edict({'U': 1.0,\n",
    " 'asthenosphere': 0.0,\n",
    " 'cohesion': 0.21023999999999998,\n",
    " 'eta1': 1000.0000000000001,\n",
    " 'eta2': 0.01,\n",
    " 'fa': 0.4663076581549986,\n",
    " 'g': 1.0,\n",
    " 'rho': 1.3921567199999998})"
   ]
  },
  {
   "cell_type": "code",
   "execution_count": 5,
   "metadata": {
    "collapsed": false
   },
   "outputs": [],
   "source": [
    "# =============================================================================\n",
    "# MESH\n",
    "# =============================================================================\n",
    "\n",
    "#width, height = 4, 1 # domain width and height\n",
    "# option \"crossed\" stands for crossed diagonals (number of elements=XDIV*ZDIV*4)\n",
    "mesh = RectangleMesh(Point(-2, 0), Point(2.0, 1.0), 32*4, 32, \"crossed\")\n",
    "cell = triangle\n",
    "norm = FacetNormal(mesh) # definition of an outer normal\n",
    "\n",
    "ez = Constant((0, -1)) #gravity vector\n",
    "\n"
   ]
  },
  {
   "cell_type": "code",
   "execution_count": 6,
   "metadata": {
    "collapsed": false
   },
   "outputs": [
    {
     "data": {
      "text/plain": [
       "array([[-2.      ,  0.      ],\n",
       "       [-1.96875 ,  0.      ],\n",
       "       [-1.9375  ,  0.      ],\n",
       "       ..., \n",
       "       [ 1.921875,  0.984375],\n",
       "       [ 1.953125,  0.984375],\n",
       "       [ 1.984375,  0.984375]])"
      ]
     },
     "execution_count": 6,
     "metadata": {},
     "output_type": "execute_result"
    }
   ],
   "source": [
    "coords = mesh.coordinates()\n",
    "coords"
   ]
  },
  {
   "cell_type": "code",
   "execution_count": 7,
   "metadata": {
    "collapsed": false
   },
   "outputs": [],
   "source": [
    "# =============================================================================\n",
    "# FUNCTIONAL SET-UP\n",
    "# =============================================================================\n",
    "# Taylor-Hood elements: linear Lagrange elements for pressure\n",
    "# and quadratic Lagrange elements for velocity\n",
    "#P = FunctionSpace(mesh, \"Lagrange\", 1)\n",
    "#V = VectorFunctionSpace(mesh, \"Lagrange\", 2)\n",
    "#W = MixedFunctionSpace([P, V])"
   ]
  },
  {
   "cell_type": "code",
   "execution_count": 8,
   "metadata": {
    "collapsed": false
   },
   "outputs": [],
   "source": [
    "# =============================================================================\n",
    "# Define function spaces\n",
    "# =============================================================================\n",
    "\n",
    "V = VectorElement(\"Lagrange\", mesh.ufl_cell(), 2)\n",
    "P = FiniteElement(\"Lagrange\", mesh.ufl_cell(), 1)\n",
    "\n",
    "#V = VectorElement('P', tetrahedron, 2)\n",
    "#P = FiniteElement('P', tetrahedron, 1)\n",
    "\n",
    "TH = V * P\n",
    "W = FunctionSpace(mesh, TH)"
   ]
  },
  {
   "cell_type": "code",
   "execution_count": 9,
   "metadata": {
    "collapsed": false
   },
   "outputs": [],
   "source": [
    "# Define test functions\n",
    "#w = TestFunction(W)\n",
    "#omega, phi = split(w)"
   ]
  },
  {
   "cell_type": "code",
   "execution_count": 10,
   "metadata": {
    "collapsed": true
   },
   "outputs": [],
   "source": [
    "# Define solution functions - current solution\n",
    "#u = Function(W)\n",
    "#v, p = split(u)"
   ]
  },
  {
   "cell_type": "code",
   "execution_count": 11,
   "metadata": {
    "collapsed": false
   },
   "outputs": [],
   "source": [
    "# Define variational problem\n",
    "(u , p) = TrialFunctions(W)\n",
    "(v , q)= TestFunctions(W)\n",
    "\n"
   ]
  },
  {
   "cell_type": "code",
   "execution_count": 12,
   "metadata": {
    "collapsed": false
   },
   "outputs": [
    {
     "data": {
      "text/plain": [
       "(1000.0000000000001, 0.01)"
      ]
     },
     "execution_count": 12,
     "metadata": {},
     "output_type": "execute_result"
    }
   ],
   "source": [
    "ndp.eta1, ndp.eta2"
   ]
  },
  {
   "cell_type": "code",
   "execution_count": 13,
   "metadata": {
    "collapsed": false
   },
   "outputs": [
    {
     "data": {
      "text/plain": [
       "(1000.0000000000001, 0.01)"
      ]
     },
     "execution_count": 13,
     "metadata": {},
     "output_type": "execute_result"
    }
   ],
   "source": [
    "# =============================================================================\n",
    "# INITIAL CONDITIONS - & Material distribution\n",
    "# =============================================================================\n",
    "u_init = Expression((\"0\", \"0\",\"0\"), degree=2) # zero\n",
    "\n",
    "\n",
    "density=Constant(ndp.rho)\n",
    "\n",
    "\n",
    "tol = 1e-14\n",
    "\n",
    "eta_1 = ndp.eta1\n",
    "eta_2 = ndp.eta2\n",
    "\n",
    "notchWidth = 1./16\n",
    "\n",
    "#Fast but opaque C++ string, \n",
    "#eta = Expression('x[1] < 1./16 + tol && x[0] < 1./16 && x[0] > -1./16 ? eta_1 : eta_2', degree=0,\n",
    "#               tol=tol, eta_1=eta_1, eta_2=eta_2)\n",
    "\n",
    "\n",
    "class Eta(Expression):\n",
    "    def set_eta_values(self, eta_1, eta_2):\n",
    "        self.eta_1, self.eta_2 = eta_1, eta_2\n",
    "    def eval(self, value, x):\n",
    "        \"Set value[0] to value at point x\"\n",
    "        tol = 1E-14\n",
    "        if (x[1] < 1./16 + tol) and (x[0] <= 1./16 + tol ) and (x[0] >= -1./16 + tol ):\n",
    "        #if (x[1] < 1./16 + tol) and (x[0] <= 1./16 + tol ) :\n",
    "            value[0] = self.eta_2\n",
    "        else:\n",
    "            value[0] = self.eta_1\n",
    "# Initialize kappa\n",
    "etaExpr = Eta(degree=1)\n",
    "etaExpr.set_eta_values(ndp.eta1, eta_2)\n",
    "etaExpr.eta_1, etaExpr.eta_2"
   ]
  },
  {
   "cell_type": "code",
   "execution_count": 14,
   "metadata": {
    "collapsed": false
   },
   "outputs": [
    {
     "data": {
      "text/plain": [
       "<matplotlib.tri.tricontour.TriContourSet at 0x7f495961f790>"
      ]
     },
     "execution_count": 14,
     "metadata": {},
     "output_type": "execute_result"
    },
    {
     "data": {
      "image/png": "[encoded data removed]",
      "text/plain": [
       "<matplotlib.figure.Figure at 0x7f495c4aad10>"
      ]
     },
     "metadata": {},
     "output_type": "display_data"
    }
   ],
   "source": [
    "# =============================================================================\n",
    "# Plotting expressions\n",
    "# =============================================================================\n",
    "\n",
    "\n",
    "X = FunctionSpace(mesh, P)\n",
    "\n",
    "f = Function(X)\n",
    "f.interpolate(etaExpr)\n",
    "plot(f )"
   ]
  },
  {
   "cell_type": "code",
   "execution_count": 15,
   "metadata": {
    "collapsed": false
   },
   "outputs": [],
   "source": [
    "# =============================================================================\n",
    "# BOUNDARY CONDITIONS\n",
    "# =============================================================================\n",
    "\n",
    "# dividing and numbering the boundaries, ( Create mesh functions over the cell facets)\n",
    "\n",
    "boundary_parts = MeshFunction(\"size_t\", mesh, mesh.topology().dim()-1)\n",
    "\n",
    "# interior of the domain\n",
    "boundary_parts.set_all(4)\n",
    "\n",
    "Gamma_b = BottomBoundary()\n",
    "Gamma_b.mark(boundary_parts, 0)\n",
    "\n",
    "Gamma_t = TopBoundary()\n",
    "Gamma_t.mark(boundary_parts, 1)\n",
    "\n",
    "Gamma_l = LeftBoundary()\n",
    "Gamma_l.mark(boundary_parts, 2)\n",
    "\n",
    "Gamma_r = RightBoundary()\n",
    "Gamma_r.mark(boundary_parts, 3)\n",
    "\n"
   ]
  },
  {
   "cell_type": "code",
   "execution_count": 16,
   "metadata": {
    "collapsed": false
   },
   "outputs": [],
   "source": [
    "#W.sub(1) ~ Pressure DoFs?\n",
    "#W.sub(0) ~ Vel DoFs?\n",
    "\n",
    "\n",
    "noslip = Constant((0, 0))\n",
    "freeslip = Constant(0)\n",
    "leftBC = Constant((1.0, 0))\n",
    "rightBC = Constant((-1.0, 0))\n",
    "#bc0 = DirichletBC(W.sub(0), noslip, sub_domains, 0)\n",
    "\n",
    "\n",
    "bc_v_bot = DirichletBC(W.sub(0).sub(1), freeslip, boundary_parts, 0)\n",
    "bc_v_left = DirichletBC(W.sub(0), leftBC, boundary_parts, 2)\n",
    "bc_v_right = DirichletBC(W.sub(0), rightBC, boundary_parts, 3)\n",
    "\n",
    "\n",
    "# fixing the pressure at the top boundary\n",
    "\n",
    "bc_p = DirichletBC(W.sub(1),\n",
    "                    Expression(\"0\", degree=1),\n",
    "                    \"near(x[0],0) && near(x[1],0)\",\n",
    "                    method=\"pointwise\")\n",
    "\n",
    "\n",
    "# collection of BCs for mechanical part of the problem\n",
    "bcs_W = [bc_p, bc_v_bot, bc_v_left, bc_v_right]"
   ]
  },
  {
   "cell_type": "code",
   "execution_count": 17,
   "metadata": {
    "collapsed": false
   },
   "outputs": [],
   "source": [
    "# =============================================================================\n",
    "# Rheology\n",
    "# =============================================================================\n",
    "\n",
    "def eijeij(u):\n",
    "    \"\"\"calculate second invariant of the strainrate tensor\"\"\"\n",
    "    return sqrt(0.5*(inner(sym(nabla_grad(u)), sym(nabla_grad(u)))))\n",
    "\n",
    "def viscosity(w):\n",
    "    \n",
    "    u, p = w.split()\n",
    "    \n",
    "    viscosityl = ndp.eta1\n",
    "    viscosityp = 1e-10 + ndp.cohesion/(eijeij(u) + 1e-10)\n",
    "    return 1./(1./etaExpr + 1./viscosityp)\n",
    " \n",
    "    \n",
    "#our viscosity function will return a Fenics /UFl Exprssion\n",
    "#the expression must be projected to a finite element space before we can visualize it:    \n",
    "\n",
    "\n",
    "#vtest = viscosity(u)    \n",
    "V1 = FunctionSpace(mesh, 'P', 1)\n",
    "#vtest = project(vtest, V1)\n",
    "#plot(vtest, title='viscosity')\n",
    "#print(type(vtest))"
   ]
  },
  {
   "cell_type": "code",
   "execution_count": null,
   "metadata": {
    "collapsed": false
   },
   "outputs": [],
   "source": []
  },
  {
   "cell_type": "code",
   "execution_count": 18,
   "metadata": {
    "collapsed": true
   },
   "outputs": [],
   "source": [
    "#Test a single solve\n",
    "\n",
    "w = Function(W)\n",
    "\n",
    "u_k = Function(W) ;\n",
    "u_k.interpolate(u_init)\n",
    "\n",
    "\n"
   ]
  },
  {
   "cell_type": "code",
   "execution_count": 19,
   "metadata": {
    "collapsed": false
   },
   "outputs": [],
   "source": [
    "a = nabla_div(u)*q*dx + p*nabla_div(v)*dx \\\n",
    "      - 2.*viscosity(w)*inner((nabla_grad(u)\n",
    "      + transpose(nabla_grad(u))), transpose(nabla_grad(v)))*dx\n",
    "\n",
    "L = density*inner(ez, v)*dx\n",
    "\n",
    "\n",
    "solve(a == L, w, bcs_W)\n",
    "u_k.assign(w)"
   ]
  },
  {
   "cell_type": "code",
   "execution_count": 20,
   "metadata": {
    "collapsed": false
   },
   "outputs": [
    {
     "data": {
      "text/plain": [
       "220.87170828665"
      ]
     },
     "execution_count": 20,
     "metadata": {},
     "output_type": "execute_result"
    }
   ],
   "source": [
    "#Is this the non-linear residual?\n",
    "#http://fenics.readthedocs.io/projects/ffc/en/latest/_modules/ffc/errorcontrol/errorcontrolgenerators.html\n",
    "test = assemble(action(a, w) - L)\n",
    "test.array()\n",
    "np.linalg.norm(test.array(), ord=np.Inf)"
   ]
  },
  {
   "cell_type": "code",
   "execution_count": 21,
   "metadata": {
    "collapsed": false
   },
   "outputs": [
    {
     "name": "stdout",
     "output_type": "stream",
     "text": [
      "(16179.093247189645, 1.0, 220.87170828665)\n",
      "(16176.252135850198, 5693.1668773043084, 0.055406595087480852)\n"
     ]
    }
   ],
   "source": [
    "import numpy as np\n",
    "\n",
    "w = Function(W)\n",
    "u_k = Function(W)  \n",
    "u_k.interpolate(u_init)\n",
    "\n",
    "for i in range(2):\n",
    "    \n",
    "    #a = 2.*viscosity(u_k)*inner(grad(v), grad(omega))*dx \\\n",
    "    #- p*div(omega)*dx \\\n",
    "    #+ div(v)*phi*dx\n",
    "    \n",
    "    a = nabla_div(u)*q*dx + p*nabla_div(v)*dx \\\n",
    "      - 2.*viscosity(w)*inner((nabla_grad(u)\n",
    "      + transpose(nabla_grad(u))), transpose(nabla_grad(v)))*dx\n",
    "\n",
    "    L = density*inner(ez, v)*dx\n",
    "\n",
    "    solve(a == L, w, bcs_W)\n",
    "\n",
    "    diff = w.vector().array() - u_k.vector().array()\n",
    "    eps = np.linalg.norm(diff, ord=np.Inf)\n",
    "    \n",
    "    vL2 = np.linalg.norm(w.vector().array(), ord=np.Inf)\n",
    "    eps2 = eps/vL2\n",
    "    \n",
    "    #Non linear residual?\n",
    "    test = assemble(action(a, w) - L)\n",
    "    test.array()\n",
    "    res = np.linalg.norm(test.array(), ord=np.Inf)\n",
    "    print (eps, eps2, res)\n",
    "\n",
    "    u_k.assign(w)\n"
   ]
  },
  {
   "cell_type": "code",
   "execution_count": 22,
   "metadata": {
    "collapsed": false
   },
   "outputs": [],
   "source": [
    "# Define solution functions - current solution\n",
    "w = Function(W)\n",
    "u, p = split(w)\n",
    "\n",
    "\n",
    "epsilon = 2*sym(grad(u))\n",
    "\n",
    "F = (viscosity(w)*inner(epsilon, grad(v)) \\\n",
    "    - div(u)*q - div(v)*p)*dx \\\n",
    "    - density*inner(ez, v)*dx\n",
    "\n",
    "\n",
    "J_W = derivative(F, w)\n",
    "# create nonlinear problem\n",
    "problem_W = NonlinearVariationalProblem(F, w, bcs_W, J_W)\n",
    "solver_W = NonlinearVariationalSolver(problem_W)\n",
    "prm_W = solver_W.parameters\n",
    "# Newton solver parameters (mechanical part of the problem)\n",
    "prm_W[\"newton_solver\"][\"relative_tolerance\"] = 1E-7\n",
    "#prm_W[\"newton_solver\"][\"absolute_tolerance\"] = 1E-2\n",
    "prm_W[\"newton_solver\"][\"maximum_iterations\"] = 5\n",
    "prm_W[\"newton_solver\"][\"relaxation_parameter\"] = 1.0\n",
    "#prm_W[\"newton_solver\"][\"convergence_criterion\"] = 'incremental'\n",
    "prm_W[\"newton_solver\"][\"convergence_criterion\"] = \"residual\"\n",
    "\n",
    "prm_W[\"newton_solver\"][\"linear_solver\"] = \"mumps\"\n",
    "set_log_level(PROGRESS)"
   ]
  },
  {
   "cell_type": "code",
   "execution_count": 23,
   "metadata": {
    "collapsed": false
   },
   "outputs": [
    {
     "ename": "RuntimeError",
     "evalue": "\n\n*** -------------------------------------------------------------------------\n*** DOLFIN encountered an error. If you are not able to resolve this issue\n*** using the information listed below, you can ask for help at\n***\n***     fenics-support@googlegroups.com\n***\n*** Remember to include the error message listed below and, if possible,\n*** include a *minimal* running example to reproduce the error.\n***\n*** -------------------------------------------------------------------------\n*** Error:   Unable to solve nonlinear system with NewtonSolver.\n*** Reason:  Newton solver did not converge because maximum number of iterations reached.\n*** Where:   This error was encountered inside NewtonSolver.cpp.\n*** Process: 0\n*** \n*** DOLFIN version: 2016.2.0\n*** Git changeset:  0f003bc07ee5fd583fb956245016d5972b80fea1\n*** -------------------------------------------------------------------------\n",
     "output_type": "error",
     "traceback": [
      "\u001b[0;31m\u001b[0m",
      "\u001b[0;31mRuntimeError\u001b[0mTraceback (most recent call last)",
      "\u001b[0;32m<ipython-input-23-0e89f4d804b1>\u001b[0m in \u001b[0;36m<module>\u001b[0;34m()\u001b[0m\n\u001b[1;32m      3\u001b[0m \u001b[0mu\u001b[0m\u001b[0;34m,\u001b[0m \u001b[0mp\u001b[0m \u001b[0;34m=\u001b[0m \u001b[0mw\u001b[0m\u001b[0;34m.\u001b[0m\u001b[0msplit\u001b[0m\u001b[0;34m(\u001b[0m\u001b[0;34m)\u001b[0m\u001b[0;34m\u001b[0m\u001b[0m\n\u001b[1;32m      4\u001b[0m \u001b[0;31m#info(\"Solve momentum equation\")\u001b[0m\u001b[0;34m\u001b[0m\u001b[0;34m\u001b[0m\u001b[0m\n\u001b[0;32m----> 5\u001b[0;31m \u001b[0msolver_W\u001b[0m\u001b[0;34m.\u001b[0m\u001b[0msolve\u001b[0m\u001b[0;34m(\u001b[0m\u001b[0;34m)\u001b[0m\u001b[0;34m\u001b[0m\u001b[0m\n\u001b[0m",
      "\u001b[0;31mRuntimeError\u001b[0m: \n\n*** -------------------------------------------------------------------------\n*** DOLFIN encountered an error. If you are not able to resolve this issue\n*** using the information listed below, you can ask for help at\n***\n***     fenics-support@googlegroups.com\n***\n*** Remember to include the error message listed below and, if possible,\n*** include a *minimal* running example to reproduce the error.\n***\n*** -------------------------------------------------------------------------\n*** Error:   Unable to solve nonlinear system with NewtonSolver.\n*** Reason:  Newton solver did not converge because maximum number of iterations reached.\n*** Where:   This error was encountered inside NewtonSolver.cpp.\n*** Process: 0\n*** \n*** DOLFIN version: 2016.2.0\n*** Git changeset:  0f003bc07ee5fd583fb956245016d5972b80fea1\n*** -------------------------------------------------------------------------\n"
     ]
    }
   ],
   "source": [
    "# initializing velocity-pressure\n",
    "w.interpolate(u_k)\n",
    "u, p = w.split()\n",
    "#info(\"Solve momentum equation\")\n",
    "solver_W.solve()"
   ]
  },
  {
   "cell_type": "code",
   "execution_count": 24,
   "metadata": {
    "collapsed": false
   },
   "outputs": [],
   "source": [
    "\n",
    "u, p = w.split()"
   ]
  },
  {
   "cell_type": "code",
   "execution_count": 25,
   "metadata": {
    "collapsed": false
   },
   "outputs": [
    {
     "data": {
      "text/plain": [
       "<matplotlib.tri.tricontour.TriContourSet at 0x7f49522ce510>"
      ]
     },
     "execution_count": 25,
     "metadata": {},
     "output_type": "execute_result"
    },
    {
     "data": {
      "image/png": "[encoded data removed]",
      "text/plain": [
       "<matplotlib.figure.Figure at 0x7f495235c710>"
      ]
     },
     "metadata": {},
     "output_type": "display_data"
    }
   ],
   "source": [
    "plot(p, scalarbar = True )"
   ]
  },
  {
   "cell_type": "code",
   "execution_count": 31,
   "metadata": {
    "collapsed": false
   },
   "outputs": [],
   "source": [
    "#plot(mesh, title=\"Finite element mesh\")\n",
    "#plot(u,scale = 0.1)"
   ]
  },
  {
   "cell_type": "code",
   "execution_count": 27,
   "metadata": {
    "collapsed": false
   },
   "outputs": [
    {
     "data": {
      "text/plain": [
       "<matplotlib.tri.tricontour.TriContourSet at 0x7f4951d67f90>"
      ]
     },
     "execution_count": 27,
     "metadata": {},
     "output_type": "execute_result"
    },
    {
     "data": {
      "image/png": "[encoded data removed]",
      "text/plain": [
       "<matplotlib.figure.Figure at 0x7f495221a890>"
      ]
     },
     "metadata": {},
     "output_type": "display_data"
    }
   ],
   "source": [
    "vtest = viscosity(u_k)  \n",
    "V1 = FunctionSpace(mesh, 'P', 1)\n",
    "vtest = project(vtest, V1)\n",
    "plot(vtest, title='viscosity')"
   ]
  },
  {
   "cell_type": "code",
   "execution_count": 28,
   "metadata": {
    "collapsed": false
   },
   "outputs": [
    {
     "data": {
      "text/plain": [
       "<matplotlib.tri.tricontour.TriContourSet at 0x7f4951410d90>"
      ]
     },
     "execution_count": 28,
     "metadata": {},
     "output_type": "execute_result"
    },
    {
     "data": {
      "image/png": "[encoded data removed]",
      "text/plain": [
       "<matplotlib.figure.Figure at 0x7f49521c1690>"
      ]
     },
     "metadata": {},
     "output_type": "display_data"
    }
   ],
   "source": [
    "#Plot strain rate tensor components\n",
    "\n",
    "W2 = TensorFunctionSpace(mesh, \"Lagrange\", 2)\n",
    "sigma_w = project(sym(nabla_grad(u)), W2)\n",
    "\n",
    "#sym(nabla_grad(v)\n",
    "plot(sigma_w[0, 0], interactive=True) "
   ]
  },
  {
   "cell_type": "code",
   "execution_count": 29,
   "metadata": {
    "collapsed": false
   },
   "outputs": [
    {
     "data": {
      "text/plain": [
       "<matplotlib.tri.tricontour.TriContourSet at 0x7f49510e0410>"
      ]
     },
     "execution_count": 29,
     "metadata": {},
     "output_type": "execute_result"
    },
    {
     "data": {
      "image/png": "[encoded data removed]",
      "text/plain": [
       "<matplotlib.figure.Figure at 0x7f4958617210>"
      ]
     },
     "metadata": {},
     "output_type": "display_data"
    }
   ],
   "source": [
    "#Plot strain rate invariant components\n",
    "#not we don't have to project this guy\n",
    "\n",
    "eij =  sqrt(0.5*(inner(sym(nabla_grad(u)), sym(nabla_grad(u)))))\n",
    "plot(eij , interactive=True, scalarbar = True ) "
   ]
  },
  {
   "cell_type": "code",
   "execution_count": 29,
   "metadata": {
    "collapsed": false
   },
   "outputs": [],
   "source": [
    "#But we do need to project it to get it values at nodes\n",
    "eijFEM = project(eij , V1)\n",
    "\n"
   ]
  },
  {
   "cell_type": "code",
   "execution_count": 177,
   "metadata": {
    "collapsed": true
   },
   "outputs": [],
   "source": [
    "from IPython.display import HTML"
   ]
  },
  {
   "cell_type": "code",
   "execution_count": 178,
   "metadata": {
    "collapsed": false
   },
   "outputs": [],
   "source": [
    "#HTML(X3DOM().html(v))"
   ]
  },
  {
   "cell_type": "code",
   "execution_count": 179,
   "metadata": {
    "collapsed": true
   },
   "outputs": [],
   "source": [
    "info(prm_W, True)"
   ]
  },
  {
   "cell_type": "code",
   "execution_count": 180,
   "metadata": {
    "collapsed": false
   },
   "outputs": [
    {
     "name": "stdout",
     "output_type": "stream",
     "text": [
      "residual: 0.616968884074\n"
     ]
    }
   ],
   "source": [
    "#bc.homogenize()\n",
    "b = assemble(F_W)\n",
    "#bc.apply(b)\n",
    "print('residual: {0}'.format(b.norm('l2')))"
   ]
  },
  {
   "cell_type": "code",
   "execution_count": 159,
   "metadata": {
    "collapsed": false
   },
   "outputs": [
    {
     "name": "stdout",
     "output_type": "stream",
     "text": [
      "residual: 0.618680716571\n"
     ]
    }
   ],
   "source": [
    "#bcs_W.homogenize()\n",
    "b = assemble(F_W)\n",
    "#bcs_W.apply(b)\n",
    "print('residual: {0}'.format(b.norm('l2')))"
   ]
  },
  {
   "cell_type": "code",
   "execution_count": 160,
   "metadata": {
    "collapsed": false
   },
   "outputs": [
    {
     "data": {
      "text/plain": [
       "0.1239"
      ]
     },
     "execution_count": 160,
     "metadata": {},
     "output_type": "execute_result"
    }
   ],
   "source": [
    "1.239e-01"
   ]
  },
  {
   "cell_type": "code",
   "execution_count": 55,
   "metadata": {
    "collapsed": false
   },
   "outputs": [],
   "source": [
    "# Save solution to file\n",
    "v, p = u_k.split()\n",
    "File('v.pvd') << u\n",
    "File('p.pvd') << p\n",
    "File('mesh.pvd') << mesh"
   ]
  },
  {
   "cell_type": "code",
   "execution_count": 18,
   "metadata": {
    "collapsed": true
   },
   "outputs": [],
   "source": [
    "File('mesh.pvd') << mesh"
   ]
  },
  {
   "cell_type": "code",
   "execution_count": 30,
   "metadata": {
    "collapsed": false
   },
   "outputs": [],
   "source": [
    "File('eij.pvd') << eijFEM"
   ]
  },
  {
   "cell_type": "code",
   "execution_count": 266,
   "metadata": {
    "collapsed": false
   },
   "outputs": [
    {
     "name": "stdout",
     "output_type": "stream",
     "text": [
      "Help on function plot in module dolfin.common.plotting:\n",
      "\n",
      "plot(object, *args, **kwargs)\n",
      "    Plot given object.\n",
      "    \n",
      "    *Arguments*\n",
      "        object\n",
      "            a :py:class:`Mesh <dolfin.cpp.Mesh>`, a :py:class:`MeshFunction\n",
      "            <dolfin.cpp.MeshFunction>`, a :py:class:`Function\n",
      "            <dolfin.functions.function.Function>`, a :py:class:`Expression`\n",
      "            <dolfin.cpp.Expression>, a :py:class:`DirichletBC`\n",
      "            <dolfin.cpp.DirichletBC>, a :py:class:`FiniteElement\n",
      "            <ufl.FiniteElement>`, or a :py:class:`MultiMesh\n",
      "            <dolfin.cpp.MultiMesh>`.\n",
      "    \n",
      "    *Examples of usage*\n",
      "        In the simplest case, to plot only e.g. a mesh, simply use\n",
      "    \n",
      "        .. code-block:: python\n",
      "    \n",
      "            mesh = UnitSquare(4,4)\n",
      "            plot(mesh)\n",
      "    \n",
      "        Use the ``title`` argument to specify title of the plot\n",
      "    \n",
      "        .. code-block:: python\n",
      "    \n",
      "            plot(mesh, tite=\"Finite element mesh\")\n",
      "    \n",
      "        It is also possible to plot an element\n",
      "    \n",
      "        .. code-block:: python\n",
      "    \n",
      "            element = FiniteElement(\"BDM\", tetrahedron, 3)\n",
      "            plot(element)\n",
      "    \n",
      "        Vector valued functions can be visualized with an alternative mode\n",
      "    \n",
      "        .. code-block:: python\n",
      "    \n",
      "            plot(u, mode = \"glyphs\")\n",
      "    \n",
      "        A more advanced example\n",
      "    \n",
      "        .. code-block:: python\n",
      "    \n",
      "            plot(u,\n",
      "                 wireframe = True,              # use wireframe rendering\n",
      "                 interactive = False,           # do not hold plot on screen\n",
      "                 scalarbar = False,             # hide the color mapping bar\n",
      "                 hardcopy_prefix = \"myplot\",    # default plotfile name\n",
      "                 scale = 2.0,                   # scale the warping/glyphs\n",
      "                 title = \"Fancy plot\",          # set your own title\n",
      "                 backend = \"vtk\"                # choose plotting backend\n",
      "                 )\n",
      "\n"
     ]
    }
   ],
   "source": [
    "help(plot)"
   ]
  },
  {
   "cell_type": "code",
   "execution_count": 47,
   "metadata": {
    "collapsed": true
   },
   "outputs": [],
   "source": [
    "#mesh.meshes."
   ]
  },
  {
   "cell_type": "code",
   "execution_count": 109,
   "metadata": {
    "collapsed": false
   },
   "outputs": [],
   "source": [
    "\n"
   ]
  },
  {
   "cell_type": "code",
   "execution_count": 125,
   "metadata": {
    "collapsed": false
   },
   "outputs": [],
   "source": [
    "uvals = eijFEM.vector().array()\n",
    "xyvals = mesh.coordinates()\n",
    "#xyvals = dofs_x\n",
    "xvals = xyvals[:,0]\n",
    "yvals= xyvals[:,1]\n",
    "\n",
    "xx = np.linspace(-2,2, 100)\n",
    "yy = np.linspace(0,1, 25)\n",
    "\n",
    "XX, YY = np.meshgrid(xx,yy)\n",
    "\n",
    "\n",
    "from scipy.interpolate import griddata\n",
    "uu = griddata(np.column_stack((xvals, yvals)), uvals, np.dstack((XX, XX)))\n",
    "\n",
    "uvals = eijFEM.vector().array()\n",
    "xyvals = mesh.coordinates()\n",
    "#xyvals = dofs_x\n",
    "xvals = xyvals[:,0]\n",
    "yvals= xyvals[:,1]\n",
    "\n",
    "xx = np.linspace(-2,2, 100)\n",
    "yy = np.linspace(0,1, 25)\n",
    "\n",
    "XX, YY = np.meshgrid(xx,yy)\n"
   ]
  },
  {
   "cell_type": "code",
   "execution_count": null,
   "metadata": {
    "collapsed": true
   },
   "outputs": [],
   "source": []
  },
  {
   "cell_type": "code",
   "execution_count": null,
   "metadata": {
    "collapsed": false
   },
   "outputs": [],
   "source": [
    "# =============================================================================\n",
    "# Picard iterations\n",
    "# =============================================================================\n",
    "\n",
    "import numpy as np\n",
    "\n",
    "#u_k = interpolate(Constant(0.0, 0.0), V)  # previous (known) u\n",
    "u = Function(W)\n",
    "u_k = Function(W) ;\n",
    "u_k.interpolate(u_init)\n",
    "eps = 1.0           # error measure ||u-u_k||\n",
    "tol = 1.0E-5        # tolerance\n",
    "iter = 0            # iteration counter\n",
    "maxiter = 2        # max no of iterations allowed\n",
    "while eps > tol and iter < maxiter:\n",
    "    \n",
    "    a = 2.*viscosity(u_k)*inner(grad(v), grad(omega))*dx \\\n",
    "    - p*div(omega)*dx + div(v)*phi*dx\n",
    "    \n",
    "    L = density*inner(ez, omega)*dx\n",
    "    #solve(a == L, u, bcs_W)\n",
    "\n",
    "    u_k.assign(u)\n",
    "    \n",
    "    \n",
    "    #diff = u.vector().array() - u_k.vector().array()\n",
    "    #eps = numpy.linalg.norm(diff, ord=numpy.Inf)\n",
    "    #print 'iter=%d: norm=%g' % (iter, eps)\n",
    "    #u_k.assign(u)   # update for next iteration\n",
    "    \n"
   ]
  }
 ],
 "metadata": {
  "kernelspec": {
   "display_name": "Python 2",
   "language": "python",
   "name": "python2"
  },
  "language_info": {
   "codemirror_mode": {
    "name": "ipython",
    "version": 2
   },
   "file_extension": ".py",
   "mimetype": "text/x-python",
   "name": "python",
   "nbconvert_exporter": "python",
   "pygments_lexer": "ipython2",
   "version": "2.7.12"
  }
 },
 "nbformat": 4,
 "nbformat_minor": 1
}
