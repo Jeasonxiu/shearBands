{
 "cells": [
  {
   "cell_type": "code",
   "execution_count": 319,
   "metadata": {
    "collapsed": false
   },
   "outputs": [],
   "source": [
    "from __future__ import division\n",
    "from dolfin import *\n",
    "import math\n",
    "import numpy as np\n",
    "\n",
    "\n",
    "#!sudo pip2.7 install easydict\n",
    "from easydict import EasyDict as edict\n",
    "\n",
    "%matplotlib inline"
   ]
  },
  {
   "cell_type": "code",
   "execution_count": 320,
   "metadata": {
    "collapsed": false
   },
   "outputs": [
    {
     "name": "stdout",
     "output_type": "stream",
     "text": [
      "(True, False)\n",
      "(True, True)\n"
     ]
    }
   ],
   "source": [
    "print(has_linear_algebra_backend(\"PETSc\"), has_linear_algebra_backend(\"Tpetra\"))\n",
    "print(has_krylov_solver_preconditioner(\"amg\"), has_krylov_solver_method(\"minres\"))"
   ]
  },
  {
   "cell_type": "code",
   "execution_count": 321,
   "metadata": {
    "collapsed": false
   },
   "outputs": [],
   "source": [
    "# =============================================================================\n",
    "# CONSTANTS and PARAMETERS\n",
    "# =============================================================================\n",
    "\n",
    "ndp = edict({'U': 1.0,\n",
    " 'asthenosphere': 0.0,\n",
    " 'cohesion': 0.21023999999999998,\n",
    " 'eta1': 1000.0000000000001,\n",
    " 'eta2': 0.01,\n",
    " 'fa': 0.4663076581549986,\n",
    " 'g': 1.0,\n",
    " 'rho': 1.3921567199999998})"
   ]
  },
  {
   "cell_type": "code",
   "execution_count": 322,
   "metadata": {
    "collapsed": false
   },
   "outputs": [],
   "source": [
    "# =============================================================================\n",
    "# MESH\n",
    "# =============================================================================\n",
    "\n",
    "#width, height = 4, 1 # domain width and height\n",
    "# option \"crossed\" stands for crossed diagonals (number of elements=XDIV*ZDIV*4)\n",
    "mesh = RectangleMesh(Point(-2, 0), Point(2.0, 1.0), 32*4, 32, \"crossed\")\n",
    "cell = triangle\n",
    "norm = FacetNormal(mesh) # definition of an outer normal\n",
    "\n",
    "ez = Constant((0, -1)) #gravity vector\n",
    "\n"
   ]
  },
  {
   "cell_type": "code",
   "execution_count": 323,
   "metadata": {
    "collapsed": false
   },
   "outputs": [
    {
     "data": {
      "text/plain": [
       "array([-2.,  0.])"
      ]
     },
     "execution_count": 323,
     "metadata": {},
     "output_type": "execute_result"
    }
   ],
   "source": [
    "coords = mesh.coordinates()\n",
    "coords[0]"
   ]
  },
  {
   "cell_type": "code",
   "execution_count": 324,
   "metadata": {
    "collapsed": false
   },
   "outputs": [],
   "source": [
    "# =============================================================================\n",
    "# Define function spaces\n",
    "# =============================================================================\n",
    "\n",
    "# Taylor-Hood elements: linear Lagrange elements for pressure\n",
    "# and quadratic Lagrange elements for velocity\n",
    "\n",
    "\n",
    "V = VectorElement(\"Lagrange\", mesh.ufl_cell(), 2)\n",
    "P = FiniteElement(\"Lagrange\", mesh.ufl_cell(), 1)\n",
    "\n",
    "TH = V * P\n",
    "W = FunctionSpace(mesh, TH)"
   ]
  },
  {
   "cell_type": "code",
   "execution_count": 325,
   "metadata": {
    "collapsed": false
   },
   "outputs": [],
   "source": [
    "# Define variational problem\n",
    "\n",
    "(u , p) = TrialFunctions(W)\n",
    "\n",
    "\n",
    "\n",
    "(v , q)= TestFunctions(W)\n",
    "\n"
   ]
  },
  {
   "cell_type": "code",
   "execution_count": 326,
   "metadata": {
    "collapsed": false
   },
   "outputs": [
    {
     "data": {
      "text/plain": [
       "(1000.0000000000001, 0.01)"
      ]
     },
     "execution_count": 326,
     "metadata": {},
     "output_type": "execute_result"
    }
   ],
   "source": [
    "# =============================================================================\n",
    "# INITIAL CONDITIONS - & Material distribution\n",
    "# =============================================================================\n",
    "u_init = Expression((\"0\", \"0\",\"0\"), degree=2) # zero\n",
    "\n",
    "\n",
    "density=Constant(ndp.rho)\n",
    "\n",
    "\n",
    "tol = 1e-14\n",
    "\n",
    "eta_1 = ndp.eta1\n",
    "eta_2 = ndp.eta2\n",
    "\n",
    "notchWidth = 1./16\n",
    "\n",
    "#Fast but opaque C++ string, \n",
    "#eta = Expression('x[1] < 1./16 + tol && x[0] < 1./16 && x[0] > -1./16 ? eta_1 : eta_2', degree=0,\n",
    "#               tol=tol, eta_1=eta_1, eta_2=eta_2)\n",
    "\n",
    "\n",
    "class Eta(Expression):\n",
    "    def set_eta_values(self, eta_1, eta_2):\n",
    "        self.eta_1, self.eta_2 = eta_1, eta_2\n",
    "    def eval(self, value, x):\n",
    "        \"Set value[0] to value at point x\"\n",
    "        tol = 1E-14\n",
    "        if (x[1] < 1./16 + tol) and (x[0] <= 1./16 + tol ) and (x[0] >= -1./16 + tol ):\n",
    "            value[0] = self.eta_2\n",
    "        else:\n",
    "            value[0] = self.eta_1\n",
    "            \n",
    "            \n",
    "# Initialize Eta - viscosity\n",
    "etaExpr = Eta(degree=1)\n",
    "etaExpr.set_eta_values(ndp.eta1, eta_2)\n",
    "etaExpr.eta_1, etaExpr.eta_2"
   ]
  },
  {
   "cell_type": "code",
   "execution_count": 327,
   "metadata": {
    "collapsed": false
   },
   "outputs": [
    {
     "data": {
      "text/plain": [
       "<matplotlib.tri.tricontour.TriContourSet at 0x7f52caefd7d0>"
      ]
     },
     "execution_count": 327,
     "metadata": {},
     "output_type": "execute_result"
    },
    {
     "data": {
      "image/png": "[encoded data removed]",
      "text/plain": [
       "<matplotlib.figure.Figure at 0x7f52cba7dc50>"
      ]
     },
     "metadata": {},
     "output_type": "display_data"
    }
   ],
   "source": [
    "# =============================================================================\n",
    "# Plotting expressions\n",
    "# =============================================================================\n",
    "\n",
    "\n",
    "X = FunctionSpace(mesh, P)\n",
    "\n",
    "f = Function(X)\n",
    "f.interpolate(etaExpr)\n",
    "plot(f )"
   ]
  },
  {
   "cell_type": "code",
   "execution_count": 328,
   "metadata": {
    "collapsed": true
   },
   "outputs": [],
   "source": [
    "# =============================================================================\n",
    "# BOUNDARY CONDITIONS\n",
    "# =============================================================================\n",
    "\n",
    "# Define boundaries\n",
    "def left(x):\n",
    "    return near(x[0], -2)\n",
    "\n",
    "def right(x):\n",
    "    return near(x[0], 2)\n",
    "\n",
    "\n",
    "def bottom(x):\n",
    "    return near(x[1], 0)\n",
    "\n",
    "def top(x):\n",
    "    return near(x[1], 1)\n",
    "\n",
    "\n",
    "\n",
    "\n",
    "noslip = Constant((0, 0))\n",
    "freeslip = Constant(0)\n",
    "leftBC = Constant((1.0, 0))\n",
    "rightBC = Constant((-1.0, 0))\n",
    "\n",
    "#W.sub(1) ~ Pressure DoFs\n",
    "#W.sub(0) ~ Vel DoFs\n",
    "\n",
    "\n",
    "bc_v_bot = DirichletBC(W.sub(0).sub(1), freeslip, bottom)\n",
    "bc_v_left = DirichletBC(W.sub(0), leftBC, left)\n",
    "bc_v_right = DirichletBC(W.sub(0), rightBC,right)\n",
    "\n",
    "\n",
    "# fixing the pressure at the top boundary\n",
    "\n",
    "bc_p = DirichletBC(W.sub(1),\n",
    "                    Expression(\"0\", degree=1),\n",
    "                    \"near(x[0],0) && near(x[1],0)\",\n",
    "                    method=\"pointwise\")\n",
    "\n",
    "\n",
    "# collection of BCs for mechanical part of the problem\n",
    "bcs_W = [bc_p, bc_v_bot, bc_v_left, bc_v_right]"
   ]
  },
  {
   "cell_type": "code",
   "execution_count": null,
   "metadata": {
    "collapsed": false
   },
   "outputs": [],
   "source": []
  },
  {
   "cell_type": "code",
   "execution_count": 329,
   "metadata": {
    "collapsed": false
   },
   "outputs": [],
   "source": [
    "# =============================================================================\n",
    "# Rheology\n",
    "# =============================================================================\n",
    "\n",
    "def eijeij(u):\n",
    "    \"\"\"calculate second invariant of the strainrate tensor\"\"\"\n",
    "    return sqrt(0.5*(inner(sym(nabla_grad(u)), sym(nabla_grad(u)))))\n",
    "\n",
    "def viscosity(w):\n",
    "    \n",
    "    u, p = w.split()\n",
    "    \n",
    "    viscosityl = ndp.eta1\n",
    "    viscosityp = 1e-10 + ndp.cohesion/(eijeij(u) + 1e-10)\n",
    "    return 1./(1./etaExpr + 1./viscosityp)\n",
    " \n",
    "    \n",
    "#our viscosity function will return a Fenics /UFl Exprssion\n",
    "#the expression must be projected to a finite element space before we can visualize it:    \n",
    "\n",
    "\n",
    "#vtest = viscosity(u)    \n",
    "V1 = FunctionSpace(mesh, 'P', 1)\n",
    "#vtest = project(vtest, V1)\n",
    "#plot(vtest, title='viscosity')\n",
    "#print(type(vtest))"
   ]
  },
  {
   "cell_type": "code",
   "execution_count": null,
   "metadata": {
    "collapsed": false
   },
   "outputs": [],
   "source": []
  },
  {
   "cell_type": "code",
   "execution_count": 330,
   "metadata": {
    "collapsed": true
   },
   "outputs": [],
   "source": [
    "#Test a single solve\n",
    "\n",
    "w = Function(W)\n",
    "\n",
    "\n",
    "u_k = Function(W)\n",
    "u_k.interpolate(u_init)\n",
    "\n",
    "\n",
    "\n",
    "u_t = Function(W) #function to test different solutions"
   ]
  },
  {
   "cell_type": "code",
   "execution_count": 331,
   "metadata": {
    "collapsed": false
   },
   "outputs": [
    {
     "name": "stdout",
     "output_type": "stream",
     "text": [
      "            Calling FFC just-in-time (JIT) compiler, this may take some time.\n",
      "            Calling FFC just-in-time (JIT) compiler, this may take some time.\n",
      "(16179.023991326445, 1.0, 220.87166344423144)\n",
      "(16176.196628112168, 4919.8794588725823, 0.059407762995320627)\n",
      "(0.76994995470272887, 0.23623416236550843, 0.055278657135495603)\n",
      "(0.22910979959394884, 0.070577737027757464, 0.053918795293597652)\n",
      "(0.095951118914725964, 0.029568303703323261, 0.053350251448482537)\n",
      "(0.0567115831206082, 0.01746325042841693, 0.052903039749283703)\n",
      "(0.047006119067761531, 0.014461900703638644, 0.052575713650211318)\n",
      "(0.039927625766057684, 0.01227555199500668, 0.052338834099872902)\n",
      "(0.03579744903141413, 0.011000823888322048, 0.052152297773518347)\n",
      "(0.032596369566629813, 0.010014944458226895, 0.052066753214068465)\n",
      "(0.030011532058817458, 0.0092204977673664822, 0.051971471429063498)\n"
     ]
    }
   ],
   "source": [
    "import numpy as np\n",
    "\n",
    "w = Function(W)\n",
    "u_k = Function(W)  \n",
    "u_k.interpolate(u_init)\n",
    "tol = 0.01\n",
    "maxIts = 20\n",
    "\n",
    "for i in range(maxIts):\n",
    "    \n",
    "    #a = 2.*viscosity(u_k)*inner(grad(v), grad(omega))*dx \\\n",
    "    #- p*div(omega)*dx \\\n",
    "    #+ div(v)*phi*dx\n",
    "    \n",
    "    a = nabla_div(u)*q*dx + p*nabla_div(v)*dx \\\n",
    "      - 2.*viscosity(w)*inner((nabla_grad(u)\n",
    "      + transpose(nabla_grad(u))), transpose(nabla_grad(v)))*dx\n",
    "\n",
    "    L = -1.*density*inner(ez, v)*dx\n",
    "\n",
    "    solve(a == L, w, bcs_W)\n",
    "\n",
    "    diff = w.vector().array() - u_k.vector().array()\n",
    "    eps = np.linalg.norm(diff, ord=np.Inf)\n",
    "    \n",
    "    vL2 = np.linalg.norm(w.vector().array(), ord=np.Inf)\n",
    "    eps2 = eps/vL2\n",
    "    \n",
    "    #Non linear residual?\n",
    "    test = assemble(action(a, w) - L)\n",
    "    test.array()\n",
    "    res = np.linalg.norm(test.array(), ord=np.Inf)\n",
    "    print (eps, eps2, res)\n",
    "\n",
    "    u_k.assign(w)\n",
    "    \n",
    "    if eps2 < tol:\n",
    "        break\n"
   ]
  },
  {
   "cell_type": "code",
   "execution_count": 332,
   "metadata": {
    "collapsed": false
   },
   "outputs": [],
   "source": [
    "# Combined Stokes, continuitycontinuity equation\n",
    "\n",
    "\n",
    "#epsilon = 2*sym(grad(u))\n",
    "\n",
    "#a = (viscosity(w)*inner(epsilon, grad(v)) \\\n",
    "#    - div(u)*q - div(v)*p)*dx\n",
    "\n",
    "\n",
    "#L = density*inner(ez, v)*dx\n",
    "\n",
    "\n",
    "#solve(a == L, w, bcs_W)\n",
    "\n",
    "\n",
    "#u_k.assign(w)"
   ]
  },
  {
   "cell_type": "code",
   "execution_count": 333,
   "metadata": {
    "collapsed": false
   },
   "outputs": [
    {
     "name": "stdout",
     "output_type": "stream",
     "text": [
      "Norm of velocity coefficient vector: 141.905006476453\n",
      "Norm of pressure coefficient vector: 151.517979677393\n"
     ]
    }
   ],
   "source": [
    "# Split the mixed solution using deepcopy\n",
    "# (needed for further computation on coefficient vector)\n",
    "(u, p) = w.split(True)\n",
    "\n",
    "print(\"Norm of velocity coefficient vector: %.15g\" % u.vector().norm(\"l2\"))\n",
    "print(\"Norm of pressure coefficient vector: %.15g\" % p.vector().norm(\"l2\"))"
   ]
  },
  {
   "cell_type": "code",
   "execution_count": null,
   "metadata": {
    "collapsed": true
   },
   "outputs": [],
   "source": []
  },
  {
   "cell_type": "code",
   "execution_count": 334,
   "metadata": {
    "collapsed": false
   },
   "outputs": [
    {
     "data": {
      "text/plain": [
       "3.2548711377638799"
      ]
     },
     "execution_count": 334,
     "metadata": {},
     "output_type": "execute_result"
    }
   ],
   "source": [
    "u = w.split(deepcopy=True)[0]\n",
    "ux, uy = u.split(deepcopy=True)\n",
    "p = w.split(deepcopy=True)[1]\n",
    "\n",
    "\n",
    "diff = p.vector().array()\n",
    "eps = np.linalg.norm(diff, ord=np.Inf)\n",
    "eps"
   ]
  },
  {
   "cell_type": "code",
   "execution_count": 335,
   "metadata": {
    "collapsed": true
   },
   "outputs": [],
   "source": [
    "File('u.pvd') << u\n",
    "File('p.pvd') << p\n"
   ]
  },
  {
   "cell_type": "code",
   "execution_count": 298,
   "metadata": {
    "collapsed": false
   },
   "outputs": [],
   "source": [
    "test = u \n",
    "\n",
    "\n",
    "V2 = FunctionSpace(mesh, 'P', 2)\n",
    "\n",
    "#diffFEM = project(test , V2)\n",
    "\n",
    "File('dp.pvd') << test"
   ]
  },
  {
   "cell_type": "code",
   "execution_count": 299,
   "metadata": {
    "collapsed": false
   },
   "outputs": [
    {
     "name": "stdout",
     "output_type": "stream",
     "text": [
      "            Calling FFC just-in-time (JIT) compiler, this may take some time.\n"
     ]
    },
    {
     "data": {
      "text/plain": [
       "110.43582051153517"
      ]
     },
     "execution_count": 299,
     "metadata": {},
     "output_type": "execute_result"
    }
   ],
   "source": [
    "#Is this the non-linear residual?\n",
    "#http://fenics.readthedocs.io/projects/ffc/en/latest/_modules/ffc/errorcontrol/errorcontrolgenerators.html\n",
    "test = assemble(action(a, w) - L)\n",
    "test.array()\n",
    "np.linalg.norm(test.array(), ord=np.Inf)"
   ]
  },
  {
   "cell_type": "code",
   "execution_count": 22,
   "metadata": {
    "collapsed": false
   },
   "outputs": [],
   "source": [
    "# Define solution functions - current solution\n",
    "w = Function(W)\n",
    "u, p = split(w)\n",
    "\n",
    "\n",
    "epsilon = 2*sym(grad(u))\n",
    "\n",
    "F = (viscosity(w)*inner(epsilon, grad(v)) \\\n",
    "    - div(u)*q - div(v)*p)*dx \\\n",
    "    - density*inner(ez, v)*dx\n",
    "\n",
    "\n",
    "J_W = derivative(F, w)\n",
    "# create nonlinear problem\n",
    "problem_W = NonlinearVariationalProblem(F, w, bcs_W, J_W)\n",
    "solver_W = NonlinearVariationalSolver(problem_W)\n",
    "prm_W = solver_W.parameters\n",
    "# Newton solver parameters (mechanical part of the problem)\n",
    "prm_W[\"newton_solver\"][\"relative_tolerance\"] = 1E-7\n",
    "#prm_W[\"newton_solver\"][\"absolute_tolerance\"] = 1E-2\n",
    "prm_W[\"newton_solver\"][\"maximum_iterations\"] = 5\n",
    "prm_W[\"newton_solver\"][\"relaxation_parameter\"] = 1.0\n",
    "#prm_W[\"newton_solver\"][\"convergence_criterion\"] = 'incremental'\n",
    "prm_W[\"newton_solver\"][\"convergence_criterion\"] = \"residual\"\n",
    "\n",
    "prm_W[\"newton_solver\"][\"linear_solver\"] = \"mumps\"\n",
    "set_log_level(PROGRESS)"
   ]
  },
  {
   "cell_type": "code",
   "execution_count": 23,
   "metadata": {
    "collapsed": false
   },
   "outputs": [
    {
     "ename": "RuntimeError",
     "evalue": "\n\n*** -------------------------------------------------------------------------\n*** DOLFIN encountered an error. If you are not able to resolve this issue\n*** using the information listed below, you can ask for help at\n***\n***     fenics-support@googlegroups.com\n***\n*** Remember to include the error message listed below and, if possible,\n*** include a *minimal* running example to reproduce the error.\n***\n*** -------------------------------------------------------------------------\n*** Error:   Unable to solve nonlinear system with NewtonSolver.\n*** Reason:  Newton solver did not converge because maximum number of iterations reached.\n*** Where:   This error was encountered inside NewtonSolver.cpp.\n*** Process: 0\n*** \n*** DOLFIN version: 2016.2.0\n*** Git changeset:  0f003bc07ee5fd583fb956245016d5972b80fea1\n*** -------------------------------------------------------------------------\n",
     "output_type": "error",
     "traceback": [
      "\u001b[0;31m\u001b[0m",
      "\u001b[0;31mRuntimeError\u001b[0mTraceback (most recent call last)",
      "\u001b[0;32m<ipython-input-23-0e89f4d804b1>\u001b[0m in \u001b[0;36m<module>\u001b[0;34m()\u001b[0m\n\u001b[1;32m      3\u001b[0m \u001b[0mu\u001b[0m\u001b[0;34m,\u001b[0m \u001b[0mp\u001b[0m \u001b[0;34m=\u001b[0m \u001b[0mw\u001b[0m\u001b[0;34m.\u001b[0m\u001b[0msplit\u001b[0m\u001b[0;34m(\u001b[0m\u001b[0;34m)\u001b[0m\u001b[0;34m\u001b[0m\u001b[0m\n\u001b[1;32m      4\u001b[0m \u001b[0;31m#info(\"Solve momentum equation\")\u001b[0m\u001b[0;34m\u001b[0m\u001b[0;34m\u001b[0m\u001b[0m\n\u001b[0;32m----> 5\u001b[0;31m \u001b[0msolver_W\u001b[0m\u001b[0;34m.\u001b[0m\u001b[0msolve\u001b[0m\u001b[0;34m(\u001b[0m\u001b[0;34m)\u001b[0m\u001b[0;34m\u001b[0m\u001b[0m\n\u001b[0m",
      "\u001b[0;31mRuntimeError\u001b[0m: \n\n*** -------------------------------------------------------------------------\n*** DOLFIN encountered an error. If you are not able to resolve this issue\n*** using the information listed below, you can ask for help at\n***\n***     fenics-support@googlegroups.com\n***\n*** Remember to include the error message listed below and, if possible,\n*** include a *minimal* running example to reproduce the error.\n***\n*** -------------------------------------------------------------------------\n*** Error:   Unable to solve nonlinear system with NewtonSolver.\n*** Reason:  Newton solver did not converge because maximum number of iterations reached.\n*** Where:   This error was encountered inside NewtonSolver.cpp.\n*** Process: 0\n*** \n*** DOLFIN version: 2016.2.0\n*** Git changeset:  0f003bc07ee5fd583fb956245016d5972b80fea1\n*** -------------------------------------------------------------------------\n"
     ]
    }
   ],
   "source": [
    "# initializing velocity-pressure\n",
    "w.interpolate(u_k)\n",
    "u, p = w.split()\n",
    "#info(\"Solve momentum equation\")\n",
    "solver_W.solve()"
   ]
  },
  {
   "cell_type": "code",
   "execution_count": null,
   "metadata": {
    "collapsed": true
   },
   "outputs": [],
   "source": [
    "#diff = u.vector().array() - u_k.vector().array()"
   ]
  },
  {
   "cell_type": "code",
   "execution_count": 70,
   "metadata": {
    "collapsed": false
   },
   "outputs": [],
   "source": [
    "\n",
    "u, p = w.split()"
   ]
  },
  {
   "cell_type": "code",
   "execution_count": 220,
   "metadata": {
    "collapsed": false
   },
   "outputs": [
    {
     "data": {
      "text/plain": [
       "(66178,)"
      ]
     },
     "execution_count": 220,
     "metadata": {},
     "output_type": "execute_result"
    }
   ],
   "source": [
    "u0.vector().array().shape"
   ]
  },
  {
   "cell_type": "code",
   "execution_count": 221,
   "metadata": {
    "collapsed": false
   },
   "outputs": [
    {
     "data": {
      "text/plain": [
       "(66178,)"
      ]
     },
     "execution_count": 221,
     "metadata": {},
     "output_type": "execute_result"
    }
   ],
   "source": [
    "u.vector().array().shape"
   ]
  },
  {
   "cell_type": "code",
   "execution_count": 207,
   "metadata": {
    "collapsed": false
   },
   "outputs": [
    {
     "data": {
      "text/plain": [
       "<matplotlib.tri.tricontour.TriContourSet at 0x7f52cc2b3890>"
      ]
     },
     "execution_count": 207,
     "metadata": {},
     "output_type": "execute_result"
    },
    {
     "data": {
      "image/png": "[encoded data removed]",
      "text/plain": [
       "<matplotlib.figure.Figure at 0x7f52cc30ddd0>"
      ]
     },
     "metadata": {},
     "output_type": "display_data"
    }
   ],
   "source": [
    "plot(p, scalarbar = True )\n",
    "\n"
   ]
  },
  {
   "cell_type": "code",
   "execution_count": 81,
   "metadata": {
    "collapsed": false
   },
   "outputs": [
    {
     "ename": "TypeError",
     "evalue": "unsupported operand type(s) for +: 'Function' and 'Form'",
     "output_type": "error",
     "traceback": [
      "\u001b[0;31m\u001b[0m",
      "\u001b[0;31mTypeError\u001b[0mTraceback (most recent call last)",
      "\u001b[0;32m<ipython-input-81-01da8686c229>\u001b[0m in \u001b[0;36m<module>\u001b[0;34m()\u001b[0m\n\u001b[1;32m      1\u001b[0m \u001b[0;31m#plot(mesh, title=\"Finite element mesh\")\u001b[0m\u001b[0;34m\u001b[0m\u001b[0;34m\u001b[0m\u001b[0m\n\u001b[0;32m----> 2\u001b[0;31m \u001b[0mplot\u001b[0m\u001b[0;34m(\u001b[0m\u001b[0mu\u001b[0m \u001b[0;34m-\u001b[0m \u001b[0ma\u001b[0m\u001b[0;34m,\u001b[0m\u001b[0mscale\u001b[0m \u001b[0;34m=\u001b[0m \u001b[0;36m0.1\u001b[0m\u001b[0;34m)\u001b[0m\u001b[0;34m\u001b[0m\u001b[0m\n\u001b[0m",
      "\u001b[0;32m/usr/local/lib/python2.7/dist-packages/ufl/form.pyc\u001b[0m in \u001b[0;36m__rsub__\u001b[0;34m(self, other)\u001b[0m\n\u001b[1;32m    303\u001b[0m     \u001b[0;32mdef\u001b[0m \u001b[0m__rsub__\u001b[0m\u001b[0;34m(\u001b[0m\u001b[0mself\u001b[0m\u001b[0;34m,\u001b[0m \u001b[0mother\u001b[0m\u001b[0;34m)\u001b[0m\u001b[0;34m:\u001b[0m\u001b[0;34m\u001b[0m\u001b[0m\n\u001b[1;32m    304\u001b[0m         \u001b[0;34m\"Subtract this form from other.\"\u001b[0m\u001b[0;34m\u001b[0m\u001b[0m\n\u001b[0;32m--> 305\u001b[0;31m         \u001b[0;32mreturn\u001b[0m \u001b[0mother\u001b[0m \u001b[0;34m+\u001b[0m \u001b[0;34m(\u001b[0m\u001b[0;34m-\u001b[0m\u001b[0mself\u001b[0m\u001b[0;34m)\u001b[0m\u001b[0;34m\u001b[0m\u001b[0m\n\u001b[0m\u001b[1;32m    306\u001b[0m \u001b[0;34m\u001b[0m\u001b[0m\n\u001b[1;32m    307\u001b[0m     \u001b[0;32mdef\u001b[0m \u001b[0m__neg__\u001b[0m\u001b[0;34m(\u001b[0m\u001b[0mself\u001b[0m\u001b[0;34m)\u001b[0m\u001b[0;34m:\u001b[0m\u001b[0;34m\u001b[0m\u001b[0m\n",
      "\u001b[0;31mTypeError\u001b[0m: unsupported operand type(s) for +: 'Function' and 'Form'"
     ]
    }
   ],
   "source": [
    "#plot(mesh, title=\"Finite element mesh\")\n",
    "plot(u - a,scale = 0.1)"
   ]
  },
  {
   "cell_type": "code",
   "execution_count": 27,
   "metadata": {
    "collapsed": false
   },
   "outputs": [
    {
     "data": {
      "text/plain": [
       "<matplotlib.tri.tricontour.TriContourSet at 0x7f4951d67f90>"
      ]
     },
     "execution_count": 27,
     "metadata": {},
     "output_type": "execute_result"
    },
    {
     "data": {
      "image/png": "[encoded data removed]",
      "text/plain": [
       "<matplotlib.figure.Figure at 0x7f495221a890>"
      ]
     },
     "metadata": {},
     "output_type": "display_data"
    }
   ],
   "source": [
    "vtest = viscosity(u_k)  \n",
    "V1 = FunctionSpace(mesh, 'P', 1)\n",
    "vtest = project(vtest, V1)\n",
    "plot(vtest, title='viscosity')"
   ]
  },
  {
   "cell_type": "code",
   "execution_count": 28,
   "metadata": {
    "collapsed": false
   },
   "outputs": [
    {
     "data": {
      "text/plain": [
       "<matplotlib.tri.tricontour.TriContourSet at 0x7f4951410d90>"
      ]
     },
     "execution_count": 28,
     "metadata": {},
     "output_type": "execute_result"
    },
    {
     "data": {
      "image/png": "[encoded data removed]",
      "text/plain": [
       "<matplotlib.figure.Figure at 0x7f49521c1690>"
      ]
     },
     "metadata": {},
     "output_type": "display_data"
    }
   ],
   "source": [
    "#Plot strain rate tensor components\n",
    "\n",
    "W2 = TensorFunctionSpace(mesh, \"Lagrange\", 2)\n",
    "sigma_w = project(sym(nabla_grad(u)), W2)\n",
    "\n",
    "#sym(nabla_grad(v)\n",
    "plot(sigma_w[0, 0], interactive=True) "
   ]
  },
  {
   "cell_type": "code",
   "execution_count": 29,
   "metadata": {
    "collapsed": false
   },
   "outputs": [
    {
     "data": {
      "text/plain": [
       "<matplotlib.tri.tricontour.TriContourSet at 0x7f49510e0410>"
      ]
     },
     "execution_count": 29,
     "metadata": {},
     "output_type": "execute_result"
    },
    {
     "data": {
      "image/png": "[encoded data removed]",
      "text/plain": [
       "<matplotlib.figure.Figure at 0x7f4958617210>"
      ]
     },
     "metadata": {},
     "output_type": "display_data"
    }
   ],
   "source": [
    "#Plot strain rate invariant components\n",
    "#not we don't have to project this guy\n",
    "\n",
    "eij =  sqrt(0.5*(inner(sym(nabla_grad(u)), sym(nabla_grad(u)))))\n",
    "plot(eij , interactive=True, scalarbar = True ) "
   ]
  },
  {
   "cell_type": "code",
   "execution_count": 29,
   "metadata": {
    "collapsed": false
   },
   "outputs": [],
   "source": [
    "#But we do need to project it to get it values at nodes\n",
    "eijFEM = project(eij , V1)\n",
    "\n"
   ]
  },
  {
   "cell_type": "code",
   "execution_count": 177,
   "metadata": {
    "collapsed": true
   },
   "outputs": [],
   "source": [
    "from IPython.display import HTML"
   ]
  },
  {
   "cell_type": "code",
   "execution_count": 178,
   "metadata": {
    "collapsed": false
   },
   "outputs": [],
   "source": [
    "#HTML(X3DOM().html(v))"
   ]
  },
  {
   "cell_type": "code",
   "execution_count": 179,
   "metadata": {
    "collapsed": true
   },
   "outputs": [],
   "source": [
    "info(prm_W, True)"
   ]
  },
  {
   "cell_type": "code",
   "execution_count": 180,
   "metadata": {
    "collapsed": false
   },
   "outputs": [
    {
     "name": "stdout",
     "output_type": "stream",
     "text": [
      "residual: 0.616968884074\n"
     ]
    }
   ],
   "source": [
    "#bc.homogenize()\n",
    "b = assemble(F_W)\n",
    "#bc.apply(b)\n",
    "print('residual: {0}'.format(b.norm('l2')))"
   ]
  },
  {
   "cell_type": "code",
   "execution_count": 159,
   "metadata": {
    "collapsed": false
   },
   "outputs": [
    {
     "name": "stdout",
     "output_type": "stream",
     "text": [
      "residual: 0.618680716571\n"
     ]
    }
   ],
   "source": [
    "#bcs_W.homogenize()\n",
    "b = assemble(F_W)\n",
    "#bcs_W.apply(b)\n",
    "print('residual: {0}'.format(b.norm('l2')))"
   ]
  },
  {
   "cell_type": "code",
   "execution_count": 160,
   "metadata": {
    "collapsed": false
   },
   "outputs": [
    {
     "data": {
      "text/plain": [
       "0.1239"
      ]
     },
     "execution_count": 160,
     "metadata": {},
     "output_type": "execute_result"
    }
   ],
   "source": [
    "1.239e-01"
   ]
  },
  {
   "cell_type": "code",
   "execution_count": 55,
   "metadata": {
    "collapsed": false
   },
   "outputs": [],
   "source": [
    "# Save solution to file\n",
    "v, p = u_k.split()\n",
    "File('v.pvd') << u\n",
    "File('p.pvd') << p\n",
    "File('mesh.pvd') << mesh"
   ]
  },
  {
   "cell_type": "code",
   "execution_count": 18,
   "metadata": {
    "collapsed": true
   },
   "outputs": [],
   "source": [
    "File('mesh.pvd') << mesh"
   ]
  },
  {
   "cell_type": "code",
   "execution_count": 30,
   "metadata": {
    "collapsed": false
   },
   "outputs": [],
   "source": [
    "File('eij.pvd') << eijFEM"
   ]
  },
  {
   "cell_type": "code",
   "execution_count": 266,
   "metadata": {
    "collapsed": false
   },
   "outputs": [
    {
     "name": "stdout",
     "output_type": "stream",
     "text": [
      "Help on function plot in module dolfin.common.plotting:\n",
      "\n",
      "plot(object, *args, **kwargs)\n",
      "    Plot given object.\n",
      "    \n",
      "    *Arguments*\n",
      "        object\n",
      "            a :py:class:`Mesh <dolfin.cpp.Mesh>`, a :py:class:`MeshFunction\n",
      "            <dolfin.cpp.MeshFunction>`, a :py:class:`Function\n",
      "            <dolfin.functions.function.Function>`, a :py:class:`Expression`\n",
      "            <dolfin.cpp.Expression>, a :py:class:`DirichletBC`\n",
      "            <dolfin.cpp.DirichletBC>, a :py:class:`FiniteElement\n",
      "            <ufl.FiniteElement>`, or a :py:class:`MultiMesh\n",
      "            <dolfin.cpp.MultiMesh>`.\n",
      "    \n",
      "    *Examples of usage*\n",
      "        In the simplest case, to plot only e.g. a mesh, simply use\n",
      "    \n",
      "        .. code-block:: python\n",
      "    \n",
      "            mesh = UnitSquare(4,4)\n",
      "            plot(mesh)\n",
      "    \n",
      "        Use the ``title`` argument to specify title of the plot\n",
      "    \n",
      "        .. code-block:: python\n",
      "    \n",
      "            plot(mesh, tite=\"Finite element mesh\")\n",
      "    \n",
      "        It is also possible to plot an element\n",
      "    \n",
      "        .. code-block:: python\n",
      "    \n",
      "            element = FiniteElement(\"BDM\", tetrahedron, 3)\n",
      "            plot(element)\n",
      "    \n",
      "        Vector valued functions can be visualized with an alternative mode\n",
      "    \n",
      "        .. code-block:: python\n",
      "    \n",
      "            plot(u, mode = \"glyphs\")\n",
      "    \n",
      "        A more advanced example\n",
      "    \n",
      "        .. code-block:: python\n",
      "    \n",
      "            plot(u,\n",
      "                 wireframe = True,              # use wireframe rendering\n",
      "                 interactive = False,           # do not hold plot on screen\n",
      "                 scalarbar = False,             # hide the color mapping bar\n",
      "                 hardcopy_prefix = \"myplot\",    # default plotfile name\n",
      "                 scale = 2.0,                   # scale the warping/glyphs\n",
      "                 title = \"Fancy plot\",          # set your own title\n",
      "                 backend = \"vtk\"                # choose plotting backend\n",
      "                 )\n",
      "\n"
     ]
    }
   ],
   "source": [
    "help(plot)"
   ]
  },
  {
   "cell_type": "code",
   "execution_count": 47,
   "metadata": {
    "collapsed": true
   },
   "outputs": [],
   "source": [
    "#mesh.meshes."
   ]
  },
  {
   "cell_type": "code",
   "execution_count": 109,
   "metadata": {
    "collapsed": false
   },
   "outputs": [],
   "source": [
    "\n"
   ]
  },
  {
   "cell_type": "code",
   "execution_count": 125,
   "metadata": {
    "collapsed": false
   },
   "outputs": [],
   "source": [
    "uvals = eijFEM.vector().array()\n",
    "xyvals = mesh.coordinates()\n",
    "#xyvals = dofs_x\n",
    "xvals = xyvals[:,0]\n",
    "yvals= xyvals[:,1]\n",
    "\n",
    "xx = np.linspace(-2,2, 100)\n",
    "yy = np.linspace(0,1, 25)\n",
    "\n",
    "XX, YY = np.meshgrid(xx,yy)\n",
    "\n",
    "\n",
    "from scipy.interpolate import griddata\n",
    "uu = griddata(np.column_stack((xvals, yvals)), uvals, np.dstack((XX, XX)))\n",
    "\n",
    "uvals = eijFEM.vector().array()\n",
    "xyvals = mesh.coordinates()\n",
    "#xyvals = dofs_x\n",
    "xvals = xyvals[:,0]\n",
    "yvals= xyvals[:,1]\n",
    "\n",
    "xx = np.linspace(-2,2, 100)\n",
    "yy = np.linspace(0,1, 25)\n",
    "\n",
    "XX, YY = np.meshgrid(xx,yy)\n"
   ]
  },
  {
   "cell_type": "code",
   "execution_count": null,
   "metadata": {
    "collapsed": true
   },
   "outputs": [],
   "source": []
  },
  {
   "cell_type": "code",
   "execution_count": null,
   "metadata": {
    "collapsed": false
   },
   "outputs": [],
   "source": [
    "# =============================================================================\n",
    "# Picard iterations\n",
    "# =============================================================================\n",
    "\n",
    "import numpy as np\n",
    "\n",
    "#u_k = interpolate(Constant(0.0, 0.0), V)  # previous (known) u\n",
    "u = Function(W)\n",
    "u_k = Function(W) ;\n",
    "u_k.interpolate(u_init)\n",
    "eps = 1.0           # error measure ||u-u_k||\n",
    "tol = 1.0E-5        # tolerance\n",
    "iter = 0            # iteration counter\n",
    "maxiter = 2        # max no of iterations allowed\n",
    "while eps > tol and iter < maxiter:\n",
    "    \n",
    "    a = 2.*viscosity(u_k)*inner(grad(v), grad(omega))*dx \\\n",
    "    - p*div(omega)*dx + div(v)*phi*dx\n",
    "    \n",
    "    L = density*inner(ez, omega)*dx\n",
    "    #solve(a == L, u, bcs_W)\n",
    "\n",
    "    u_k.assign(u)\n",
    "    \n",
    "    \n",
    "    #diff = u.vector().array() - u_k.vector().array()\n",
    "    #eps = numpy.linalg.norm(diff, ord=numpy.Inf)\n",
    "    #print 'iter=%d: norm=%g' % (iter, eps)\n",
    "    #u_k.assign(u)   # update for next iteration\n",
    "    \n"
   ]
  }
 ],
 "metadata": {
  "kernelspec": {
   "display_name": "Python 2",
   "language": "python",
   "name": "python2"
  },
  "language_info": {
   "codemirror_mode": {
    "name": "ipython",
    "version": 2
   },
   "file_extension": ".py",
   "mimetype": "text/x-python",
   "name": "python",
   "nbconvert_exporter": "python",
   "pygments_lexer": "ipython2",
   "version": "2.7.12"
  }
 },
 "nbformat": 4,
 "nbformat_minor": 1
}
