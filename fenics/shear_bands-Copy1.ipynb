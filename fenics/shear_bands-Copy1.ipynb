{
 "cells": [
  {
   "cell_type": "code",
   "execution_count": 111,
   "metadata": {
    "collapsed": false
   },
   "outputs": [],
   "source": [
    "from __future__ import division\n",
    "from dolfin import *\n",
    "import math\n",
    "import numpy as np\n",
    "\n",
    "\n",
    "#!sudo pip2.7 install easydict\n",
    "from easydict import EasyDict as edict\n",
    "\n",
    "%matplotlib inline"
   ]
  },
  {
   "cell_type": "code",
   "execution_count": 112,
   "metadata": {
    "collapsed": true
   },
   "outputs": [],
   "source": [
    "# =============================================================================\n",
    "# CONSTANTS and PARAMETERS\n",
    "# =============================================================================\n",
    "\n",
    "ndp = edict({'U': 1.0,\n",
    " 'asthenosphere': 0.0,\n",
    " 'cohesion': 0.21023999999999998,\n",
    " 'eta1': 1000.0000000000001,\n",
    " 'eta2': 0.01,\n",
    " 'fa': 0.4663076581549986,\n",
    " 'g': 1.0,\n",
    " 'rho': 1.3921567199999998})"
   ]
  },
  {
   "cell_type": "code",
   "execution_count": 113,
   "metadata": {
    "collapsed": false
   },
   "outputs": [],
   "source": [
    "# =============================================================================\n",
    "# MESH\n",
    "# =============================================================================\n",
    "\n",
    "#width, height = 4, 1 # domain width and height\n",
    "# option \"crossed\" stands for crossed diagonals (number of elements=XDIV*ZDIV*4)\n",
    "mesh = RectangleMesh(Point(-2, 0), Point(2.0, 1.0), 128, 32, \"crossed\")\n",
    "cell = triangle\n",
    "norm = FacetNormal(mesh) # definition of an outer normal\n",
    "\n",
    "ez = Constant((0, -1)) #gravity vector\n",
    "\n"
   ]
  },
  {
   "cell_type": "code",
   "execution_count": 114,
   "metadata": {
    "collapsed": false
   },
   "outputs": [
    {
     "data": {
      "text/plain": [
       "array([[-2.      ,  0.      ],\n",
       "       [-1.96875 ,  0.      ],\n",
       "       [-1.9375  ,  0.      ],\n",
       "       ..., \n",
       "       [ 1.921875,  0.984375],\n",
       "       [ 1.953125,  0.984375],\n",
       "       [ 1.984375,  0.984375]])"
      ]
     },
     "execution_count": 114,
     "metadata": {},
     "output_type": "execute_result"
    }
   ],
   "source": [
    "coords = mesh.coordinates()\n",
    "coords"
   ]
  },
  {
   "cell_type": "code",
   "execution_count": 115,
   "metadata": {
    "collapsed": false
   },
   "outputs": [],
   "source": [
    "# =============================================================================\n",
    "# FUNCTIONAL SET-UP\n",
    "# =============================================================================\n",
    "# Taylor-Hood elements: linear Lagrange elements for pressure\n",
    "# and quadratic Lagrange elements for velocity\n",
    "#P = FunctionSpace(mesh, \"Lagrange\", 1)\n",
    "#V = VectorFunctionSpace(mesh, \"Lagrange\", 2)\n",
    "#W = MixedFunctionSpace([P, V])"
   ]
  },
  {
   "cell_type": "code",
   "execution_count": 116,
   "metadata": {
    "collapsed": false
   },
   "outputs": [],
   "source": [
    "# =============================================================================\n",
    "# Define function spaces\n",
    "# =============================================================================\n",
    "\n",
    "V = VectorElement(\"Lagrange\", mesh.ufl_cell(), 2)\n",
    "P = FiniteElement(\"Lagrange\", mesh.ufl_cell(), 1)\n",
    "\n",
    "#V = VectorElement('P', tetrahedron, 2)\n",
    "#P = FiniteElement('P', tetrahedron, 1)\n",
    "\n",
    "TH = V * P\n",
    "W = FunctionSpace(mesh, TH)"
   ]
  },
  {
   "cell_type": "code",
   "execution_count": 117,
   "metadata": {
    "collapsed": false
   },
   "outputs": [],
   "source": [
    "# Define test functions\n",
    "#w = TestFunction(W)\n",
    "#omega, phi = split(w)"
   ]
  },
  {
   "cell_type": "code",
   "execution_count": 118,
   "metadata": {
    "collapsed": true
   },
   "outputs": [],
   "source": [
    "# Define solution functions - current solution\n",
    "#u = Function(W)\n",
    "#v, p = split(u)"
   ]
  },
  {
   "cell_type": "code",
   "execution_count": 119,
   "metadata": {
    "collapsed": true
   },
   "outputs": [],
   "source": [
    "w = Function ( W )\n",
    "\n",
    "(u , p ) = split ( w )\n",
    "(v , q ) = TestFunctions ( W )"
   ]
  },
  {
   "cell_type": "code",
   "execution_count": 120,
   "metadata": {
    "collapsed": false
   },
   "outputs": [],
   "source": [
    "#plot(v, interactive=True)\n"
   ]
  },
  {
   "cell_type": "code",
   "execution_count": 121,
   "metadata": {
    "collapsed": false
   },
   "outputs": [
    {
     "data": {
      "text/plain": [
       "(1000.0000000000001, 0.01)"
      ]
     },
     "execution_count": 121,
     "metadata": {},
     "output_type": "execute_result"
    }
   ],
   "source": [
    "ndp.eta1, ndp.eta2"
   ]
  },
  {
   "cell_type": "code",
   "execution_count": 122,
   "metadata": {
    "collapsed": false
   },
   "outputs": [
    {
     "data": {
      "text/plain": [
       "(1000.0000000000001, 0.01)"
      ]
     },
     "execution_count": 122,
     "metadata": {},
     "output_type": "execute_result"
    }
   ],
   "source": [
    "# =============================================================================\n",
    "# INITIAL CONDITIONS - & Material distribution\n",
    "# =============================================================================\n",
    "u_init = Expression((\"0\", \"0\",\"0\"), degree=2) # zero\n",
    "\n",
    "\n",
    "density=Constant(ndp.rho)\n",
    "\n",
    "\n",
    "tol = 1e-14\n",
    "\n",
    "eta_1 = ndp.eta1\n",
    "eta_2 = ndp.eta2\n",
    "\n",
    "notchWidth = 1./16\n",
    "\n",
    "#Fast but opaque C++ string, \n",
    "#eta = Expression('x[1] < 1./16 + tol && x[0] < 1./16 && x[0] > -1./16 ? eta_1 : eta_2', degree=0,\n",
    "#               tol=tol, eta_1=eta_1, eta_2=eta_2)\n",
    "\n",
    "\n",
    "class Eta(Expression):\n",
    "    def set_eta_values(self, eta_1, eta_2):\n",
    "        self.eta_1, self.eta_2 = eta_1, eta_2\n",
    "    def eval(self, value, x):\n",
    "        \"Set value[0] to value at point x\"\n",
    "        tol = 1E-14\n",
    "        if (x[1] < 1./16 + tol) and (x[0] <= 1./16 + tol ) and (x[0] >= -1./16 + tol ):\n",
    "        #if (x[1] < 1./16 + tol) and (x[0] <= 1./16 + tol ) :\n",
    "            value[0] = self.eta_2\n",
    "        else:\n",
    "            value[0] = self.eta_1\n",
    "# Initialize kappa\n",
    "etaExpr = Eta(degree=1)\n",
    "etaExpr.set_eta_values(ndp.eta1, eta_2)\n",
    "etaExpr.eta_1, etaExpr.eta_2"
   ]
  },
  {
   "cell_type": "code",
   "execution_count": 123,
   "metadata": {
    "collapsed": false
   },
   "outputs": [
    {
     "data": {
      "text/plain": [
       "<matplotlib.tri.tricontour.TriContourSet at 0x7fe07990cb90>"
      ]
     },
     "execution_count": 123,
     "metadata": {},
     "output_type": "execute_result"
    },
    {
     "data": {
      "image/png": "[encoded data removed]",
      "text/plain": [
       "<matplotlib.figure.Figure at 0x7fe07bd1b150>"
      ]
     },
     "metadata": {},
     "output_type": "display_data"
    }
   ],
   "source": [
    "# =============================================================================\n",
    "# Plotting expressions\n",
    "# =============================================================================\n",
    "\n",
    "\n",
    "X = FunctionSpace(mesh, P)\n",
    "\n",
    "f = Function(X)\n",
    "f.interpolate(etaExpr)\n",
    "plot(f )"
   ]
  },
  {
   "cell_type": "code",
   "execution_count": 124,
   "metadata": {
    "collapsed": false
   },
   "outputs": [],
   "source": [
    "# =============================================================================\n",
    "# BOUNDARY CONDITIONS\n",
    "# =============================================================================\n",
    "\n",
    "# Define boundaries\n",
    "def left(x):\n",
    "    return near(x[0], -2)\n",
    "\n",
    "def right(x):\n",
    "    return near(x[0], 2)\n",
    "\n",
    "\n",
    "def bottom(x):\n",
    "    return near(x[1], 0)\n",
    "\n",
    "def top(x):\n",
    "    return near(x[1], 1)\n",
    "\n",
    "\n",
    "\n",
    "\n",
    "noslip = Constant((0, 0))\n",
    "freeslip = Constant(0)\n",
    "leftBC = Constant((1.0, 0))\n",
    "rightBC = Constant((-1.0, 0))\n",
    "\n",
    "#W.sub(1) ~ Pressure DoFs\n",
    "#W.sub(0) ~ Vel DoFs\n",
    "\n",
    "\n",
    "bc_v_bot = DirichletBC(W.sub(0).sub(1), freeslip, bottom)\n",
    "bc_v_left = DirichletBC(W.sub(0), leftBC, left)\n",
    "bc_v_right = DirichletBC(W.sub(0), rightBC,right)\n",
    "\n",
    "\n",
    "# fixing the pressure at the top boundary\n",
    "\n",
    "bc_p = DirichletBC(W.sub(1),\n",
    "                    Expression(\"0\", degree=1),\n",
    "                    \"near(x[0],0) && near(x[1],0)\",\n",
    "                    method=\"pointwise\")\n",
    "\n",
    "\n",
    "# collection of BCs for mechanical part of the problem\n",
    "bcs_W = [bc_p, bc_v_bot, bc_v_left, bc_v_right]\n"
   ]
  },
  {
   "cell_type": "code",
   "execution_count": 125,
   "metadata": {
    "collapsed": false
   },
   "outputs": [],
   "source": [
    "# =============================================================================\n",
    "# Rheology\n",
    "# =============================================================================\n",
    "\n",
    "def eijeij(u):\n",
    "    \"\"\"calculate second invariant of the strainrate tensor\"\"\"\n",
    "    return sqrt(0.5*(inner(sym(nabla_grad(u)), sym(nabla_grad(u)))))\n",
    "\n",
    "def viscosity(w):\n",
    "    \n",
    "    u, p = w.split()\n",
    "    \n",
    "    viscosityl = ndp.eta1\n",
    "    viscosityp = 1e-10 + ndp.cohesion/(eijeij(u) + 1e-10)\n",
    "    return 1./(1./etaExpr + 1./viscosityp)\n",
    " \n",
    "    \n",
    "#our viscosity function will return a Fenics /UFl Exprssion\n",
    "#the expression must be projected to a finite element space before we can visualize it:    \n",
    "\n",
    "\n",
    "#vtest = viscosity(u)    \n",
    "V1 = FunctionSpace(mesh, 'P', 1)\n",
    "#vtest = project(vtest, V1)\n",
    "#plot(vtest, title='viscosity')\n",
    "#print(type(vtest))"
   ]
  },
  {
   "cell_type": "code",
   "execution_count": null,
   "metadata": {
    "collapsed": false
   },
   "outputs": [],
   "source": []
  },
  {
   "cell_type": "code",
   "execution_count": 127,
   "metadata": {
    "collapsed": false,
    "scrolled": true
   },
   "outputs": [],
   "source": [
    "# =============================================================================\n",
    "# Newton solver\n",
    "# =============================================================================\n",
    "\n",
    "# =============================================================================\n",
    "# WEAK FORMULATION\n",
    "# =============================================================================\n",
    "\n",
    "\n",
    "# Combined Stokes, continuitycontinuity equation\n",
    "#F = nabla_div(u)*q*dx + p*nabla_div(v)*dx \\\n",
    "#      - 2.*viscosity(w)*inner((nabla_grad(u)\n",
    "#      + transpose(nabla_grad(u))), transpose(nabla_grad(v)))*dx \\\n",
    "#      + density*inner(ez, v)*dx\n",
    "        \n",
    "    \n",
    "#the above symbolic weak form works, but we can formulate this more succinctly\n",
    "#https://fenicsproject.org/pub/course/lectures/2016-logg-chalmers-phdcourse/lecture_03_static_nonlinear_pdes.pdf\n",
    "\n",
    "\n",
    "#epsilon = 2*sym(grad(u))\n",
    "\n",
    "#F = (viscosity(w)*inner(epsilon, grad(v)) \\\n",
    "#    - div(u)*q - div(v)*p)*dx \\\n",
    "#    - density*inner(ez, v)*dx\n",
    "\n",
    "    \n",
    " \n",
    "#from spiegelman paper\n",
    "\n",
    "#bv = (inner(sym(grad(v)), 2.*viscosity(w)*sym(grad(u))) - div(v)*p - density*inner(ez, v))\n",
    "bv = (inner(sym(grad(v)), 2.*viscosity(w)*sym(grad(u))) - div(v)*p)\n",
    "bp = -q*div(u)\n",
    "\n",
    "\n",
    "rv = bv*dx\n",
    "rp = bp*dx\n",
    "\n",
    "F = rv + rp"
   ]
  },
  {
   "cell_type": "code",
   "execution_count": 128,
   "metadata": {
    "collapsed": false
   },
   "outputs": [
    {
     "name": "stdout",
     "output_type": "stream",
     "text": [
      "Calling FFC just-in-time (JIT) compiler, this may take some time.\n",
      "Calling FFC just-in-time (JIT) compiler, this may take some time.\n"
     ]
    },
    {
     "ename": "RuntimeError",
     "evalue": "\n\n*** -------------------------------------------------------------------------\n*** DOLFIN encountered an error. If you are not able to resolve this issue\n*** using the information listed below, you can ask for help at\n***\n***     fenics-support@googlegroups.com\n***\n*** Remember to include the error message listed below and, if possible,\n*** include a *minimal* running example to reproduce the error.\n***\n*** -------------------------------------------------------------------------\n*** Error:   Unable to solve nonlinear system with NewtonSolver.\n*** Reason:  Newton solver did not converge because maximum number of iterations reached.\n*** Where:   This error was encountered inside NewtonSolver.cpp.\n*** Process: 0\n*** \n*** DOLFIN version: 2016.2.0\n*** Git changeset:  0f003bc07ee5fd583fb956245016d5972b80fea1\n*** -------------------------------------------------------------------------\n",
     "output_type": "error",
     "traceback": [
      "\u001b[0;31m\u001b[0m",
      "\u001b[0;31mRuntimeError\u001b[0mTraceback (most recent call last)",
      "\u001b[0;32m<ipython-input-128-5b30cb276dde>\u001b[0m in \u001b[0;36m<module>\u001b[0;34m()\u001b[0m\n\u001b[1;32m      1\u001b[0m \u001b[0;31m# Solve problem\u001b[0m\u001b[0;34m\u001b[0m\u001b[0;34m\u001b[0m\u001b[0m\n\u001b[0;32m----> 2\u001b[0;31m \u001b[0msolve\u001b[0m \u001b[0;34m(\u001b[0m \u001b[0mF\u001b[0m \u001b[0;34m==\u001b[0m \u001b[0;36m0\u001b[0m \u001b[0;34m,\u001b[0m \u001b[0mw\u001b[0m \u001b[0;34m,\u001b[0m \u001b[0mbcs_W\u001b[0m \u001b[0;34m)\u001b[0m\u001b[0;34m\u001b[0m\u001b[0m\n\u001b[0m",
      "\u001b[0;32m/usr/local/lib/python2.7/dist-packages/dolfin/fem/solving.py\u001b[0m in \u001b[0;36msolve\u001b[0;34m(*args, **kwargs)\u001b[0m\n\u001b[1;32m    298\u001b[0m     \u001b[0;31m# tolerance)\u001b[0m\u001b[0;34m\u001b[0m\u001b[0;34m\u001b[0m\u001b[0m\n\u001b[1;32m    299\u001b[0m     \u001b[0;32melif\u001b[0m \u001b[0misinstance\u001b[0m\u001b[0;34m(\u001b[0m\u001b[0margs\u001b[0m\u001b[0;34m[\u001b[0m\u001b[0;36m0\u001b[0m\u001b[0;34m]\u001b[0m\u001b[0;34m,\u001b[0m \u001b[0mufl\u001b[0m\u001b[0;34m.\u001b[0m\u001b[0mclasses\u001b[0m\u001b[0;34m.\u001b[0m\u001b[0mEquation\u001b[0m\u001b[0;34m)\u001b[0m\u001b[0;34m:\u001b[0m\u001b[0;34m\u001b[0m\u001b[0m\n\u001b[0;32m--> 300\u001b[0;31m         \u001b[0m_solve_varproblem\u001b[0m\u001b[0;34m(\u001b[0m\u001b[0;34m*\u001b[0m\u001b[0margs\u001b[0m\u001b[0;34m,\u001b[0m \u001b[0;34m**\u001b[0m\u001b[0mkwargs\u001b[0m\u001b[0;34m)\u001b[0m\u001b[0;34m\u001b[0m\u001b[0m\n\u001b[0m\u001b[1;32m    301\u001b[0m \u001b[0;34m\u001b[0m\u001b[0m\n\u001b[1;32m    302\u001b[0m     \u001b[0;31m# Default case, just call the wrapped C++ solve function\u001b[0m\u001b[0;34m\u001b[0m\u001b[0;34m\u001b[0m\u001b[0m\n",
      "\u001b[0;32m/usr/local/lib/python2.7/dist-packages/dolfin/fem/solving.py\u001b[0m in \u001b[0;36m_solve_varproblem\u001b[0;34m(*args, **kwargs)\u001b[0m\n\u001b[1;32m    347\u001b[0m         \u001b[0msolver\u001b[0m \u001b[0;34m=\u001b[0m \u001b[0mNonlinearVariationalSolver\u001b[0m\u001b[0;34m(\u001b[0m\u001b[0mproblem\u001b[0m\u001b[0;34m)\u001b[0m\u001b[0;34m\u001b[0m\u001b[0m\n\u001b[1;32m    348\u001b[0m         \u001b[0msolver\u001b[0m\u001b[0;34m.\u001b[0m\u001b[0mparameters\u001b[0m\u001b[0;34m.\u001b[0m\u001b[0mupdate\u001b[0m\u001b[0;34m(\u001b[0m\u001b[0msolver_parameters\u001b[0m\u001b[0;34m)\u001b[0m\u001b[0;34m\u001b[0m\u001b[0m\n\u001b[0;32m--> 349\u001b[0;31m         \u001b[0msolver\u001b[0m\u001b[0;34m.\u001b[0m\u001b[0msolve\u001b[0m\u001b[0;34m(\u001b[0m\u001b[0;34m)\u001b[0m\u001b[0;34m\u001b[0m\u001b[0m\n\u001b[0m\u001b[1;32m    350\u001b[0m \u001b[0;34m\u001b[0m\u001b[0m\n\u001b[1;32m    351\u001b[0m \u001b[0;34m\u001b[0m\u001b[0m\n",
      "\u001b[0;31mRuntimeError\u001b[0m: \n\n*** -------------------------------------------------------------------------\n*** DOLFIN encountered an error. If you are not able to resolve this issue\n*** using the information listed below, you can ask for help at\n***\n***     fenics-support@googlegroups.com\n***\n*** Remember to include the error message listed below and, if possible,\n*** include a *minimal* running example to reproduce the error.\n***\n*** -------------------------------------------------------------------------\n*** Error:   Unable to solve nonlinear system with NewtonSolver.\n*** Reason:  Newton solver did not converge because maximum number of iterations reached.\n*** Where:   This error was encountered inside NewtonSolver.cpp.\n*** Process: 0\n*** \n*** DOLFIN version: 2016.2.0\n*** Git changeset:  0f003bc07ee5fd583fb956245016d5972b80fea1\n*** -------------------------------------------------------------------------\n"
     ]
    }
   ],
   "source": [
    "# Solve problem\n",
    "solve ( F == 0 , w , bcs_W )"
   ]
  },
  {
   "cell_type": "code",
   "execution_count": 129,
   "metadata": {
    "collapsed": false
   },
   "outputs": [
    {
     "data": {
      "image/png": "[encoded data removed]",
      "text/plain": [
       "<matplotlib.figure.Figure at 0x7fe079cdfe90>"
      ]
     },
     "metadata": {},
     "output_type": "display_data"
    }
   ],
   "source": [
    "# NBVAL_IGNORE_OUTPUT\n",
    "\n",
    "u, p = w.split()\n",
    "axes = plot(p)\n"
   ]
  },
  {
   "cell_type": "code",
   "execution_count": 130,
   "metadata": {
    "collapsed": false
   },
   "outputs": [
    {
     "name": "stdout",
     "output_type": "stream",
     "text": [
      "Norm of velocity coefficient vector: 157.939531947778\n",
      "Norm of pressure coefficient vector: 41.687059968099\n"
     ]
    }
   ],
   "source": [
    "# Split the mixed solution using deepcopy\n",
    "# (needed for further computation on coefficient vector)\n",
    "(u, p) = w.split(True)\n",
    "\n",
    "print(\"Norm of velocity coefficient vector: %.15g\" % u.vector().norm(\"l2\"))\n",
    "print(\"Norm of pressure coefficient vector: %.15g\" % p.vector().norm(\"l2\"))"
   ]
  },
  {
   "cell_type": "code",
   "execution_count": 131,
   "metadata": {
    "collapsed": true
   },
   "outputs": [],
   "source": [
    "File('u.pvd') << u\n",
    "File('p.pvd') << p"
   ]
  },
  {
   "cell_type": "code",
   "execution_count": 71,
   "metadata": {
    "collapsed": true
   },
   "outputs": [],
   "source": [
    "J_W = derivative(F, w)\n",
    "# create nonlinear problem\n",
    "problem_W = NonlinearVariationalProblem(F, w, bcs_W, J_W)\n",
    "solver_W = NonlinearVariationalSolver(problem_W)\n",
    "prm_W = solver_W.parameters\n",
    "# Newton solver parameters (mechanical part of the problem)\n",
    "prm_W[\"newton_solver\"][\"relative_tolerance\"] = 1E-7\n",
    "#prm_W[\"newton_solver\"][\"absolute_tolerance\"] = 1E-2\n",
    "prm_W[\"newton_solver\"][\"maximum_iterations\"] = 5\n",
    "prm_W[\"newton_solver\"][\"relaxation_parameter\"] = 1.0\n",
    "#prm_W[\"newton_solver\"][\"convergence_criterion\"] = 'incremental'\n",
    "prm_W[\"newton_solver\"][\"convergence_criterion\"] = \"residual\"\n",
    "\n",
    "prm_W[\"newton_solver\"][\"linear_solver\"] = \"mumps\"\n",
    "set_log_level(PROGRESS)"
   ]
  },
  {
   "cell_type": "code",
   "execution_count": 72,
   "metadata": {
    "collapsed": true
   },
   "outputs": [],
   "source": [
    "info(prm_W, True)\n"
   ]
  },
  {
   "cell_type": "code",
   "execution_count": 73,
   "metadata": {
    "collapsed": false
   },
   "outputs": [
    {
     "ename": "RuntimeError",
     "evalue": "\n\n*** -------------------------------------------------------------------------\n*** DOLFIN encountered an error. If you are not able to resolve this issue\n*** using the information listed below, you can ask for help at\n***\n***     fenics-support@googlegroups.com\n***\n*** Remember to include the error message listed below and, if possible,\n*** include a *minimal* running example to reproduce the error.\n***\n*** -------------------------------------------------------------------------\n*** Error:   Unable to solve nonlinear system with NewtonSolver.\n*** Reason:  Newton solver did not converge because maximum number of iterations reached.\n*** Where:   This error was encountered inside NewtonSolver.cpp.\n*** Process: 0\n*** \n*** DOLFIN version: 2016.2.0\n*** Git changeset:  0f003bc07ee5fd583fb956245016d5972b80fea1\n*** -------------------------------------------------------------------------\n",
     "output_type": "error",
     "traceback": [
      "\u001b[0;31m\u001b[0m",
      "\u001b[0;31mRuntimeError\u001b[0mTraceback (most recent call last)",
      "\u001b[0;32m<ipython-input-73-3de510462756>\u001b[0m in \u001b[0;36m<module>\u001b[0;34m()\u001b[0m\n\u001b[1;32m      3\u001b[0m \u001b[0mv\u001b[0m\u001b[0;34m,\u001b[0m \u001b[0mp\u001b[0m \u001b[0;34m=\u001b[0m \u001b[0mw\u001b[0m\u001b[0;34m.\u001b[0m\u001b[0msplit\u001b[0m\u001b[0;34m(\u001b[0m\u001b[0;34m)\u001b[0m\u001b[0;34m\u001b[0m\u001b[0m\n\u001b[1;32m      4\u001b[0m \u001b[0;31m#info(\"Solve momentum equation\")\u001b[0m\u001b[0;34m\u001b[0m\u001b[0;34m\u001b[0m\u001b[0m\n\u001b[0;32m----> 5\u001b[0;31m \u001b[0msolver_W\u001b[0m\u001b[0;34m.\u001b[0m\u001b[0msolve\u001b[0m\u001b[0;34m(\u001b[0m\u001b[0;34m)\u001b[0m\u001b[0;34m\u001b[0m\u001b[0m\n\u001b[0m",
      "\u001b[0;31mRuntimeError\u001b[0m: \n\n*** -------------------------------------------------------------------------\n*** DOLFIN encountered an error. If you are not able to resolve this issue\n*** using the information listed below, you can ask for help at\n***\n***     fenics-support@googlegroups.com\n***\n*** Remember to include the error message listed below and, if possible,\n*** include a *minimal* running example to reproduce the error.\n***\n*** -------------------------------------------------------------------------\n*** Error:   Unable to solve nonlinear system with NewtonSolver.\n*** Reason:  Newton solver did not converge because maximum number of iterations reached.\n*** Where:   This error was encountered inside NewtonSolver.cpp.\n*** Process: 0\n*** \n*** DOLFIN version: 2016.2.0\n*** Git changeset:  0f003bc07ee5fd583fb956245016d5972b80fea1\n*** -------------------------------------------------------------------------\n"
     ]
    }
   ],
   "source": [
    "# initializing velocity-pressure\n",
    "w.interpolate(u_init)\n",
    "v, p = w.split()\n",
    "#info(\"Solve momentum equation\")\n",
    "solver_W.solve()"
   ]
  },
  {
   "cell_type": "code",
   "execution_count": 100,
   "metadata": {
    "collapsed": false
   },
   "outputs": [],
   "source": [
    "\n",
    "u, p = w.split()"
   ]
  },
  {
   "cell_type": "code",
   "execution_count": 101,
   "metadata": {
    "collapsed": false
   },
   "outputs": [
    {
     "data": {
      "text/plain": [
       "<matplotlib.tri.tricontour.TriContourSet at 0x7fb5e4c27590>"
      ]
     },
     "execution_count": 101,
     "metadata": {},
     "output_type": "execute_result"
    },
    {
     "data": {
      "image/png": "[encoded data removed]",
      "text/plain": [
       "<matplotlib.figure.Figure at 0x7fb5e3463350>"
      ]
     },
     "metadata": {},
     "output_type": "display_data"
    }
   ],
   "source": [
    "plot(p, scalarbar = True )"
   ]
  },
  {
   "cell_type": "code",
   "execution_count": 102,
   "metadata": {
    "collapsed": false
   },
   "outputs": [],
   "source": [
    "#plot(mesh, title=\"Finite element mesh\")\n",
    "#plot(v,scale = 0.2)"
   ]
  },
  {
   "cell_type": "code",
   "execution_count": 103,
   "metadata": {
    "collapsed": false
   },
   "outputs": [
    {
     "data": {
      "text/plain": [
       "<matplotlib.tri.tricontour.TriContourSet at 0x7fb5e4644590>"
      ]
     },
     "execution_count": 103,
     "metadata": {},
     "output_type": "execute_result"
    },
    {
     "data": {
      "image/png": "[encoded data removed]",
      "text/plain": [
       "<matplotlib.figure.Figure at 0x7fb5e46c4790>"
      ]
     },
     "metadata": {},
     "output_type": "display_data"
    }
   ],
   "source": [
    "#Plot strain rate tensor components\n",
    "\n",
    "W2 = TensorFunctionSpace(mesh, \"Lagrange\", 2)\n",
    "sigma_w = project(sym(nabla_grad(u)), W2)\n",
    "\n",
    "#sym(nabla_grad(v)\n",
    "plot(sigma_w[0, 0], interactive=True) "
   ]
  },
  {
   "cell_type": "code",
   "execution_count": 104,
   "metadata": {
    "collapsed": false
   },
   "outputs": [
    {
     "data": {
      "text/plain": [
       "<matplotlib.tri.tricontour.TriContourSet at 0x7fb5e44f1d50>"
      ]
     },
     "execution_count": 104,
     "metadata": {},
     "output_type": "execute_result"
    },
    {
     "data": {
      "image/png": "[encoded data removed]",
      "text/plain": [
       "<matplotlib.figure.Figure at 0x7fb5e46c4d10>"
      ]
     },
     "metadata": {},
     "output_type": "display_data"
    }
   ],
   "source": [
    "#Plot strain rate invariant components\n",
    "#not we don't have to project this guy\n",
    "\n",
    "eij =  sqrt(0.5*(inner(sym(nabla_grad(u)), sym(nabla_grad(u)))))\n",
    "plot(eij , interactive=True, scalarbar = True ) "
   ]
  },
  {
   "cell_type": "code",
   "execution_count": 108,
   "metadata": {
    "collapsed": false
   },
   "outputs": [],
   "source": [
    "#But we do need to project it to get it values at nodes\n",
    "eijFEM = project(eij , V1)\n",
    "\n"
   ]
  },
  {
   "cell_type": "code",
   "execution_count": 34,
   "metadata": {
    "collapsed": true
   },
   "outputs": [],
   "source": [
    "from IPython.display import HTML"
   ]
  },
  {
   "cell_type": "code",
   "execution_count": 42,
   "metadata": {
    "collapsed": false
   },
   "outputs": [],
   "source": [
    "#HTML(X3DOM().html(v ))"
   ]
  },
  {
   "cell_type": "code",
   "execution_count": 179,
   "metadata": {
    "collapsed": true
   },
   "outputs": [],
   "source": [
    "info(prm_W, True)"
   ]
  },
  {
   "cell_type": "code",
   "execution_count": 180,
   "metadata": {
    "collapsed": false
   },
   "outputs": [
    {
     "name": "stdout",
     "output_type": "stream",
     "text": [
      "residual: 0.616968884074\n"
     ]
    }
   ],
   "source": [
    "#bc.homogenize()\n",
    "b = assemble(F_W)\n",
    "#bc.apply(b)\n",
    "print('residual: {0}'.format(b.norm('l2')))"
   ]
  },
  {
   "cell_type": "code",
   "execution_count": 159,
   "metadata": {
    "collapsed": false
   },
   "outputs": [
    {
     "name": "stdout",
     "output_type": "stream",
     "text": [
      "residual: 0.618680716571\n"
     ]
    }
   ],
   "source": [
    "#bcs_W.homogenize()\n",
    "b = assemble(F_W)\n",
    "#bcs_W.apply(b)\n",
    "print('residual: {0}'.format(b.norm('l2')))"
   ]
  },
  {
   "cell_type": "code",
   "execution_count": 160,
   "metadata": {
    "collapsed": false
   },
   "outputs": [
    {
     "data": {
      "text/plain": [
       "0.1239"
      ]
     },
     "execution_count": 160,
     "metadata": {},
     "output_type": "execute_result"
    }
   ],
   "source": [
    "1.239e-01"
   ]
  },
  {
   "cell_type": "code",
   "execution_count": 109,
   "metadata": {
    "collapsed": false
   },
   "outputs": [],
   "source": [
    "# Save solution to file\n",
    "u, p = w.split()\n",
    "File('u.pvd') << u\n",
    "File('p.pvd') << p\n",
    "#File('mesh.pvd') << mesh\n",
    "File('eij.pvd') << eijFEM"
   ]
  },
  {
   "cell_type": "code",
   "execution_count": 224,
   "metadata": {
    "collapsed": false
   },
   "outputs": [
    {
     "name": "stdout",
     "output_type": "stream",
     "text": [
      "Untitled.ipynb  mesh000000.vtu  p000000.vtu  u000000.vtu  v000000.vtu\r\n",
      "mesh.pvd        p.pvd           u.pvd        v.pvd\r\n"
     ]
    }
   ],
   "source": [
    "ls"
   ]
  },
  {
   "cell_type": "code",
   "execution_count": 266,
   "metadata": {
    "collapsed": false
   },
   "outputs": [
    {
     "name": "stdout",
     "output_type": "stream",
     "text": [
      "Help on function plot in module dolfin.common.plotting:\n",
      "\n",
      "plot(object, *args, **kwargs)\n",
      "    Plot given object.\n",
      "    \n",
      "    *Arguments*\n",
      "        object\n",
      "            a :py:class:`Mesh <dolfin.cpp.Mesh>`, a :py:class:`MeshFunction\n",
      "            <dolfin.cpp.MeshFunction>`, a :py:class:`Function\n",
      "            <dolfin.functions.function.Function>`, a :py:class:`Expression`\n",
      "            <dolfin.cpp.Expression>, a :py:class:`DirichletBC`\n",
      "            <dolfin.cpp.DirichletBC>, a :py:class:`FiniteElement\n",
      "            <ufl.FiniteElement>`, or a :py:class:`MultiMesh\n",
      "            <dolfin.cpp.MultiMesh>`.\n",
      "    \n",
      "    *Examples of usage*\n",
      "        In the simplest case, to plot only e.g. a mesh, simply use\n",
      "    \n",
      "        .. code-block:: python\n",
      "    \n",
      "            mesh = UnitSquare(4,4)\n",
      "            plot(mesh)\n",
      "    \n",
      "        Use the ``title`` argument to specify title of the plot\n",
      "    \n",
      "        .. code-block:: python\n",
      "    \n",
      "            plot(mesh, tite=\"Finite element mesh\")\n",
      "    \n",
      "        It is also possible to plot an element\n",
      "    \n",
      "        .. code-block:: python\n",
      "    \n",
      "            element = FiniteElement(\"BDM\", tetrahedron, 3)\n",
      "            plot(element)\n",
      "    \n",
      "        Vector valued functions can be visualized with an alternative mode\n",
      "    \n",
      "        .. code-block:: python\n",
      "    \n",
      "            plot(u, mode = \"glyphs\")\n",
      "    \n",
      "        A more advanced example\n",
      "    \n",
      "        .. code-block:: python\n",
      "    \n",
      "            plot(u,\n",
      "                 wireframe = True,              # use wireframe rendering\n",
      "                 interactive = False,           # do not hold plot on screen\n",
      "                 scalarbar = False,             # hide the color mapping bar\n",
      "                 hardcopy_prefix = \"myplot\",    # default plotfile name\n",
      "                 scale = 2.0,                   # scale the warping/glyphs\n",
      "                 title = \"Fancy plot\",          # set your own title\n",
      "                 backend = \"vtk\"                # choose plotting backend\n",
      "                 )\n",
      "\n"
     ]
    }
   ],
   "source": [
    "help(plot)"
   ]
  },
  {
   "cell_type": "code",
   "execution_count": 47,
   "metadata": {
    "collapsed": true
   },
   "outputs": [],
   "source": [
    "#mesh.meshes."
   ]
  },
  {
   "cell_type": "code",
   "execution_count": 109,
   "metadata": {
    "collapsed": false
   },
   "outputs": [],
   "source": [
    "\n"
   ]
  },
  {
   "cell_type": "code",
   "execution_count": 125,
   "metadata": {
    "collapsed": false
   },
   "outputs": [],
   "source": [
    "uvals = eijFEM.vector().array()\n",
    "xyvals = mesh.coordinates()\n",
    "#xyvals = dofs_x\n",
    "xvals = xyvals[:,0]\n",
    "yvals= xyvals[:,1]\n",
    "\n",
    "xx = np.linspace(-2,2, 100)\n",
    "yy = np.linspace(0,1, 25)\n",
    "\n",
    "XX, YY = np.meshgrid(xx,yy)\n",
    "\n",
    "\n",
    "from scipy.interpolate import griddata\n",
    "uu = griddata(np.column_stack((xvals, yvals)), uvals, np.dstack((XX, XX)))\n",
    "\n",
    "uvals = eijFEM.vector().array()\n",
    "xyvals = mesh.coordinates()\n",
    "#xyvals = dofs_x\n",
    "xvals = xyvals[:,0]\n",
    "yvals= xyvals[:,1]\n",
    "\n",
    "xx = np.linspace(-2,2, 100)\n",
    "yy = np.linspace(0,1, 25)\n",
    "\n",
    "XX, YY = np.meshgrid(xx,yy)\n"
   ]
  },
  {
   "cell_type": "code",
   "execution_count": null,
   "metadata": {
    "collapsed": true
   },
   "outputs": [],
   "source": []
  }
 ],
 "metadata": {
  "kernelspec": {
   "display_name": "Python 2",
   "language": "python",
   "name": "python2"
  },
  "language_info": {
   "codemirror_mode": {
    "name": "ipython",
    "version": 2
   },
   "file_extension": ".py",
   "mimetype": "text/x-python",
   "name": "python",
   "nbconvert_exporter": "python",
   "pygments_lexer": "ipython2",
   "version": "2.7.12"
  }
 },
 "nbformat": 4,
 "nbformat_minor": 1
}
